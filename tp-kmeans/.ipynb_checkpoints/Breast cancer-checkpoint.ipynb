{
 "cells": [
  {
   "cell_type": "markdown",
   "metadata": {},
   "source": [
    "# TP K-modes\n",
    "\n",
    "\n",
    "\n",
    "# K-modes\n",
    "\n",
    "**Problème avec le K-means:** le K-Means ne peuvent pas gérer les données catégoriques, car il minimise explicitement la variance intra-cluster (distances au carré de la moyenne) comme défini dans l'espace euclidien. \n",
    "\n",
    "**=> le K-modes comme alternative**\n",
    "\n",
    "Tandis que le K-Means calcule la distance euclidienne entre deux points, le K-Modes tente de minimiser une mesure de dissimilarité: il compte le nombre de \"features\" qui ne sont pas les mêmes. En utilisant des modes au lieu de moyens, K-Modes devient capable de gérer efficacement des données catégorielles.\n",
    "\n",
    "## Algorithme:\n",
    "\n",
    "**Définition du mode cluster:** si un jeu de données possède m attributs catégoriels, le vecteur mode Z est constitué de m valeurs catégorielles, chacune étant le mode d'un attribut.\n",
    "\n",
    "1. Sélectionnez k modes initiaux, un pour chaque cluster.\n",
    "2. Allouez un objet au cluster dont le mode est le plus proche en fonction de la distance de Hamming (La distance de Hamming entre deux lignes est simplement le nombre de colonnes où les deux lignes diffèrent). Mettez à jour le mode du cluster après chaque allocation.\n",
    "3. Une fois que tous les objets ont été attribués aux clusters, testez à nouveau la dissemblance des objets par rapport aux modes actuels. Si un objet est trouvé de telle sorte que son mode le plus proche appartient à un autre cluster plutôt que son cluster actuel, réattribuez l'objet à ce cluster et mettez à jour les modes des deux clusters.\n",
    "4. Répétez 3 jusqu'à ce qu'aucun objet n'ait changé de clusters après un test de cycle complet de l'ensemble de données.\n",
    "\n",
    "\n",
    "Introduits en 1998 par Zhehue Huang, les k-modes constituent une alternative indispensable aux k-means lorsque les données disponibles sont catégoriques plutôt que numériques : \n",
    "\n",
    "1. Utiliser une simple mesure de dissimilarité de correspondance pour les objets catégoriels,\n",
    "2. Remplacer les moyens des clusters par les modes\n",
    "3. Utiliser une méthode basée sur la fréquence pour actualiser les modes\n",
    "\n",
    "# Commenet ça marche ?\n",
    "\n",
    "La méthode a été prorposé pour la premiere fois par Chaturvedi et al en (2001). K-modes clustering. Soit $x_{11}, x_{12},...,x_{nm}$ l'ensemble de données constitué de n objets avec m attributs. L'objectif principal de l'algorithme de kmodes est de regrouper les objets de données X en K clusters en minimisant la fonction de coût suivantes.\n",
    "\n",
    "$$P(W,Q)=\\sum_{l=1}^{k}\\sum_{i=1}^{n}w_{il}d_{sim}(x_{i},q_{l})$$\n",
    "Where $w_{fl}$ is an $N*K$ matrix where each element belongs to 0 or 1. $N$ is the total number of data objects and k is number of clusters. $d_{sim}(x_{i},q_{l})$ est la mésure de dissmiliraté et elle définie ainsi \n",
    "$$d_{sim}(x_{i},q_{l})=\\sum_{j=1}^{m}\\delta (x_{lj,q_{lj}})$$.\n",
    "Le $\\delta (x_{lj,z_{lj}})$ qui est la dissimiliraté est caluclé ainsi :\n",
    "$$\\delta (x_{lj,q_{lj}}) = \\left\\{\\begin{matrix}\n",
    "1 & si & x_{lj}=q_{lj}   \\\\ \n",
    "0 & si & x_{lj}\\neq q_{lj}  \n",
    "\\end{matrix}\\right.$$\n",
    "\n",
    "# Déroulement de l'algorithme\n",
    "\n",
    "**Étape 1** : Sélectionner au hasard les K modes initiaux des objets de données de telle sorte que Cj, j = 1,2,...,K \n",
    "\n",
    "**Étape 2** : Trouver la dissimilitude correspondante entre les K modes initiaux de chaque grappe et chaque objet de données en utilisant l'équation (2).\n",
    "\n",
    "**Étape 3** : Évaluer l'adéquation à l'aide de l'équation (1)\n",
    "\n",
    "**Étape 4** : Trouver les objets les plus proches des modes de regroupement initiaux.\n",
    "\n",
    "**Étape 5** : Affecter les objets de données aux modes de centroïde de grappe les plus proches.\n",
    "\n",
    "**Étape 6** : Mettre à jour les modes en appliquant la méthode basée sur la fréquence aux grappes nouvellement formées. \n",
    "\n",
    "**Étape 7** : Répétez les étapes 2,3,4 et 5 jusqu'à ce qu'il n'y ait plus de changement dans le vaisseau des objets de données. \n",
    "\n",
    "**Sortie** : Objets de données en cluster"
   ]
  },
  {
   "cell_type": "markdown",
   "metadata": {},
   "source": [
    "# Implementaion de l'algorithme \n",
    "\n",
    "Nous avons impléménté l'algorithme et testé sur le jeud de donnée du dataset iris "
   ]
  },
  {
   "cell_type": "code",
   "execution_count": 27,
   "metadata": {},
   "outputs": [
    {
     "name": "stdout",
     "output_type": "stream",
     "text": [
      "[array([1, 1, 2, 1, 3]), array([3, 1, 1, 2, 1]), array([1, 2, 1, 2, 3])]\n",
      "[2, 1, 1, 0, 1, 0, 2, 0, 0, 0]\n",
      "--- 0.00893545150756836 seconds ---\n"
     ]
    }
   ],
   "source": [
    "\"\"\"\n",
    "KModes\n",
    "\n",
    "\"\"\"\n",
    "#imports\n",
    "import time\n",
    "import numpy as np\n",
    "from scipy import stats\n",
    "\n",
    "class K_modes:\n",
    "    def __init__(self,n_clusters):\n",
    "        self.n_clusters = n_clusters\n",
    "        self.modes = []\n",
    "        self.labels = []\n",
    "\n",
    "    def fit(self,X_train):\n",
    "        size = X_train.shape\n",
    "        self.labels = [0]*size[0]\n",
    "        #random selection of culster modes\n",
    "        modes = np.random.choice(size[1], self.n_clusters, replace=False)\n",
    "        not_stable = True\n",
    "        for element in modes:\n",
    "            self.modes.append(X_train[element])\n",
    "        \n",
    "\n",
    "        while not_stable : \n",
    "\n",
    "            #calculate the distances between the modes and all the individuals\n",
    "            for i in range (0,size[0]):\n",
    "                distance = [0]*self.n_clusters\n",
    "                for k in range (0,self.n_clusters):\n",
    "                    for j in range (0,size[1]):\n",
    "                        distance[k] = (distance[k] + 1) if X_train[i][j] != self.modes[k][j] else distance[k]\n",
    "\n",
    "            # assign the individual to the cluster with minimum distance \n",
    "                self.labels[i] = distance.index(min(distance))\n",
    "\n",
    "            #keep the old modes to compare later\n",
    "            modes_old = self.modes[:]\n",
    "\n",
    "            #claculate the new modes \n",
    "            for i in range (0,self.n_clusters):\n",
    "                self.modes[i] = stats.mode(X_train[np.array(self.labels) == i])[0][0]\n",
    "            \n",
    "            #check if changes occured to the modes\n",
    "            not_stable = False \n",
    "            for i in range (0,len(self.modes)):\n",
    "                if not(np.array_equal(self.modes[i],modes_old[i])):\n",
    "                    not_stable =  True\n",
    "\n",
    "        return self\n",
    "\n",
    "\n",
    "\n",
    "\n",
    "#test data \n",
    "data = np.array([[1,2,1,2,3],[1,1,1,2,2],\n",
    "                [3,1,2,2,1],[1,2,2,1,3],\n",
    "                [3,3,3,2,1],[1,1,1,1,2],\n",
    "                [1,3,1,3,3],[3,1,2,2,3],\n",
    "                [1,1,2,3,1],[1,2,2,1,3]])\n",
    "\n",
    "\n",
    "start_time = time.time()\n",
    "k = K_modes(3)\n",
    "k.fit(data)\n",
    "print(k.modes)\n",
    "print(k.labels)\n",
    "print(\"--- %s seconds ---\" % (time.time() - start_time))"
   ]
  },
  {
   "cell_type": "markdown",
   "metadata": {},
   "source": [
    "# Exploration du k-mode et comparaison avec k-means"
   ]
  },
  {
   "cell_type": "markdown",
   "metadata": {},
   "source": [
    "Dans cet exemple on déroule les deux algorithmes k-mode et k-means sur un dataset sur le cancer du sein collécté en 1988, le dataset ne contient que de variables qualitatifs, avec une colone **classe** no-recurrence-events et recurrence-events correspondant au fait qu'il s d'un cancer ou pas. On n'utilisera pas cette colonne en clustering mais pour comparer les algorithmes en clustering.\n",
    "On utilise dans cette partie une bibliotheque k-mode trés utilisé chez la communuté pour utilisé l'algorithme k-mode\n",
    "\n",
    "\n",
    "\n",
    "Le dataset contient 10 colonne : \n",
    "\n",
    "* **Class**: no-recurrence-events, recurrence-events\n",
    "* **age**: 10-19, 20-29, 30-39, 40-49, 50-59, 60-69, 70-79, 80-89, 90-99.\n",
    "* **menopause**: lt40, ge40, premeno.\n",
    "* **tumor-size**: 0-4, 5-9, 10-14, 15-19, 20-24, 25-29, 30-34, 35-39, 40-44, 45-49, 50-54, 55-59.\n",
    "* **inv-nodes**: 0-2, 3-5, 6-8, 9-11, 12-14, 15-17, 18-20, 21-23, 24-26, 27-29, 30-32, 33-35, 36-39.\n",
    "* **node-caps**: yes, no.\n",
    "* **deg-malig**: 1, 2, 3.\n",
    "* **breast**: left, right.\n",
    "* **breast-quad**: left-up, left-low, right-up, right-low, central.\n",
    "* **irradiat**: yes, no.\n",
    "\n",
    "\n",
    "   -- Matjaz Zwitter & Milan Soklic (physicians)\n",
    "      Institute of Oncology \n",
    "      University Medical Center\n",
    "      Ljubljana, Yugoslavia\n",
    "   -- Donors: Ming Tan and Jeff Schlimmer (Jeffrey.Schlimmer@a.gp.cs.cmu.edu)\n",
    "   -- Date: 11 July 1988\n",
    "   \n",
    "Dans ce cas les k-moyennes ne peuvent pas être utilisées avec cette matrice car elles minimisent explicitement la variance intra-groupe (distances au carré de la moyenne) telle que définie dans l'espace euclidien. En général, si les cluster doivent révéler quelque chose sur les données, les dimensions associées aux catégories ne doivent pas être forcées dans une représentation spatiale. Les marqueurs \"1\" et \"0\" doivent être correctement appelés \"Vrai\" et \"Faux\"."
   ]
  },
  {
   "cell_type": "code",
   "execution_count": 1,
   "metadata": {},
   "outputs": [],
   "source": [
    "import pandas as pd \n",
    "import time\n",
    "import seaborn as sns\n",
    "import numpy as np\n",
    "import matplotlib \n",
    "import matplotlib.pyplot as plt\n",
    "from sklearn import preprocessing\n",
    "from kmodes.kmodes import KModes"
   ]
  },
  {
   "cell_type": "code",
   "execution_count": 2,
   "metadata": {},
   "outputs": [
    {
     "data": {
      "text/html": [
       "<div>\n",
       "<style scoped>\n",
       "    .dataframe tbody tr th:only-of-type {\n",
       "        vertical-align: middle;\n",
       "    }\n",
       "\n",
       "    .dataframe tbody tr th {\n",
       "        vertical-align: top;\n",
       "    }\n",
       "\n",
       "    .dataframe thead th {\n",
       "        text-align: right;\n",
       "    }\n",
       "</style>\n",
       "<table border=\"1\" class=\"dataframe\">\n",
       "  <thead>\n",
       "    <tr style=\"text-align: right;\">\n",
       "      <th></th>\n",
       "      <th>age</th>\n",
       "      <th>menopause</th>\n",
       "      <th>tumor-size</th>\n",
       "      <th>inv-nodes</th>\n",
       "      <th>node-caps</th>\n",
       "      <th>deg-malig</th>\n",
       "      <th>breast</th>\n",
       "      <th>breast-quad</th>\n",
       "      <th>irradiat</th>\n",
       "      <th>Class</th>\n",
       "    </tr>\n",
       "  </thead>\n",
       "  <tbody>\n",
       "    <tr>\n",
       "      <th>0</th>\n",
       "      <td>'40-49'</td>\n",
       "      <td>'premeno'</td>\n",
       "      <td>'15-19'</td>\n",
       "      <td>'0-2'</td>\n",
       "      <td>'yes'</td>\n",
       "      <td>'3'</td>\n",
       "      <td>'right'</td>\n",
       "      <td>'left_up'</td>\n",
       "      <td>'no'</td>\n",
       "      <td>'recurrence-events'</td>\n",
       "    </tr>\n",
       "    <tr>\n",
       "      <th>1</th>\n",
       "      <td>'50-59'</td>\n",
       "      <td>'ge40'</td>\n",
       "      <td>'15-19'</td>\n",
       "      <td>'0-2'</td>\n",
       "      <td>'no'</td>\n",
       "      <td>'1'</td>\n",
       "      <td>'right'</td>\n",
       "      <td>'central'</td>\n",
       "      <td>'no'</td>\n",
       "      <td>'no-recurrence-events'</td>\n",
       "    </tr>\n",
       "    <tr>\n",
       "      <th>2</th>\n",
       "      <td>'50-59'</td>\n",
       "      <td>'ge40'</td>\n",
       "      <td>'35-39'</td>\n",
       "      <td>'0-2'</td>\n",
       "      <td>'no'</td>\n",
       "      <td>'2'</td>\n",
       "      <td>'left'</td>\n",
       "      <td>'left_low'</td>\n",
       "      <td>'no'</td>\n",
       "      <td>'recurrence-events'</td>\n",
       "    </tr>\n",
       "    <tr>\n",
       "      <th>3</th>\n",
       "      <td>'40-49'</td>\n",
       "      <td>'premeno'</td>\n",
       "      <td>'35-39'</td>\n",
       "      <td>'0-2'</td>\n",
       "      <td>'yes'</td>\n",
       "      <td>'3'</td>\n",
       "      <td>'right'</td>\n",
       "      <td>'left_low'</td>\n",
       "      <td>'yes'</td>\n",
       "      <td>'no-recurrence-events'</td>\n",
       "    </tr>\n",
       "    <tr>\n",
       "      <th>4</th>\n",
       "      <td>'40-49'</td>\n",
       "      <td>'premeno'</td>\n",
       "      <td>'30-34'</td>\n",
       "      <td>'3-5'</td>\n",
       "      <td>'yes'</td>\n",
       "      <td>'2'</td>\n",
       "      <td>'left'</td>\n",
       "      <td>'right_up'</td>\n",
       "      <td>'no'</td>\n",
       "      <td>'recurrence-events'</td>\n",
       "    </tr>\n",
       "  </tbody>\n",
       "</table>\n",
       "</div>"
      ],
      "text/plain": [
       "       age  menopause tumor-size inv-nodes node-caps deg-malig   breast  \\\n",
       "0  '40-49'  'premeno'    '15-19'     '0-2'     'yes'       '3'  'right'   \n",
       "1  '50-59'     'ge40'    '15-19'     '0-2'      'no'       '1'  'right'   \n",
       "2  '50-59'     'ge40'    '35-39'     '0-2'      'no'       '2'   'left'   \n",
       "3  '40-49'  'premeno'    '35-39'     '0-2'     'yes'       '3'  'right'   \n",
       "4  '40-49'  'premeno'    '30-34'     '3-5'     'yes'       '2'   'left'   \n",
       "\n",
       "  breast-quad irradiat                   Class  \n",
       "0   'left_up'     'no'     'recurrence-events'  \n",
       "1   'central'     'no'  'no-recurrence-events'  \n",
       "2  'left_low'     'no'     'recurrence-events'  \n",
       "3  'left_low'    'yes'  'no-recurrence-events'  \n",
       "4  'right_up'     'no'     'recurrence-events'  "
      ]
     },
     "execution_count": 2,
     "metadata": {},
     "output_type": "execute_result"
    }
   ],
   "source": [
    "#Chargement du dataset\n",
    "cols_names = ['age', 'menopause', 'tumor-size',\n",
    "              'inv-nodes', 'node-caps', 'deg-malig', 'breast',\n",
    "              'breast-quad', 'irradiat','Class']# read the data\n",
    "df = pd.read_csv('breast-cancer.csv',names=cols_names)\n",
    "for column in df.columns:\n",
    "    df[column]=df[column].astype(str)\n",
    "df.head()"
   ]
  },
  {
   "cell_type": "code",
   "execution_count": 3,
   "metadata": {},
   "outputs": [],
   "source": [
    "#On elimine la colonne classe et on garde que les autres columns pour le clustering\n",
    "y=df['Class']\n",
    "train_X = df.drop(columns='Class')"
   ]
  },
  {
   "cell_type": "code",
   "execution_count": 4,
   "metadata": {},
   "outputs": [
    {
     "data": {
      "text/html": [
       "<div>\n",
       "<style scoped>\n",
       "    .dataframe tbody tr th:only-of-type {\n",
       "        vertical-align: middle;\n",
       "    }\n",
       "\n",
       "    .dataframe tbody tr th {\n",
       "        vertical-align: top;\n",
       "    }\n",
       "\n",
       "    .dataframe thead th {\n",
       "        text-align: right;\n",
       "    }\n",
       "</style>\n",
       "<table border=\"1\" class=\"dataframe\">\n",
       "  <thead>\n",
       "    <tr style=\"text-align: right;\">\n",
       "      <th></th>\n",
       "      <th>age</th>\n",
       "      <th>menopause</th>\n",
       "      <th>tumor-size</th>\n",
       "      <th>inv-nodes</th>\n",
       "      <th>node-caps</th>\n",
       "      <th>deg-malig</th>\n",
       "      <th>breast</th>\n",
       "      <th>breast-quad</th>\n",
       "      <th>irradiat</th>\n",
       "    </tr>\n",
       "  </thead>\n",
       "  <tbody>\n",
       "    <tr>\n",
       "      <th>0</th>\n",
       "      <td>'40-49'</td>\n",
       "      <td>'premeno'</td>\n",
       "      <td>'15-19'</td>\n",
       "      <td>'0-2'</td>\n",
       "      <td>'yes'</td>\n",
       "      <td>'3'</td>\n",
       "      <td>'right'</td>\n",
       "      <td>'left_up'</td>\n",
       "      <td>'no'</td>\n",
       "    </tr>\n",
       "    <tr>\n",
       "      <th>1</th>\n",
       "      <td>'50-59'</td>\n",
       "      <td>'ge40'</td>\n",
       "      <td>'15-19'</td>\n",
       "      <td>'0-2'</td>\n",
       "      <td>'no'</td>\n",
       "      <td>'1'</td>\n",
       "      <td>'right'</td>\n",
       "      <td>'central'</td>\n",
       "      <td>'no'</td>\n",
       "    </tr>\n",
       "    <tr>\n",
       "      <th>2</th>\n",
       "      <td>'50-59'</td>\n",
       "      <td>'ge40'</td>\n",
       "      <td>'35-39'</td>\n",
       "      <td>'0-2'</td>\n",
       "      <td>'no'</td>\n",
       "      <td>'2'</td>\n",
       "      <td>'left'</td>\n",
       "      <td>'left_low'</td>\n",
       "      <td>'no'</td>\n",
       "    </tr>\n",
       "    <tr>\n",
       "      <th>3</th>\n",
       "      <td>'40-49'</td>\n",
       "      <td>'premeno'</td>\n",
       "      <td>'35-39'</td>\n",
       "      <td>'0-2'</td>\n",
       "      <td>'yes'</td>\n",
       "      <td>'3'</td>\n",
       "      <td>'right'</td>\n",
       "      <td>'left_low'</td>\n",
       "      <td>'yes'</td>\n",
       "    </tr>\n",
       "    <tr>\n",
       "      <th>4</th>\n",
       "      <td>'40-49'</td>\n",
       "      <td>'premeno'</td>\n",
       "      <td>'30-34'</td>\n",
       "      <td>'3-5'</td>\n",
       "      <td>'yes'</td>\n",
       "      <td>'2'</td>\n",
       "      <td>'left'</td>\n",
       "      <td>'right_up'</td>\n",
       "      <td>'no'</td>\n",
       "    </tr>\n",
       "  </tbody>\n",
       "</table>\n",
       "</div>"
      ],
      "text/plain": [
       "       age  menopause tumor-size inv-nodes node-caps deg-malig   breast  \\\n",
       "0  '40-49'  'premeno'    '15-19'     '0-2'     'yes'       '3'  'right'   \n",
       "1  '50-59'     'ge40'    '15-19'     '0-2'      'no'       '1'  'right'   \n",
       "2  '50-59'     'ge40'    '35-39'     '0-2'      'no'       '2'   'left'   \n",
       "3  '40-49'  'premeno'    '35-39'     '0-2'     'yes'       '3'  'right'   \n",
       "4  '40-49'  'premeno'    '30-34'     '3-5'     'yes'       '2'   'left'   \n",
       "\n",
       "  breast-quad irradiat  \n",
       "0   'left_up'     'no'  \n",
       "1   'central'     'no'  \n",
       "2  'left_low'     'no'  \n",
       "3  'left_low'    'yes'  \n",
       "4  'right_up'     'no'  "
      ]
     },
     "execution_count": 4,
     "metadata": {},
     "output_type": "execute_result"
    }
   ],
   "source": [
    "train_X.head()"
   ]
  },
  {
   "cell_type": "markdown",
   "metadata": {},
   "source": [
    "On fait un encodage en label des métadonnée, l'algorithme k-mode permet d'utilisé un encodage en label meme si les traits ne sont pas ordinale "
   ]
  },
  {
   "cell_type": "code",
   "execution_count": 5,
   "metadata": {},
   "outputs": [],
   "source": [
    "from collections import defaultdict\n",
    "from sklearn.preprocessing import LabelEncoder\n",
    "\n",
    "d = defaultdict(LabelEncoder)\n",
    "\n",
    "le = LabelEncoder()\n",
    "train_X = train_X.apply(lambda x: d[x.name].fit_transform(x))"
   ]
  },
  {
   "cell_type": "code",
   "execution_count": 6,
   "metadata": {},
   "outputs": [
    {
     "data": {
      "text/html": [
       "<div>\n",
       "<style scoped>\n",
       "    .dataframe tbody tr th:only-of-type {\n",
       "        vertical-align: middle;\n",
       "    }\n",
       "\n",
       "    .dataframe tbody tr th {\n",
       "        vertical-align: top;\n",
       "    }\n",
       "\n",
       "    .dataframe thead th {\n",
       "        text-align: right;\n",
       "    }\n",
       "</style>\n",
       "<table border=\"1\" class=\"dataframe\">\n",
       "  <thead>\n",
       "    <tr style=\"text-align: right;\">\n",
       "      <th></th>\n",
       "      <th>age</th>\n",
       "      <th>menopause</th>\n",
       "      <th>tumor-size</th>\n",
       "      <th>inv-nodes</th>\n",
       "      <th>node-caps</th>\n",
       "      <th>deg-malig</th>\n",
       "      <th>breast</th>\n",
       "      <th>breast-quad</th>\n",
       "      <th>irradiat</th>\n",
       "    </tr>\n",
       "  </thead>\n",
       "  <tbody>\n",
       "    <tr>\n",
       "      <th>0</th>\n",
       "      <td>2</td>\n",
       "      <td>2</td>\n",
       "      <td>2</td>\n",
       "      <td>0</td>\n",
       "      <td>1</td>\n",
       "      <td>2</td>\n",
       "      <td>1</td>\n",
       "      <td>2</td>\n",
       "      <td>0</td>\n",
       "    </tr>\n",
       "    <tr>\n",
       "      <th>1</th>\n",
       "      <td>3</td>\n",
       "      <td>0</td>\n",
       "      <td>2</td>\n",
       "      <td>0</td>\n",
       "      <td>0</td>\n",
       "      <td>0</td>\n",
       "      <td>1</td>\n",
       "      <td>0</td>\n",
       "      <td>0</td>\n",
       "    </tr>\n",
       "    <tr>\n",
       "      <th>2</th>\n",
       "      <td>3</td>\n",
       "      <td>0</td>\n",
       "      <td>6</td>\n",
       "      <td>0</td>\n",
       "      <td>0</td>\n",
       "      <td>1</td>\n",
       "      <td>0</td>\n",
       "      <td>1</td>\n",
       "      <td>0</td>\n",
       "    </tr>\n",
       "    <tr>\n",
       "      <th>3</th>\n",
       "      <td>2</td>\n",
       "      <td>2</td>\n",
       "      <td>6</td>\n",
       "      <td>0</td>\n",
       "      <td>1</td>\n",
       "      <td>2</td>\n",
       "      <td>1</td>\n",
       "      <td>1</td>\n",
       "      <td>1</td>\n",
       "    </tr>\n",
       "    <tr>\n",
       "      <th>4</th>\n",
       "      <td>2</td>\n",
       "      <td>2</td>\n",
       "      <td>5</td>\n",
       "      <td>4</td>\n",
       "      <td>1</td>\n",
       "      <td>1</td>\n",
       "      <td>0</td>\n",
       "      <td>4</td>\n",
       "      <td>0</td>\n",
       "    </tr>\n",
       "    <tr>\n",
       "      <th>...</th>\n",
       "      <td>...</td>\n",
       "      <td>...</td>\n",
       "      <td>...</td>\n",
       "      <td>...</td>\n",
       "      <td>...</td>\n",
       "      <td>...</td>\n",
       "      <td>...</td>\n",
       "      <td>...</td>\n",
       "      <td>...</td>\n",
       "    </tr>\n",
       "    <tr>\n",
       "      <th>281</th>\n",
       "      <td>3</td>\n",
       "      <td>0</td>\n",
       "      <td>5</td>\n",
       "      <td>5</td>\n",
       "      <td>1</td>\n",
       "      <td>1</td>\n",
       "      <td>0</td>\n",
       "      <td>1</td>\n",
       "      <td>0</td>\n",
       "    </tr>\n",
       "    <tr>\n",
       "      <th>282</th>\n",
       "      <td>3</td>\n",
       "      <td>2</td>\n",
       "      <td>4</td>\n",
       "      <td>4</td>\n",
       "      <td>1</td>\n",
       "      <td>1</td>\n",
       "      <td>0</td>\n",
       "      <td>1</td>\n",
       "      <td>1</td>\n",
       "    </tr>\n",
       "    <tr>\n",
       "      <th>283</th>\n",
       "      <td>1</td>\n",
       "      <td>2</td>\n",
       "      <td>5</td>\n",
       "      <td>5</td>\n",
       "      <td>1</td>\n",
       "      <td>1</td>\n",
       "      <td>1</td>\n",
       "      <td>4</td>\n",
       "      <td>0</td>\n",
       "    </tr>\n",
       "    <tr>\n",
       "      <th>284</th>\n",
       "      <td>3</td>\n",
       "      <td>2</td>\n",
       "      <td>2</td>\n",
       "      <td>0</td>\n",
       "      <td>0</td>\n",
       "      <td>1</td>\n",
       "      <td>1</td>\n",
       "      <td>1</td>\n",
       "      <td>0</td>\n",
       "    </tr>\n",
       "    <tr>\n",
       "      <th>285</th>\n",
       "      <td>3</td>\n",
       "      <td>0</td>\n",
       "      <td>7</td>\n",
       "      <td>0</td>\n",
       "      <td>0</td>\n",
       "      <td>2</td>\n",
       "      <td>0</td>\n",
       "      <td>4</td>\n",
       "      <td>0</td>\n",
       "    </tr>\n",
       "  </tbody>\n",
       "</table>\n",
       "<p>286 rows × 9 columns</p>\n",
       "</div>"
      ],
      "text/plain": [
       "     age  menopause  tumor-size  inv-nodes  node-caps  deg-malig  breast  \\\n",
       "0      2          2           2          0          1          2       1   \n",
       "1      3          0           2          0          0          0       1   \n",
       "2      3          0           6          0          0          1       0   \n",
       "3      2          2           6          0          1          2       1   \n",
       "4      2          2           5          4          1          1       0   \n",
       "..   ...        ...         ...        ...        ...        ...     ...   \n",
       "281    3          0           5          5          1          1       0   \n",
       "282    3          2           4          4          1          1       0   \n",
       "283    1          2           5          5          1          1       1   \n",
       "284    3          2           2          0          0          1       1   \n",
       "285    3          0           7          0          0          2       0   \n",
       "\n",
       "     breast-quad  irradiat  \n",
       "0              2         0  \n",
       "1              0         0  \n",
       "2              1         0  \n",
       "3              1         1  \n",
       "4              4         0  \n",
       "..           ...       ...  \n",
       "281            1         0  \n",
       "282            1         1  \n",
       "283            4         0  \n",
       "284            1         0  \n",
       "285            4         0  \n",
       "\n",
       "[286 rows x 9 columns]"
      ]
     },
     "execution_count": 6,
     "metadata": {},
     "output_type": "execute_result"
    }
   ],
   "source": [
    "train_X"
   ]
  },
  {
   "cell_type": "code",
   "execution_count": 7,
   "metadata": {},
   "outputs": [
    {
     "data": {
      "image/png": "[encoded data removed]",
      "text/plain": [
       "<Figure size 1440x1296 with 2 Axes>"
      ]
     },
     "metadata": {
      "needs_background": "light"
     },
     "output_type": "display_data"
    }
   ],
   "source": [
    "#Affichage des corrélation\n",
    "corr = train_X.corr(method='spearman')\n",
    "# Generate a mask for the upper triangle\n",
    "mask = np.zeros_like(corr, dtype=np.bool)\n",
    "mask[np.triu_indices_from(mask)] = True\n",
    "\n",
    "# Set up the matplotlib figure\n",
    "f, ax = plt.subplots(figsize=(20, 18))\n",
    "\n",
    "# Draw the heatmap with the mask and correct aspect ratio\n",
    "sns.heatmap(corr, mask=mask, cmap=\"YlGnBu\", vmax=.30, center=0,\n",
    "            square=True, linewidths=.5, cbar_kws={\"shrink\": .5});"
   ]
  },
  {
   "cell_type": "markdown",
   "metadata": {},
   "source": [
    "## Initialisation en K-modes \n",
    "Il existe trois type d'initialisation dans la litérature en k-modes\n",
    "* **Initialisation de Huang[1997, 1998]** : la seconde méthode calcule les fréquences de toutes les catégories pour tous les attributs et attribue les catégories les plus fréquentes de manière égale aux K-modes initiaux.\n",
    "* **Initialisation de Cao al. [2009]** : la méthode d'initialisation prend en compte la distance entre les objets et la densité des objets. elle sélectionne l'objet ayant la densité moyenne maximale comme premier centre de regroupement initial. Pour le calcul des autres centres de grappes, la distance entre l'objet et les grappes déjà connues, et la densité moyenne de l'objet sont prises en compte.La méthode vise à choisir un centre de grappes diversifié qui peut améliorer le regroupementrésultats, mais un critère uniforme pour la sélection des centres de clusters K-initial n'est pasfournis.\n",
    "* **Initlisation aléatoire**: initilisation aléatoire"
   ]
  },
  {
   "cell_type": "markdown",
   "metadata": {},
   "source": [
    "### Comparaison des trois initilisation"
   ]
  },
  {
   "cell_type": "code",
   "execution_count": 8,
   "metadata": {},
   "outputs": [],
   "source": [
    "import numpy as np\n",
    "import matplotlib.pyplot as plt \n",
    "cost_huang = []\n",
    "cost_cao = []\n",
    "cost_rand = []\n",
    "for num_clusters in list(range(1,10)):\n",
    "    kmode_cao = KModes(n_clusters=num_clusters, init = \"Cao\", n_init = 1, verbose=0)\n",
    "    km_huang = KModes(n_clusters=2, init = \"Huang\", n_init = 1, verbose=0)\n",
    "    km_rand = KModes(n_clusters=2, init = \"random\", n_init = 1, verbose=0)\n",
    "    kmode_cao.fit_predict(train_X)\n",
    "    km_huang.fit_predict(train_X)\n",
    "    km_rand.fit_predict(train_X)\n",
    "    cost_cao.append(kmode_cao.cost_)\n",
    "    cost_huang.append(km_huang.cost_)\n",
    "    cost_rand.append(km_rand.cost_)\n",
    "x = np.array([i for i in range(1,10,1)])"
   ]
  },
  {
   "cell_type": "code",
   "execution_count": 9,
   "metadata": {},
   "outputs": [
    {
     "data": {
      "image/png": "[encoded data removed]",
      "text/plain": [
       "<Figure size 432x288 with 1 Axes>"
      ]
     },
     "metadata": {
      "needs_background": "light"
     },
     "output_type": "display_data"
    }
   ],
   "source": [
    "plt.plot(x, cost_cao, label = \"cost_cao\")\n",
    "plt.plot(x, cost_huang, label = \"cost_huang\")\n",
    "plt.plot(x, cost_rand, label = \"cost_rand\")\n",
    "plt.xlabel('nombre de centres k')\n",
    "plt.ylabel('cost function ')\n",
    "plt.legend()\n",
    "plt.show()"
   ]
  },
  {
   "cell_type": "code",
   "execution_count": null,
   "metadata": {},
   "outputs": [],
   "source": []
  },
  {
   "cell_type": "markdown",
   "metadata": {},
   "source": [
    "# Compraison des performance et vitesse\n",
    "\n",
    "Dans cet partie on fait un clustering en 2 means parcequ'on sait que le dataset est binaire \"selon la colone classe\", "
   ]
  },
  {
   "cell_type": "code",
   "execution_count": 10,
   "metadata": {},
   "outputs": [
    {
     "name": "stdout",
     "output_type": "stream",
     "text": [
      "le temps d'excution de 2-modes sur le dataset est 0.06776666641235352\n"
     ]
    }
   ],
   "source": [
    "km_cao = KModes(n_clusters=2, init = \"cao\", n_init = 1, verbose=0)\n",
    "start_time = time.time()\n",
    "fitClusters_cao = km_cao.fit_predict(train_X)\n",
    "end_time = time.time()\n",
    "print(\"le temps d'excution de 2-modes sur le dataset est\",end_time-start_time)"
   ]
  },
  {
   "cell_type": "markdown",
   "metadata": {},
   "source": [
    "## Affichage des cluster selon les modalité des classe\n",
    "Dans cette section on affiche la distribution des classes selon les modalités des classes, cela permet de retrouver les modes de chaque classe."
   ]
  },
  {
   "cell_type": "code",
   "execution_count": 11,
   "metadata": {},
   "outputs": [],
   "source": [
    "#Attacher la catégorie au dataframe\n",
    "df_viz = df.copy()\n",
    "df_viz['cluster']=fitClusters_cao"
   ]
  },
  {
   "cell_type": "code",
   "execution_count": 12,
   "metadata": {},
   "outputs": [
    {
     "data": {
      "image/png": "[encoded data removed]",
      "text/plain": [
       "<Figure size 1080x360 with 1 Axes>"
      ]
     },
     "metadata": {
      "needs_background": "light"
     },
     "output_type": "display_data"
    }
   ],
   "source": [
    "plt.subplots(figsize = (15,5))\n",
    "g = sns.countplot(data=df_viz,x=\"cluster\",hue=\"tumor-size\",orient=\"h\")\n",
    "plt.xticks(rotation=45);"
   ]
  },
  {
   "cell_type": "code",
   "execution_count": 13,
   "metadata": {},
   "outputs": [
    {
     "data": {
      "image/png": "[encoded data removed]",
      "text/plain": [
       "<Figure size 1080x360 with 1 Axes>"
      ]
     },
     "metadata": {
      "needs_background": "light"
     },
     "output_type": "display_data"
    }
   ],
   "source": [
    "plt.subplots(figsize = (15,5))\n",
    "g = sns.countplot(data=df_viz,x=\"cluster\",hue=\"age\",orient=\"h\")\n",
    "plt.xticks(rotation=45);"
   ]
  },
  {
   "cell_type": "code",
   "execution_count": 14,
   "metadata": {},
   "outputs": [
    {
     "data": {
      "text/html": [
       "<div>\n",
       "<style scoped>\n",
       "    .dataframe tbody tr th:only-of-type {\n",
       "        vertical-align: middle;\n",
       "    }\n",
       "\n",
       "    .dataframe tbody tr th {\n",
       "        vertical-align: top;\n",
       "    }\n",
       "\n",
       "    .dataframe thead th {\n",
       "        text-align: right;\n",
       "    }\n",
       "</style>\n",
       "<table border=\"1\" class=\"dataframe\">\n",
       "  <thead>\n",
       "    <tr style=\"text-align: right;\">\n",
       "      <th></th>\n",
       "      <th>age</th>\n",
       "      <th>menopause</th>\n",
       "      <th>tumor-size</th>\n",
       "      <th>inv-nodes</th>\n",
       "      <th>node-caps</th>\n",
       "      <th>deg-malig</th>\n",
       "      <th>breast</th>\n",
       "      <th>breast-quad</th>\n",
       "      <th>irradiat</th>\n",
       "    </tr>\n",
       "  </thead>\n",
       "  <tbody>\n",
       "    <tr>\n",
       "      <th>0</th>\n",
       "      <td>'50-59'</td>\n",
       "      <td>'premeno'</td>\n",
       "      <td>'25-29'</td>\n",
       "      <td>'0-2'</td>\n",
       "      <td>'no'</td>\n",
       "      <td>'2'</td>\n",
       "      <td>'left'</td>\n",
       "      <td>'left_low'</td>\n",
       "      <td>'no'</td>\n",
       "    </tr>\n",
       "    <tr>\n",
       "      <th>1</th>\n",
       "      <td>'60-69'</td>\n",
       "      <td>'ge40'</td>\n",
       "      <td>'30-34'</td>\n",
       "      <td>'0-2'</td>\n",
       "      <td>'no'</td>\n",
       "      <td>'3'</td>\n",
       "      <td>'right'</td>\n",
       "      <td>'left_up'</td>\n",
       "      <td>'no'</td>\n",
       "    </tr>\n",
       "  </tbody>\n",
       "</table>\n",
       "</div>"
      ],
      "text/plain": [
       "       age  menopause tumor-size inv-nodes node-caps deg-malig   breast  \\\n",
       "0  '50-59'  'premeno'    '25-29'     '0-2'      'no'       '2'   'left'   \n",
       "1  '60-69'     'ge40'    '30-34'     '0-2'      'no'       '3'  'right'   \n",
       "\n",
       "  breast-quad irradiat  \n",
       "0  'left_low'     'no'  \n",
       "1   'left_up'     'no'  "
      ]
     },
     "execution_count": 14,
     "metadata": {},
     "output_type": "execute_result"
    }
   ],
   "source": [
    "clusterCentroidsDf = pd.DataFrame(km_cao.cluster_centroids_)\n",
    "clusterCentroidsDf.columns = df.drop(columns=['Class']).columns\n",
    "clusterCentroidsDf.apply(lambda x: d[x.name].inverse_transform(x))"
   ]
  },
  {
   "cell_type": "markdown",
   "metadata": {},
   "source": [
    "## Visualisation des performance du model\n",
    "\n",
    "Dans cet section on test les performance du model sur plusieurs métriques, en utilisant effectif du dataset"
   ]
  },
  {
   "cell_type": "code",
   "execution_count": 15,
   "metadata": {},
   "outputs": [],
   "source": [
    "from sklearn import metrics\n",
    "labels_true = LabelEncoder().fit_transform(df['Class'])"
   ]
  },
  {
   "cell_type": "code",
   "execution_count": 16,
   "metadata": {},
   "outputs": [
    {
     "data": {
      "text/plain": [
       "0.005326726968293722"
      ]
     },
     "execution_count": 16,
     "metadata": {},
     "output_type": "execute_result"
    }
   ],
   "source": [
    "# Homogénité \n",
    "metrics.homogeneity_score(labels_true, fitClusters_cao)"
   ]
  },
  {
   "cell_type": "code",
   "execution_count": 17,
   "metadata": {},
   "outputs": [
    {
     "data": {
      "text/plain": [
       "0.004944734371329163"
      ]
     },
     "execution_count": 17,
     "metadata": {},
     "output_type": "execute_result"
    }
   ],
   "source": [
    "#Complotude \n",
    "metrics.completeness_score(labels_true, fitClusters_cao)"
   ]
  },
  {
   "cell_type": "code",
   "execution_count": 18,
   "metadata": {},
   "outputs": [
    {
     "data": {
      "text/plain": [
       "0.005128627574189944"
      ]
     },
     "execution_count": 18,
     "metadata": {},
     "output_type": "execute_result"
    }
   ],
   "source": [
    "metrics.v_measure_score(labels_true, fitClusters_cao)"
   ]
  },
  {
   "cell_type": "code",
   "execution_count": null,
   "metadata": {},
   "outputs": [],
   "source": []
  },
  {
   "cell_type": "code",
   "execution_count": 19,
   "metadata": {},
   "outputs": [
    {
     "data": {
      "text/plain": [
       "0.002348292842353895"
      ]
     },
     "execution_count": 19,
     "metadata": {},
     "output_type": "execute_result"
    }
   ],
   "source": [
    "metrics.adjusted_mutual_info_score(labels_true, fitClusters_cao)"
   ]
  },
  {
   "cell_type": "markdown",
   "metadata": {},
   "source": [
    "## Compraison de la vitessse et performance avec k-means\n",
    "\n",
    "Il est démontré que l'algorithme permet d'obtenir une convergence avec les la complexité temporelle en ce qui concerne le nombre d'objets de données. Les hauteurs soulignent également qu'en général, l'algorithme des modes K est plus rapide que l'algorithme des moyennes K car il nécessite moins d'itérations pour converger.\n",
    "\n",
    "Dans cette partie on va comparer la vitesse d'un k-means appliqué sur les donnée encodé en oneHotencoding et l'algorithme k-mode"
   ]
  },
  {
   "cell_type": "code",
   "execution_count": 20,
   "metadata": {},
   "outputs": [
    {
     "data": {
      "text/html": [
       "<div>\n",
       "<style scoped>\n",
       "    .dataframe tbody tr th:only-of-type {\n",
       "        vertical-align: middle;\n",
       "    }\n",
       "\n",
       "    .dataframe tbody tr th {\n",
       "        vertical-align: top;\n",
       "    }\n",
       "\n",
       "    .dataframe thead th {\n",
       "        text-align: right;\n",
       "    }\n",
       "</style>\n",
       "<table border=\"1\" class=\"dataframe\">\n",
       "  <thead>\n",
       "    <tr style=\"text-align: right;\">\n",
       "      <th></th>\n",
       "      <th>age_'30-39'</th>\n",
       "      <th>age_'40-49'</th>\n",
       "      <th>age_'50-59'</th>\n",
       "      <th>age_'60-69'</th>\n",
       "      <th>age_'70-79'</th>\n",
       "      <th>menopause_'lt40'</th>\n",
       "      <th>menopause_'premeno'</th>\n",
       "      <th>tumor-size_'10-14'</th>\n",
       "      <th>tumor-size_'15-19'</th>\n",
       "      <th>tumor-size_'20-24'</th>\n",
       "      <th>...</th>\n",
       "      <th>node-caps_nan</th>\n",
       "      <th>deg-malig_'2'</th>\n",
       "      <th>deg-malig_'3'</th>\n",
       "      <th>breast_'right'</th>\n",
       "      <th>breast-quad_'left_low'</th>\n",
       "      <th>breast-quad_'left_up'</th>\n",
       "      <th>breast-quad_'right_low'</th>\n",
       "      <th>breast-quad_'right_up'</th>\n",
       "      <th>breast-quad_nan</th>\n",
       "      <th>irradiat_'yes'</th>\n",
       "    </tr>\n",
       "  </thead>\n",
       "  <tbody>\n",
       "    <tr>\n",
       "      <th>0</th>\n",
       "      <td>0</td>\n",
       "      <td>1</td>\n",
       "      <td>0</td>\n",
       "      <td>0</td>\n",
       "      <td>0</td>\n",
       "      <td>0</td>\n",
       "      <td>1</td>\n",
       "      <td>0</td>\n",
       "      <td>1</td>\n",
       "      <td>0</td>\n",
       "      <td>...</td>\n",
       "      <td>0</td>\n",
       "      <td>0</td>\n",
       "      <td>1</td>\n",
       "      <td>1</td>\n",
       "      <td>0</td>\n",
       "      <td>1</td>\n",
       "      <td>0</td>\n",
       "      <td>0</td>\n",
       "      <td>0</td>\n",
       "      <td>0</td>\n",
       "    </tr>\n",
       "    <tr>\n",
       "      <th>1</th>\n",
       "      <td>0</td>\n",
       "      <td>0</td>\n",
       "      <td>1</td>\n",
       "      <td>0</td>\n",
       "      <td>0</td>\n",
       "      <td>0</td>\n",
       "      <td>0</td>\n",
       "      <td>0</td>\n",
       "      <td>1</td>\n",
       "      <td>0</td>\n",
       "      <td>...</td>\n",
       "      <td>0</td>\n",
       "      <td>0</td>\n",
       "      <td>0</td>\n",
       "      <td>1</td>\n",
       "      <td>0</td>\n",
       "      <td>0</td>\n",
       "      <td>0</td>\n",
       "      <td>0</td>\n",
       "      <td>0</td>\n",
       "      <td>0</td>\n",
       "    </tr>\n",
       "    <tr>\n",
       "      <th>2</th>\n",
       "      <td>0</td>\n",
       "      <td>0</td>\n",
       "      <td>1</td>\n",
       "      <td>0</td>\n",
       "      <td>0</td>\n",
       "      <td>0</td>\n",
       "      <td>0</td>\n",
       "      <td>0</td>\n",
       "      <td>0</td>\n",
       "      <td>0</td>\n",
       "      <td>...</td>\n",
       "      <td>0</td>\n",
       "      <td>1</td>\n",
       "      <td>0</td>\n",
       "      <td>0</td>\n",
       "      <td>1</td>\n",
       "      <td>0</td>\n",
       "      <td>0</td>\n",
       "      <td>0</td>\n",
       "      <td>0</td>\n",
       "      <td>0</td>\n",
       "    </tr>\n",
       "    <tr>\n",
       "      <th>3</th>\n",
       "      <td>0</td>\n",
       "      <td>1</td>\n",
       "      <td>0</td>\n",
       "      <td>0</td>\n",
       "      <td>0</td>\n",
       "      <td>0</td>\n",
       "      <td>1</td>\n",
       "      <td>0</td>\n",
       "      <td>0</td>\n",
       "      <td>0</td>\n",
       "      <td>...</td>\n",
       "      <td>0</td>\n",
       "      <td>0</td>\n",
       "      <td>1</td>\n",
       "      <td>1</td>\n",
       "      <td>1</td>\n",
       "      <td>0</td>\n",
       "      <td>0</td>\n",
       "      <td>0</td>\n",
       "      <td>0</td>\n",
       "      <td>1</td>\n",
       "    </tr>\n",
       "    <tr>\n",
       "      <th>4</th>\n",
       "      <td>0</td>\n",
       "      <td>1</td>\n",
       "      <td>0</td>\n",
       "      <td>0</td>\n",
       "      <td>0</td>\n",
       "      <td>0</td>\n",
       "      <td>1</td>\n",
       "      <td>0</td>\n",
       "      <td>0</td>\n",
       "      <td>0</td>\n",
       "      <td>...</td>\n",
       "      <td>0</td>\n",
       "      <td>1</td>\n",
       "      <td>0</td>\n",
       "      <td>0</td>\n",
       "      <td>0</td>\n",
       "      <td>0</td>\n",
       "      <td>0</td>\n",
       "      <td>1</td>\n",
       "      <td>0</td>\n",
       "      <td>0</td>\n",
       "    </tr>\n",
       "    <tr>\n",
       "      <th>...</th>\n",
       "      <td>...</td>\n",
       "      <td>...</td>\n",
       "      <td>...</td>\n",
       "      <td>...</td>\n",
       "      <td>...</td>\n",
       "      <td>...</td>\n",
       "      <td>...</td>\n",
       "      <td>...</td>\n",
       "      <td>...</td>\n",
       "      <td>...</td>\n",
       "      <td>...</td>\n",
       "      <td>...</td>\n",
       "      <td>...</td>\n",
       "      <td>...</td>\n",
       "      <td>...</td>\n",
       "      <td>...</td>\n",
       "      <td>...</td>\n",
       "      <td>...</td>\n",
       "      <td>...</td>\n",
       "      <td>...</td>\n",
       "      <td>...</td>\n",
       "    </tr>\n",
       "    <tr>\n",
       "      <th>281</th>\n",
       "      <td>0</td>\n",
       "      <td>0</td>\n",
       "      <td>1</td>\n",
       "      <td>0</td>\n",
       "      <td>0</td>\n",
       "      <td>0</td>\n",
       "      <td>0</td>\n",
       "      <td>0</td>\n",
       "      <td>0</td>\n",
       "      <td>0</td>\n",
       "      <td>...</td>\n",
       "      <td>0</td>\n",
       "      <td>1</td>\n",
       "      <td>0</td>\n",
       "      <td>0</td>\n",
       "      <td>1</td>\n",
       "      <td>0</td>\n",
       "      <td>0</td>\n",
       "      <td>0</td>\n",
       "      <td>0</td>\n",
       "      <td>0</td>\n",
       "    </tr>\n",
       "    <tr>\n",
       "      <th>282</th>\n",
       "      <td>0</td>\n",
       "      <td>0</td>\n",
       "      <td>1</td>\n",
       "      <td>0</td>\n",
       "      <td>0</td>\n",
       "      <td>0</td>\n",
       "      <td>1</td>\n",
       "      <td>0</td>\n",
       "      <td>0</td>\n",
       "      <td>0</td>\n",
       "      <td>...</td>\n",
       "      <td>0</td>\n",
       "      <td>1</td>\n",
       "      <td>0</td>\n",
       "      <td>0</td>\n",
       "      <td>1</td>\n",
       "      <td>0</td>\n",
       "      <td>0</td>\n",
       "      <td>0</td>\n",
       "      <td>0</td>\n",
       "      <td>1</td>\n",
       "    </tr>\n",
       "    <tr>\n",
       "      <th>283</th>\n",
       "      <td>1</td>\n",
       "      <td>0</td>\n",
       "      <td>0</td>\n",
       "      <td>0</td>\n",
       "      <td>0</td>\n",
       "      <td>0</td>\n",
       "      <td>1</td>\n",
       "      <td>0</td>\n",
       "      <td>0</td>\n",
       "      <td>0</td>\n",
       "      <td>...</td>\n",
       "      <td>0</td>\n",
       "      <td>1</td>\n",
       "      <td>0</td>\n",
       "      <td>1</td>\n",
       "      <td>0</td>\n",
       "      <td>0</td>\n",
       "      <td>0</td>\n",
       "      <td>1</td>\n",
       "      <td>0</td>\n",
       "      <td>0</td>\n",
       "    </tr>\n",
       "    <tr>\n",
       "      <th>284</th>\n",
       "      <td>0</td>\n",
       "      <td>0</td>\n",
       "      <td>1</td>\n",
       "      <td>0</td>\n",
       "      <td>0</td>\n",
       "      <td>0</td>\n",
       "      <td>1</td>\n",
       "      <td>0</td>\n",
       "      <td>1</td>\n",
       "      <td>0</td>\n",
       "      <td>...</td>\n",
       "      <td>0</td>\n",
       "      <td>1</td>\n",
       "      <td>0</td>\n",
       "      <td>1</td>\n",
       "      <td>1</td>\n",
       "      <td>0</td>\n",
       "      <td>0</td>\n",
       "      <td>0</td>\n",
       "      <td>0</td>\n",
       "      <td>0</td>\n",
       "    </tr>\n",
       "    <tr>\n",
       "      <th>285</th>\n",
       "      <td>0</td>\n",
       "      <td>0</td>\n",
       "      <td>1</td>\n",
       "      <td>0</td>\n",
       "      <td>0</td>\n",
       "      <td>0</td>\n",
       "      <td>0</td>\n",
       "      <td>0</td>\n",
       "      <td>0</td>\n",
       "      <td>0</td>\n",
       "      <td>...</td>\n",
       "      <td>0</td>\n",
       "      <td>0</td>\n",
       "      <td>1</td>\n",
       "      <td>0</td>\n",
       "      <td>0</td>\n",
       "      <td>0</td>\n",
       "      <td>0</td>\n",
       "      <td>1</td>\n",
       "      <td>0</td>\n",
       "      <td>0</td>\n",
       "    </tr>\n",
       "  </tbody>\n",
       "</table>\n",
       "<p>286 rows × 34 columns</p>\n",
       "</div>"
      ],
      "text/plain": [
       "     age_'30-39'  age_'40-49'  age_'50-59'  age_'60-69'  age_'70-79'  \\\n",
       "0              0            1            0            0            0   \n",
       "1              0            0            1            0            0   \n",
       "2              0            0            1            0            0   \n",
       "3              0            1            0            0            0   \n",
       "4              0            1            0            0            0   \n",
       "..           ...          ...          ...          ...          ...   \n",
       "281            0            0            1            0            0   \n",
       "282            0            0            1            0            0   \n",
       "283            1            0            0            0            0   \n",
       "284            0            0            1            0            0   \n",
       "285            0            0            1            0            0   \n",
       "\n",
       "     menopause_'lt40'  menopause_'premeno'  tumor-size_'10-14'  \\\n",
       "0                   0                    1                   0   \n",
       "1                   0                    0                   0   \n",
       "2                   0                    0                   0   \n",
       "3                   0                    1                   0   \n",
       "4                   0                    1                   0   \n",
       "..                ...                  ...                 ...   \n",
       "281                 0                    0                   0   \n",
       "282                 0                    1                   0   \n",
       "283                 0                    1                   0   \n",
       "284                 0                    1                   0   \n",
       "285                 0                    0                   0   \n",
       "\n",
       "     tumor-size_'15-19'  tumor-size_'20-24'  ...  node-caps_nan  \\\n",
       "0                     1                   0  ...              0   \n",
       "1                     1                   0  ...              0   \n",
       "2                     0                   0  ...              0   \n",
       "3                     0                   0  ...              0   \n",
       "4                     0                   0  ...              0   \n",
       "..                  ...                 ...  ...            ...   \n",
       "281                   0                   0  ...              0   \n",
       "282                   0                   0  ...              0   \n",
       "283                   0                   0  ...              0   \n",
       "284                   1                   0  ...              0   \n",
       "285                   0                   0  ...              0   \n",
       "\n",
       "     deg-malig_'2'  deg-malig_'3'  breast_'right'  breast-quad_'left_low'  \\\n",
       "0                0              1               1                       0   \n",
       "1                0              0               1                       0   \n",
       "2                1              0               0                       1   \n",
       "3                0              1               1                       1   \n",
       "4                1              0               0                       0   \n",
       "..             ...            ...             ...                     ...   \n",
       "281              1              0               0                       1   \n",
       "282              1              0               0                       1   \n",
       "283              1              0               1                       0   \n",
       "284              1              0               1                       1   \n",
       "285              0              1               0                       0   \n",
       "\n",
       "     breast-quad_'left_up'  breast-quad_'right_low'  breast-quad_'right_up'  \\\n",
       "0                        1                        0                       0   \n",
       "1                        0                        0                       0   \n",
       "2                        0                        0                       0   \n",
       "3                        0                        0                       0   \n",
       "4                        0                        0                       1   \n",
       "..                     ...                      ...                     ...   \n",
       "281                      0                        0                       0   \n",
       "282                      0                        0                       0   \n",
       "283                      0                        0                       1   \n",
       "284                      0                        0                       0   \n",
       "285                      0                        0                       1   \n",
       "\n",
       "     breast-quad_nan  irradiat_'yes'  \n",
       "0                  0               0  \n",
       "1                  0               0  \n",
       "2                  0               0  \n",
       "3                  0               1  \n",
       "4                  0               0  \n",
       "..               ...             ...  \n",
       "281                0               0  \n",
       "282                0               1  \n",
       "283                0               0  \n",
       "284                0               0  \n",
       "285                0               0  \n",
       "\n",
       "[286 rows x 34 columns]"
      ]
     },
     "execution_count": 20,
     "metadata": {},
     "output_type": "execute_result"
    }
   ],
   "source": [
    "X_train_kmeans = pd.get_dummies(df.drop(columns=['Class']),drop_first=True)\n",
    "X_train_kmeans"
   ]
  },
  {
   "cell_type": "code",
   "execution_count": 21,
   "metadata": {},
   "outputs": [
    {
     "data": {
      "text/plain": [
       "0.683690071105957"
      ]
     },
     "execution_count": 21,
     "metadata": {},
     "output_type": "execute_result"
    }
   ],
   "source": [
    "from sklearn.cluster import KMeans\n",
    "import time \n",
    "\n",
    "start_time = time.time()\n",
    "fitClusters_kmeans = KMeans(n_clusters=2, random_state=0).fit_predict(X_train_kmeans)\n",
    "end_time = time.time()\n",
    "end_time-start_time"
   ]
  },
  {
   "cell_type": "code",
   "execution_count": 22,
   "metadata": {},
   "outputs": [
    {
     "data": {
      "text/plain": [
       "array([1, 0, 0, 1, 1, 0, 0, 1, 1, 1, 0, 0, 0, 0, 1, 1, 0, 0, 0, 0, 0, 0,\n",
       "       0, 1, 1, 0, 0, 1, 0, 1, 0, 0, 0, 0, 1, 1, 1, 0, 1, 1, 1, 1, 0, 0,\n",
       "       1, 0, 0, 1, 0, 0, 0, 0, 1, 0, 1, 0, 0, 0, 0, 1, 0, 1, 1, 1, 1, 0,\n",
       "       1, 0, 0, 1, 0, 0, 0, 0, 1, 0, 0, 1, 1, 0, 0, 1, 1, 0, 1, 0, 1, 1,\n",
       "       0, 0, 0, 1, 0, 0, 0, 1, 1, 0, 0, 1, 1, 0, 0, 0, 1, 0, 0, 0, 0, 1,\n",
       "       0, 0, 1, 1, 0, 0, 1, 0, 1, 1, 1, 0, 1, 1, 1, 0, 0, 0, 1, 0, 1, 1,\n",
       "       1, 1, 1, 1, 0, 0, 0, 0, 0, 1, 1, 0, 0, 0, 1, 0, 1, 0, 1, 0, 0, 1,\n",
       "       0, 0, 1, 1, 0, 0, 0, 1, 0, 0, 1, 0, 0, 1, 1, 1, 0, 0, 1, 0, 1, 1,\n",
       "       1, 1, 1, 1, 1, 0, 1, 0, 1, 0, 1, 1, 0, 0, 0, 1, 0, 0, 1, 1, 1, 0,\n",
       "       1, 0, 1, 1, 0, 1, 1, 0, 0, 0, 1, 1, 1, 1, 1, 0, 1, 0, 0, 0, 0, 0,\n",
       "       0, 0, 1, 0, 1, 0, 0, 1, 1, 1, 1, 1, 0, 0, 0, 0, 0, 1, 0, 0, 0, 0,\n",
       "       1, 1, 1, 0, 1, 0, 0, 0, 0, 0, 1, 0, 1, 0, 0, 0, 1, 0, 0, 1, 0, 1,\n",
       "       0, 0, 1, 1, 0, 0, 0, 0, 1, 1, 0, 0, 1, 1, 0, 1, 0, 0, 0, 1, 0, 0],\n",
       "      dtype=int32)"
      ]
     },
     "execution_count": 22,
     "metadata": {},
     "output_type": "execute_result"
    }
   ],
   "source": [
    "fitClusters_kmeans"
   ]
  },
  {
   "cell_type": "code",
   "execution_count": null,
   "metadata": {},
   "outputs": [],
   "source": []
  },
  {
   "cell_type": "markdown",
   "metadata": {},
   "source": [
    "Une meilleure etude des cluster consisetra a les caractésisé avec les variables qualtitatives et les modalité de chaque variables en utilisant les test statistiques. "
   ]
  },
  {
   "cell_type": "code",
   "execution_count": 23,
   "metadata": {},
   "outputs": [],
   "source": [
    "from sklearn import metrics"
   ]
  },
  {
   "cell_type": "code",
   "execution_count": 24,
   "metadata": {},
   "outputs": [
    {
     "data": {
      "text/plain": [
       "0.0035745314147265375"
      ]
     },
     "execution_count": 24,
     "metadata": {},
     "output_type": "execute_result"
    }
   ],
   "source": [
    "metrics.completeness_score(labels_true, fitClusters_kmeans)"
   ]
  },
  {
   "cell_type": "code",
   "execution_count": 25,
   "metadata": {},
   "outputs": [
    {
     "data": {
      "text/plain": [
       "0.0010722912970077749"
      ]
     },
     "execution_count": 25,
     "metadata": {},
     "output_type": "execute_result"
    }
   ],
   "source": [
    "metrics.adjusted_mutual_info_score(labels_true, fitClusters_kmeans)"
   ]
  },
  {
   "cell_type": "code",
   "execution_count": 26,
   "metadata": {},
   "outputs": [
    {
     "data": {
      "text/plain": [
       "0.0037887717042249217"
      ]
     },
     "execution_count": 26,
     "metadata": {},
     "output_type": "execute_result"
    }
   ],
   "source": [
    "metrics.v_measure_score(labels_true, fitClusters_kmeans)"
   ]
  },
  {
   "cell_type": "markdown",
   "metadata": {},
   "source": [
    "## K-modes vs K-means + one-hot encoding:\n",
    "- Kmeans + one-hot encoding augmentera considérablement la taille de l'ensemble de données si les attributs catégoriels ont un grand nombre de catégories. Cela rendra le K-means coûteuses en calcul.\n",
    "- Le cluster signifie n'a pas de sens puisque le 0 et le 1 ne sont pas les valeurs réelles des données. Le K-modes, d'autre part, produisent des modes de cluster qui sont les données réelles et rendent donc les clusters interprétables.\n",
    "\n",
    "## Inconvénients du K-modes:\n",
    "- Lorsque les types de données sont mélangés\n",
    "- Il compte simplement le nombre de dissemblances mais ne considère pas quels \"features\" sont différents."
   ]
  },
  {
   "cell_type": "code",
   "execution_count": null,
   "metadata": {},
   "outputs": [],
   "source": []
  }
 ],
 "metadata": {
  "kernelspec": {
   "display_name": "Python (myenv)",
   "language": "python",
   "name": "ds"
  },
  "language_info": {
   "codemirror_mode": {
    "name": "ipython",
    "version": 3
   },
   "file_extension": ".py",
   "mimetype": "text/x-python",
   "name": "python",
   "nbconvert_exporter": "python",
   "pygments_lexer": "ipython3",
   "version": "3.6.12"
  }
 },
 "nbformat": 4,
 "nbformat_minor": 4
}
