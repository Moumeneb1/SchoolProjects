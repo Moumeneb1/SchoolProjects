{
 "cells": [
  {
   "cell_type": "markdown",
   "metadata": {},
   "source": [
    "# K-modes\n",
    "\n",
    "**Problème avec le K-means:** le K-Means ne peuvent pas gérer les données catégoriques, car il minimise explicitement la variance intra-cluster (distances au carré de la moyenne) comme défini dans l'espace euclidien. \n",
    "\n",
    "**=> le K-modes comme alternative**\n",
    "\n",
    "Tandis que le K-Means calcule la distance euclidienne entre deux points, le K-Modes tente de minimiser une mesure de dissimilarité: il compte le nombre de \"features\" qui ne sont pas les mêmes. En utilisant des modes au lieu de moyens, K-Modes devient capable de gérer efficacement des données catégorielles.\n",
    "\n",
    "## Algorithme:\n",
    "\n",
    "**Définition du mode cluster:** si un jeu de données possède m attributs catégoriels, le vecteur mode Z est constitué de m valeurs catégorielles, chacune étant le mode d'un attribut.\n",
    "\n",
    "1. Sélectionnez k modes initiaux, un pour chaque cluster.\n",
    "2. Allouez un objet au cluster dont le mode est le plus proche en fonction de la distance de Hamming (La distance de Hamming entre deux lignes est simplement le nombre de colonnes où les deux lignes diffèrent). Mettez à jour le mode du cluster après chaque allocation.\n",
    "3. Une fois que tous les objets ont été attribués aux clusters, testez à nouveau la dissemblance des objets par rapport aux modes actuels. Si un objet est trouvé de telle sorte que son mode le plus proche appartient à un autre cluster plutôt que son cluster actuel, réattribuez l'objet à ce cluster et mettez à jour les modes des deux clusters.\n",
    "4. Répétez 3 jusqu'à ce qu'aucun objet n'ait changé de clusters après un test de cycle complet de l'ensemble de données.\n",
    "\n",
    "## K-modes vs K-means + one-hot encoding:\n",
    "- Kmeans + one-hot encoding augmentera considérablement la taille de l'ensemble de données si les attributs catégoriels ont un grand nombre de catégories. Cela rendra le K-means coûteuses en calcul.\n",
    "- Le cluster signifie n'a pas de sens puisque le 0 et le 1 ne sont pas les valeurs réelles des données. Le K-modes, d'autre part, produisent des modes de cluster qui sont les données réelles et rendent donc les clusters interprétables.\n",
    "\n",
    "## Inconvénients du K-modes:\n",
    "- Lorsque les types de données sont mélangés\n",
    "- Il compte simplement le nombre de dissemblances mais ne considère pas quels \"features\" sont différents.\n"
   ]
  },
  {
   "cell_type": "code",
   "execution_count": 1,
   "metadata": {},
   "outputs": [
    {
     "name": "stdout",
     "output_type": "stream",
     "text": [
      "[array([1, 1, 1, 1, 2]), array([3, 1, 2, 2, 1]), array([1, 2, 1, 1, 3])]\n",
      "[2, 0, 1, 2, 1, 0, 2, 1, 1, 2]\n",
      "--- 0.019640207290649414 seconds ---\n"
     ]
    }
   ],
   "source": [
    "\"\"\"\n",
    "KModes\n",
    "\"\"\"\n",
    "#imports\n",
    "import time\n",
    "import numpy as np\n",
    "from scipy import stats\n",
    "\n",
    "class K_modes:\n",
    "    def __init__(self,n_clusters):\n",
    "        self.n_clusters = n_clusters\n",
    "        self.modes = []\n",
    "        self.labels = []\n",
    "\n",
    "    def fit(self,X_train):\n",
    "        size = X_train.shape\n",
    "        self.labels = [0]*size[0]\n",
    "        #random selection of culster modes\n",
    "        modes = np.random.choice(size[1], self.n_clusters, replace=False)\n",
    "        not_stable = True\n",
    "        for element in modes:\n",
    "            self.modes.append(X_train[element])\n",
    "        \n",
    "\n",
    "        while not_stable : \n",
    "\n",
    "            #calculate the distances between the modes and all the individuals\n",
    "            for i in range (0,size[0]):\n",
    "                distance = [0]*self.n_clusters\n",
    "                for k in range (0,self.n_clusters):\n",
    "                    for j in range (0,size[1]):\n",
    "                        distance[k] = (distance[k] + 1) if X_train[i][j] != self.modes[k][j] else distance[k]\n",
    "\n",
    "            # assign the individual to the cluster with minimum distance \n",
    "                self.labels[i] = distance.index(min(distance))\n",
    "\n",
    "            #keep the old modes to compare later\n",
    "            modes_old = self.modes[:]\n",
    "\n",
    "            #claculate the new modes \n",
    "            for i in range (0,self.n_clusters):\n",
    "                self.modes[i] = stats.mode(X_train[np.array(self.labels) == i])[0][0]\n",
    "            \n",
    "            #check if changes occured to the modes\n",
    "            not_stable = False \n",
    "            for i in range (0,len(self.modes)):\n",
    "                if not(np.array_equal(self.modes[i],modes_old[i])):\n",
    "                    not_stable =  True\n",
    "\n",
    "        return self\n",
    "\n",
    "\n",
    "\n",
    "\n",
    "#test data \n",
    "data = np.array([[1,2,1,2,3],[1,1,1,2,2],\n",
    "                [3,1,2,2,1],[1,2,2,1,3],\n",
    "                [3,3,3,2,1],[1,1,1,1,2],\n",
    "                [1,3,1,3,3],[3,1,2,2,3],\n",
    "                [1,1,2,3,1],[1,2,2,1,3]])\n",
    "\n",
    "\n",
    "start_time = time.time()\n",
    "k = K_modes(3)\n",
    "k.fit(data)\n",
    "print(k.modes)\n",
    "print(k.labels)\n",
    "print(\"--- %s seconds ---\" % (time.time() - start_time))"
   ]
  },
  {
   "cell_type": "code",
   "execution_count": 85,
   "metadata": {},
   "outputs": [],
   "source": [
    "#test sur la BD des iris\n",
    "import seaborn as sns\n",
    "iris = sns.load_dataset('iris')\n",
    "iris.head()\n",
    "iris=np.array(iris)\n",
    "for k in range(150):\n",
    "    if iris[k,4]=='setosa':\n",
    "        iris[k,4]=0\n",
    "    elif iris[k,4]=='versicolor':\n",
    "        iris[k,4]=1\n",
    "    else :\n",
    "        iris[k,4]=2"
   ]
  },
  {
   "cell_type": "code",
   "execution_count": 92,
   "metadata": {},
   "outputs": [
    {
     "name": "stdout",
     "output_type": "stream",
     "text": [
      "[array([6.3, 2.8, 4.5, 1.3, 1], dtype=object), array([5.1, 3.4, 1.4, 0.2, 0], dtype=object), array([6.7, 3.1, 1.5, 0.2, 0], dtype=object), array([6.5, 3.0, 5.1, 1.8, 2], dtype=object), array([5.0, 3.6, 1.4, 0.2, 0], dtype=object)]\n",
      "--- 0.02635478973388672 seconds ---\n",
      "[1, 1, 1, 2, 4, 1, 1, 1, 1, 2, 2, 1, 1, 1, 1, 2, 1, 1, 1, 1, 1, 1, 4, 1, 1, 4, 1, 2, 1, 1, 2, 1, 2, 1, 2, 4, 1, 4, 1, 1, 4, 1, 1, 4, 1, 1, 1, 1, 2, 4, 0, 0, 0, 0, 0, 0, 0, 0, 0, 0, 0, 0, 0, 0, 0, 2, 0, 0, 0, 0, 0, 0, 0, 0, 0, 0, 0, 0, 0, 0, 0, 0, 0, 0, 0, 0, 2, 0, 0, 0, 0, 0, 0, 0, 0, 0, 0, 0, 0, 0, 0, 3, 3, 3, 3, 3, 0, 3, 3, 3, 3, 3, 3, 3, 3, 3, 3, 3, 3, 3, 3, 0, 0, 3, 2, 3, 3, 3, 0, 3, 0, 3, 0, 0, 3, 3, 0, 3, 3, 2, 2, 3, 3, 3, 2, 3, 0, 3, 1, 3]\n"
     ]
    }
   ],
   "source": [
    "start_time = time.time()\n",
    "k = K_modes(5)\n",
    "k.fit(iris)\n",
    "print(k.modes)\n",
    "\n",
    "print(\"--- %s seconds ---\" % (time.time() - start_time))\n",
    "print(k.labels)"
   ]
  },
  {
   "cell_type": "code",
   "execution_count": 93,
   "metadata": {},
   "outputs": [
    {
     "name": "stdout",
     "output_type": "stream",
     "text": [
      "--- 0.08493614196777344 seconds ---\n"
     ]
    },
    {
     "data": {
      "text/plain": [
       "array([1, 1, 1, 1, 1, 1, 1, 1, 1, 1, 1, 1, 1, 1, 1, 1, 1, 1, 1, 1, 1, 1,\n",
       "       1, 1, 1, 1, 1, 1, 1, 1, 1, 1, 1, 1, 1, 1, 1, 1, 1, 1, 1, 1, 1, 1,\n",
       "       1, 1, 1, 1, 1, 1, 2, 2, 2, 3, 2, 3, 2, 3, 2, 3, 3, 2, 3, 2, 3, 2,\n",
       "       3, 3, 2, 3, 2, 3, 2, 2, 2, 2, 2, 2, 2, 3, 3, 3, 3, 2, 3, 2, 2, 2,\n",
       "       3, 3, 3, 2, 3, 3, 3, 3, 3, 2, 3, 3, 0, 0, 4, 0, 0, 4, 3, 4, 0, 4,\n",
       "       0, 0, 0, 0, 0, 0, 0, 4, 4, 0, 0, 0, 4, 0, 0, 4, 0, 0, 0, 4, 4, 4,\n",
       "       0, 0, 0, 4, 0, 0, 0, 0, 0, 0, 0, 0, 0, 0, 0, 0, 0, 0], dtype=int32)"
      ]
     },
     "execution_count": 93,
     "metadata": {},
     "output_type": "execute_result"
    }
   ],
   "source": [
    "#test Kmeans comparer les temps d'execution\n",
    "from sklearn.cluster import KMeans\n",
    "start_time = time.time()\n",
    "kmeans = KMeans(n_clusters=5, random_state=0).fit(iris)\n",
    "\n",
    "print(\"--- %s seconds ---\" % (time.time() - start_time))\n",
    "kmeans.labels_"
   ]
  },
  {
   "cell_type": "code",
   "execution_count": null,
   "metadata": {},
   "outputs": [],
   "source": []
  }
 ],
 "metadata": {
  "kernelspec": {
   "display_name": "Python (myenv)",
   "language": "python",
   "name": "ds"
  },
  "language_info": {
   "codemirror_mode": {
    "name": "ipython",
    "version": 3
   },
   "file_extension": ".py",
   "mimetype": "text/x-python",
   "name": "python",
   "nbconvert_exporter": "python",
   "pygments_lexer": "ipython3",
   "version": "3.6.12"
  }
 },
 "nbformat": 4,
 "nbformat_minor": 4
}
