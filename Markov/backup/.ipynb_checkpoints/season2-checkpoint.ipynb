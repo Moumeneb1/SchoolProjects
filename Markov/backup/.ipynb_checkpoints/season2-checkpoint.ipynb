{
 "cells": [
  {
   "cell_type": "code",
   "execution_count": 1,
   "metadata": {},
   "outputs": [
    {
     "ename": "SyntaxError",
     "evalue": "invalid syntax (<ipython-input-1-b96cab8c8887>, line 21)",
     "output_type": "error",
     "traceback": [
      "\u001b[0;36m  File \u001b[0;32m\"<ipython-input-1-b96cab8c8887>\"\u001b[0;36m, line \u001b[0;32m21\u001b[0m\n\u001b[0;31m    T = np.array(.....                # Matrice de transition temporaire\u001b[0m\n\u001b[0m    ^\u001b[0m\n\u001b[0;31mSyntaxError\u001b[0m\u001b[0;31m:\u001b[0m invalid syntax\n"
     ]
    }
   ],
   "source": [
    "# -*- coding: utf-8 -*-\n",
    "\"\"\"\n",
    "\n",
    "@author: barthes\n",
    "\"\"\"\n",
    "import matplotlib.pyplot as plt\n",
    "import numpy as np\n",
    "import scipy.io.matlab as mio\n",
    "import pomegranate as pg\n",
    "\n",
    "from duree import duree\n",
    "\n",
    "    \n",
    "    \n",
    "gamma=0.95\n",
    "alpha=0.65 \n",
    "beta=0.02 \n",
    "Nsamples = 100000\n",
    "# Définition des paramétres du modéle\n",
    "start_probability = np.array[1,0,0,0,0,0,0]\n",
    "T = np.array[[0.6,0.4,0,0,0,0,0],\n",
    "            [0.4/3,0.6,0.4/3,0.4/3,0,0,0],\n",
    "            [0,0.2,0.6,0,0.2,0,0],\n",
    "            [0,0,0.4/3,0.4/3,0.6,0.4/3,0],\n",
    "            [0,0,0.,0,2,0.6,0.2],\n",
    "            [0,0,0.,0,0,0.4,0.6]]               # Matrice de transition temporaire\n",
    "\n",
    "B = np.array([[0.5,0.5,0,0,0,0,0],\n",
    "            [0.5/3,0.5,0.5/3,0.5/3,0,0,0],\n",
    "            [0,0.25,0.5,0,0.25,0,0],\n",
    "            [0,0,0.5/3,0.5/3,0.5,0.5/3,0],\n",
    "            [0,0,0.,0,0.25,0.5,0.25],\n",
    "             [0,0,0.,0,0,0.5,0.5]])# matrice d'émission temporaire\n",
    "\n",
    "\n",
    "dicoObs={'obsp1':0,'obsp2':1,'obsp3':2,'obsp4':3,'obsp5':4,'obsp6':5,'obsp7':6}        # pour transformer les chaines en entier (0 et 1)\n",
    "dicoState={'p1':0,'p2':1,'p3':2,'p4':3,'p5':4,'p6':5,'p7':6'}\n",
    "\n",
    "## Creation de la chaine de Markov\n",
    "model = pg.HiddenMarkovModel( name=\"partie 1\" )      # Creation instance\n",
    "# Matrice d'emission\n",
    "sunny = pg.State( pg.DiscreteDistribution({ 'sun': B[0,0], 'rain':  B[0,1]}), name='sunny' )    # Creation etat beau temps et prob emission\n",
    "rainy = pg.State( pg.DiscreteDistribution({ 'sun': B[1,0] , 'rain':B[1,1],}), name='rainy' )   # Création de l'état pluie et prob emission\n",
    "# Matrice de transition\n",
    "model.add_transitions(model.start,[sunny,rainy],[gamma,1-gamma])  # Probs initiales \n",
    "model.add_transitions(sunny, [sunny,rainy], [T[0,0],T[0,1]])     # transitions depuis sunny\n",
    "model.add_transitions(rainy, [sunny,rainy], [T[1,0],T[1,1]])    # transition depuis rainy\n",
    "\n",
    "model.add_transition( model.start, sunny, start_probability[0] )       \n",
    "model.add_transition( model.start, rainy, start_probability[1] )     \n",
    "\n",
    "model.bake( verbose=True )      # A mettre lorsque la description de la chaine est finalisée\n",
    "\n",
    "\n",
    "# Génération d'une séquence de longueur Nsamples\n",
    "obsSeq,statesSeq = model.sample(length=Nsamples,path=True)\n",
    "\n",
    "obsSeq=np.array([dicoObs[t] for t in obsSeq])      # Conversion des observables String -> int (0:beau, 1 pluie) )\n",
    "statesSeq=np.array([dicoState[t.name] for t in statesSeq[1:]])   # Conversion des etats String -> int (0:beau, 1 pluie) )\n",
    "\n",
    "# Chargement des données du fichier RR5MN\n",
    "ObsMesure = mio.loadmat('RR5MN.mat')['Support'].astype(np.int8).squeeze()\n"
   ]
  },
  {
   "cell_type": "code",
   "execution_count": null,
   "metadata": {},
   "outputs": [],
   "source": []
  }
 ],
 "metadata": {
  "kernelspec": {
   "display_name": "Python (myenv)",
   "language": "python",
   "name": "ds"
  },
  "language_info": {
   "codemirror_mode": {
    "name": "ipython",
    "version": 3
   },
   "file_extension": ".py",
   "mimetype": "text/x-python",
   "name": "python",
   "nbconvert_exporter": "python",
   "pygments_lexer": "ipython3",
   "version": "3.6.12"
  }
 },
 "nbformat": 4,
 "nbformat_minor": 4
}
