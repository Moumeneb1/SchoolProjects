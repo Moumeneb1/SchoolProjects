{
 "cells": [
  {
   "cell_type": "code",
   "execution_count": 1,
   "metadata": {},
   "outputs": [],
   "source": [
    "# -*- coding: utf-8 -*-\n",
    "\"\"\"\n",
    "\n",
    "@author: barthes\n",
    "\"\"\"\n",
    "import matplotlib.pyplot as plt\n",
    "import numpy as np\n",
    "import scipy.io.matlab as mio\n",
    "import pomegranate as pg\n",
    "\n",
    "from duree import duree\n",
    "\n",
    "Nsamples = 100\n",
    "# Définition des paramétres du modéle\n",
    "\n",
    "start_probability = np.array([1, 0, 0])\n",
    "T = np.array([[0.5 , 0.4 , 0.1],[0.3 , 0.4 , 0.3 ],[0.1 , 0.2 , 0.7 ]])                # Matrice de transition temporaire\n",
    "\n",
    "B = np.array([[0.5 , 0.5],[0.25,0.75], [0.75, 0.25]])        # matrice d'émission temporaire\n",
    "\n",
    "\n",
    "dicoObs={'pile': 0 ,'face':1}        # pour transformer les chaines en entier (0,1 et 2)\n",
    "dicoState={'P1':0 ,'P2':1, 'P3':2}\n",
    "\n",
    "## Creation de la chaine de Markov\n",
    "model = pg.HiddenMarkovModel( name=\"partie 5\" )      # Creation instance\n",
    "# Matrice d'emission\n",
    "\n",
    "# Creation etat beau temps et prob emission\n",
    "p1 = pg.State( pg.DiscreteDistribution({ 'pile': B[0,0],'face': B[0,1]}), name='P1' )\n",
    "\n",
    "p2 = pg.State( pg.DiscreteDistribution({ 'pile': B[1,0],'face': B[1,1]}), name='P2' )\n",
    "\n",
    "p3 = pg.State( pg.DiscreteDistribution({ 'pile': B[2,0],'face': B[2,1]}), name='P3')\n",
    "\n",
    "\n",
    "\n",
    "\n",
    "# Matrice de transition\n",
    "model.add_transitions(model.start,[p1,p2,p3],[1, 0, 0])  # Probs initiales \n",
    "model.add_transitions(p1,  [p1,p2,p3],[T[0,0],T[0,1],T[0,2]])     # transitions depuis sunny\n",
    "model.add_transitions(p2,  [p1,p2,p3],[T[1,0],T[1,1],T[1,2]])     # transition depuis rainy\n",
    "model.add_transitions(p3,  [p1,p2,p3],[T[2,0],T[2,1],T[2,2]])     # transition depuis rainy\n",
    "\n",
    "\n",
    "model.add_transition( model.start, p1, start_probability[0] )       \n",
    "model.add_transition( model.start, p2, start_probability[1])   \n",
    "model.add_transition( model.start, p3, start_probability[2])  \n",
    "\n",
    "model.bake( verbose=True )      # A mettre lorsque la description de la chaine est finalisée\n",
    "\n"
   ]
  },
  {
   "cell_type": "code",
   "execution_count": 2,
   "metadata": {},
   "outputs": [
    {
     "name": "stderr",
     "output_type": "stream",
     "text": [
      "/home/moumene/.conda/envs/ds/lib/python3.6/site-packages/ipykernel_launcher.py:2: VisibleDeprecationWarning: Creating an ndarray from ragged nested sequences (which is a list-or-tuple of lists-or-tuples-or ndarrays with different lengths or shapes) is deprecated. If you meant to do this, you must specify 'dtype=object' when creating the ndarray\n",
      "  \n"
     ]
    }
   ],
   "source": [
    "# Génération d'une séquence de longueur Nsamples\n",
    "obsSeq,statesSeq = model.sample(length=Nsamples,path=True)\n",
    "\n",
    "obsSeq=np.array([dicoObs[t] for t in obsSeq])      # Conversion des observables String -> int (0:beau, 1 pluie) )\n",
    "statesSeq=np.array([dicoState[t.name] for t in statesSeq[1:]])   # Conversion des etats String -> int (0:beau, 1 pluie) )\n",
    "\n",
    "# Chargement des données du fichier RR5MN\n"
   ]
  },
  {
   "cell_type": "code",
   "execution_count": 33,
   "metadata": {},
   "outputs": [],
   "source": [
    "import itertools\n",
    "x = [0, 1, 2]\n",
    "combinations = [p for p in itertools.product(x, repeat=3)]"
   ]
  },
  {
   "cell_type": "code",
   "execution_count": 34,
   "metadata": {},
   "outputs": [],
   "source": [
    "obs_seq = [1,0,1]"
   ]
  },
  {
   "cell_type": "code",
   "execution_count": 31,
   "metadata": {},
   "outputs": [
    {
     "data": {
      "text/plain": [
       "'proba_totale = 0\\nfor comb in combinations:\\n    prob_comb = 0\\n    for i in range(2):\\n        if i==0:\\n            prob_comb = start_probability[comb[i]]\\n            prob_comb*= B[comb[i],obs_seq[i]]\\n        else: \\n            prob_comb*=T[comb[i-1],comb[i]]\\n            prob_comb*= B[comb[i],obs_seq[i]]\\n        print(prob_comb)\\n    proba_totale +=prob_comb'"
      ]
     },
     "execution_count": 31,
     "metadata": {},
     "output_type": "execute_result"
    }
   ],
   "source": [
    "'''proba_totale = 0\n",
    "for comb in combinations:\n",
    "    prob_comb = 0\n",
    "    for i in range(2):\n",
    "        if i==0:\n",
    "            prob_comb = start_probability[comb[i]]\n",
    "            prob_comb*= B[comb[i],obs_seq[i]]\n",
    "        else: \n",
    "            prob_comb*=T[comb[i-1],comb[i]]\n",
    "            prob_comb*= B[comb[i],obs_seq[i]]\n",
    "        print(prob_comb)\n",
    "    proba_totale +=prob_comb'''"
   ]
  },
  {
   "cell_type": "code",
   "execution_count": 32,
   "metadata": {},
   "outputs": [],
   "source": [
    "#proba_totale"
   ]
  },
  {
   "cell_type": "code",
   "execution_count": null,
   "metadata": {},
   "outputs": [],
   "source": []
  }
 ],
 "metadata": {
  "kernelspec": {
   "display_name": "Python (myenv)",
   "language": "python",
   "name": "ds"
  },
  "language_info": {
   "codemirror_mode": {
    "name": "ipython",
    "version": 3
   },
   "file_extension": ".py",
   "mimetype": "text/x-python",
   "name": "python",
   "nbconvert_exporter": "python",
   "pygments_lexer": "ipython3",
   "version": "3.6.12"
  }
 },
 "nbformat": 4,
 "nbformat_minor": 4
}
