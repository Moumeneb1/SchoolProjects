{
 "cells": [
  {
   "cell_type": "markdown",
   "metadata": {},
   "source": [
    "### TP : Markov chains"
   ]
  },
  {
   "cell_type": "markdown",
   "metadata": {},
   "source": [
    "#### Partie 1 : Pleut-il?"
   ]
  },
  {
   "cell_type": "code",
   "execution_count": 2,
   "metadata": {},
   "outputs": [],
   "source": [
    "import numpy as np\n",
    "import pomegranate as pg\n",
    "#from partie1 import *\n",
    "import matplotlib.pyplot as plt"
   ]
  },
  {
   "cell_type": "markdown",
   "metadata": {},
   "source": [
    "Question 1 et 2 : voir le CR"
   ]
  },
  {
   "cell_type": "code",
   "execution_count": null,
   "metadata": {},
   "outputs": [],
   "source": [
    "# question 3\n",
    "model = pg.HiddenMarkovModel()\n",
    "## param\n",
    "alpha = 0.65\n",
    "beta  = 0.02\n",
    "gamma = 0.9"
   ]
  },
  {
   "cell_type": "code",
   "execution_count": null,
   "metadata": {},
   "outputs": [],
   "source": [
    "B = np.array([[1,0],[0,1]])               # matrice d'émission temporaire\n",
    "B"
   ]
  },
  {
   "cell_type": "code",
   "execution_count": null,
   "metadata": {},
   "outputs": [],
   "source": [
    "# seq d'observations\n",
    "obsSeq"
   ]
  },
  {
   "cell_type": "code",
   "execution_count": null,
   "metadata": {},
   "outputs": [],
   "source": [
    "#seq d'etats\n",
    "statesSeq"
   ]
  },
  {
   "cell_type": "markdown",
   "metadata": {},
   "source": [
    "question 4"
   ]
  },
  {
   "cell_type": "code",
   "execution_count": null,
   "metadata": {},
   "outputs": [],
   "source": [
    "P1 = beta /(1+beta - alpha)\n",
    "print(\"la probabilité qu’il pleuve vaut : \", P1)\n",
    "\n",
    "P1_emp = statesSeq.sum()/len(statesSeq)\n",
    "print(\"la probabilité qu’il pleuve empiriquement vaut : \", P1_emp)"
   ]
  },
  {
   "cell_type": "markdown",
   "metadata": {},
   "source": [
    "question 5"
   ]
  },
  {
   "cell_type": "code",
   "execution_count": null,
   "metadata": {},
   "outputs": [],
   "source": [
    "dureeSec,dureePluie,pdfSec,pdfPluie,binsSec,binsPluie = duree(statesSeq)"
   ]
  },
  {
   "cell_type": "code",
   "execution_count": null,
   "metadata": {},
   "outputs": [],
   "source": [
    "# histgramme de durée de pluie\n",
    "plt.hist(dureePluie, range = (16),bins = binsPluie[:16], color = 'blue',\n",
    "           edgecolor = 'red')\n"
   ]
  },
  {
   "cell_type": "code",
   "execution_count": null,
   "metadata": {},
   "outputs": [],
   "source": [
    "p = 1 - alpha\n",
    "q = alpha\n",
    "\n",
    "\n",
    "## 1ere methode : comparer la moyenne et la variance théoriques et empériques\n",
    "\n",
    "# valeurs théoriques\n",
    "Esp_th = 1/p\n",
    "Var_th = q/p**2\n",
    "\n",
    "#valeurs empiriques\n",
    "Esp_emp = dureePluie.mean()\n",
    "Var_emp = (dureePluie.std())**2\n",
    "\n",
    "print(\"Type & Esperance & Variance\")\n",
    "print(\"theorique  \",'&',Esp_th,'&', Var_th )\n",
    "print(\"Modèle  \",'&',Esp_emp,'&',Var_emp)"
   ]
  },
  {
   "cell_type": "code",
   "execution_count": null,
   "metadata": {},
   "outputs": [],
   "source": [
    "## 2ème methode :\n",
    "pdfPluie_th = p * q**(binsPluie[1:]-1)\n",
    "\n",
    "plt.figure(figsize=(12,5))\n",
    "plt.semilogy(binsPluie[1:],pdfPluie_th, 'b*', label= \"Théorique pluie\")\n",
    "plt.semilogy(binsPluie[1:],pdfPluie, 'g-', label= \"Empirique pluie\")\n",
    "#plt.semilogy(binsSec[1:],pdfSec, 'r-', label= \"Empirique sec\")\n",
    "plt.xlabel('duree ')\n",
    "plt.ylabel('P []')\n",
    "plt.legend()"
   ]
  },
  {
   "cell_type": "markdown",
   "metadata": {},
   "source": [
    "Question 6 "
   ]
  },
  {
   "cell_type": "code",
   "execution_count": null,
   "metadata": {},
   "outputs": [],
   "source": [
    "Obser = ObsMesure.copy()\n",
    "Obser[Obser==1] = 0\n",
    "Obser[Obser==2] = 1\n",
    "\n",
    "P1 = beta /(1+beta - alpha)\n",
    "print(\"la probabilité qu’il pleuve vaut : \", P1)\n",
    "\n",
    "P1_emp = Obser.sum()/len(Obser)\n",
    "print(\"la probabilité qu’il pleuve empiriquement vaut : \", P1_emp)"
   ]
  },
  {
   "cell_type": "code",
   "execution_count": null,
   "metadata": {},
   "outputs": [],
   "source": [
    "dureeSec2,dureePluie2,pdfSec2,pdfPluie2,binsSec2,binsPluie2 = duree(Obser)"
   ]
  },
  {
   "cell_type": "code",
   "execution_count": null,
   "metadata": {},
   "outputs": [],
   "source": [
    "Esp_emp_X = dureePluie2.mean()\n",
    "Var_emp_X = (dureePluie2.std())**2\n",
    "\n",
    "print(\"Type & Esperance & Variance\")\n",
    "print(\"Modèle  \",'&',Esp_emp,'&',Var_emp)\n",
    "print(\"Expérience\",'&',Esp_emp_X,'&', Var_emp_X)"
   ]
  },
  {
   "cell_type": "markdown",
   "metadata": {},
   "source": [
    "Question 7"
   ]
  },
  {
   "cell_type": "code",
   "execution_count": null,
   "metadata": {},
   "outputs": [],
   "source": [
    "p = beta\n",
    "q = (1-beta)\n",
    "\n",
    "\n",
    "## 1ere methode : comparer la moyenne et la variance théoriques et empériques\n",
    "\n",
    "# valeurs théoriques\n",
    "Esp_th = 1/p\n",
    "Var_th = q/p**2\n",
    "\n",
    "#valeurs empiriques\n",
    "Esp_emp_2 = dureeSec2.mean()\n",
    "Var_emp_2 = (dureeSec2.std())**2\n",
    "Esp_emp_1 = dureeSec.mean()\n",
    "Var_emp_1 = (dureeSec.std())**2\n",
    "\n",
    "\n",
    "print(\"Type & Esperance & Variance\")\n",
    "print(\"theorique (Espérance et Variance)   \",'&',Esp_th,'&', Var_th )\n",
    "print(\"Modele (Espérance et Variance) \",'&',Esp_emp_1,'&', Var_emp_1)\n",
    "print(\"Expérience (Espérance et Variance)  \",'&',Esp_emp_2,'&', Var_emp_2)"
   ]
  },
  {
   "cell_type": "code",
   "execution_count": null,
   "metadata": {},
   "outputs": [],
   "source": [
    "## 2ème methode :\n",
    "pdfSec_th = p * q**(binsSec2[1:]-1)\n",
    "\n",
    "plt.figure(figsize=(12,5))\n",
    "plt.semilogy(binsSec2[1:],pdfSec_th, 'b*-', label= \"Théorique sec\")\n",
    "plt.semilogy(binsSec2[1:],pdfSec2, 'g*-', label= \"Empirique sec\")\n",
    "plt.semilogy(binsSec[1:],pdfSec, 'r*-', label= \"Modele sec\")\n",
    "plt.xlabel('duree ')\n",
    "plt.ylabel('pdf []')\n",
    "plt.xlim((0,1000))\n",
    "plt.legend()\n",
    "plt.grid()"
   ]
  },
  {
   "cell_type": "markdown",
   "metadata": {},
   "source": [
    "Question 8 : le modèle du chaine de Markov nous d'avoir une idée sur le comportement des états pour des faibles durées."
   ]
  },
  {
   "cell_type": "markdown",
   "metadata": {},
   "source": [
    "#### Partie 2 : pleut-il (suite)"
   ]
  },
  {
   "cell_type": "markdown",
   "metadata": {},
   "source": [
    "Question 1 : Voir CR"
   ]
  },
  {
   "cell_type": "code",
   "execution_count": null,
   "metadata": {},
   "outputs": [],
   "source": [
    "from partie2 import *"
   ]
  },
  {
   "cell_type": "code",
   "execution_count": null,
   "metadata": {},
   "outputs": [],
   "source": [
    "dureeSec3,dureePluie3,pdfSec3,pdfPluie3,binsSec3,binsPluie3 = duree(obsSeq)"
   ]
  },
  {
   "cell_type": "code",
   "execution_count": null,
   "metadata": {},
   "outputs": [],
   "source": [
    "obsSeq"
   ]
  },
  {
   "cell_type": "code",
   "execution_count": null,
   "metadata": {},
   "outputs": [],
   "source": [
    "P1_emp = (obsSeq==1).sum()/len(obsSeq)\n",
    "P0_emp = (obsSeq==0).sum()/len(obsSeq)\n",
    "print(\"la probabilité qu’il pleuve empiriquement vaut : \", P1_emp)\n",
    "print(\"la probabilité qu’il ne pleut pas empiriquement vaut : \", P0_emp)\n",
    "print(\"le pourcentage de pluie / sécheresse  : \", P1_emp/P0_emp*100)"
   ]
  },
  {
   "cell_type": "code",
   "execution_count": null,
   "metadata": {},
   "outputs": [],
   "source": [
    "#valeurs empiriques\n",
    "Esp_emp_2 = dureePluie2.mean()\n",
    "Var_emp_2 = (dureePluie2.std())**2\n",
    "Esp_emp_1 = dureePluie3.mean()\n",
    "Var_emp_1 = (dureePluie3.std())**2\n",
    "\n",
    "print(\"Empirique (Espérance et Variance) 1 \",Esp_emp_1, Var_emp_1)\n",
    "print(\"Expérience (Espérance et Variance) 2 \",Esp_emp_2, Var_emp_2)"
   ]
  },
  {
   "cell_type": "code",
   "execution_count": null,
   "metadata": {},
   "outputs": [],
   "source": [
    "plt.figure(figsize=(12,5))\n",
    "plt.semilogy(binsPluie3[1:],pdfPluie3, 'g*-', label= \"simulé 2 pluie\")\n",
    "plt.semilogy(binsPluie[1:],pdfPluie, 'r*-', label= \"simulé 1 pluie\")\n",
    "plt.semilogy(binsPluie2[1:],pdfPluie2, 'y-', label= \"Empirique pluie\")\n",
    "\n",
    "plt.xlabel('duree ')\n",
    "plt.ylabel('pdf []')\n",
    "#plt.xlim((0,120))\n",
    "plt.legend()\n",
    "plt.grid()"
   ]
  },
  {
   "cell_type": "markdown",
   "metadata": {},
   "source": [
    "    cette modélisation ne permet pas de bien représenter le support de la pluie"
   ]
  },
  {
   "cell_type": "code",
   "execution_count": null,
   "metadata": {},
   "outputs": [],
   "source": [
    "dureePluie.mean()"
   ]
  },
  {
   "cell_type": "code",
   "execution_count": null,
   "metadata": {},
   "outputs": [],
   "source": [
    "dureePluie.var()"
   ]
  },
  {
   "cell_type": "markdown",
   "metadata": {},
   "source": [
    "Question 3"
   ]
  },
  {
   "cell_type": "code",
   "execution_count": null,
   "metadata": {},
   "outputs": [],
   "source": [
    "tmp= [] # On crée une liste composé de string ‘sun’ et ‘rain’ à la place des 1 et 2\n",
    "for o in ObsMesure:\n",
    "    if o == 1:\n",
    "        tmp.append('sun')\n",
    "    else:\n",
    "        tmp.append('rain')\n",
    "model.fit([tmp],algorithm='baum-welch',max_iterations=1000)"
   ]
  },
  {
   "cell_type": "code",
   "execution_count": null,
   "metadata": {},
   "outputs": [],
   "source": [
    "Te = model.dense_transition_matrix()\n",
    "plt.figure(figsize=(8,8))\n",
    "plt.title('la nouvelle matrice de transition')\n",
    "plt.imshow(Mat[:3,:3])\n",
    "plt.colorbar()\n",
    "plt.show()"
   ]
  },
  {
   "cell_type": "markdown",
   "metadata": {},
   "source": [
    "**matrice de transition**"
   ]
  },
  {
   "cell_type": "code",
   "execution_count": null,
   "metadata": {},
   "outputs": [],
   "source": [
    "Te[:3,:3]"
   ]
  },
  {
   "cell_type": "code",
   "execution_count": null,
   "metadata": {},
   "outputs": [],
   "source": [
    "T"
   ]
  },
  {
   "cell_type": "markdown",
   "metadata": {},
   "source": [
    "**matrice d'émission**"
   ]
  },
  {
   "cell_type": "code",
   "execution_count": null,
   "metadata": {},
   "outputs": [],
   "source": [
    "st = [sunny, cloudy, v_cloudy]\n",
    "B_e = list()\n",
    "for etat in st:\n",
    "    Ee = etat.distribution.parameters[0]\n",
    "    B_e.append(list(Ee.values()))\n",
    "B_e = np.array(B_e)"
   ]
  },
  {
   "cell_type": "code",
   "execution_count": null,
   "metadata": {},
   "outputs": [],
   "source": [
    "B_e"
   ]
  },
  {
   "cell_type": "code",
   "execution_count": null,
   "metadata": {},
   "outputs": [],
   "source": [
    "B"
   ]
  },
  {
   "cell_type": "code",
   "execution_count": null,
   "metadata": {},
   "outputs": [],
   "source": [
    "B_init = np.array([[1,0],[0.8,0.2],[0,1]]) \n",
    "B_init"
   ]
  },
  {
   "cell_type": "markdown",
   "metadata": {},
   "source": [
    "Question 4"
   ]
  },
  {
   "cell_type": "code",
   "execution_count": null,
   "metadata": {},
   "outputs": [],
   "source": [
    "# Génération d'une séquence de longueur Nsamples\n",
    "obsSeq2,statesSeq2 = model.sample(length=Nsamples,path=True)\n",
    "\n",
    "obsSeq2=np.array([dicoObs[t] for t in obsSeq2])      # Conversion des observables String -> int (0:beau, 1 pluie) )\n",
    "statesSeq2=np.array([dicoState[t.name] for t in statesSeq2[1:]])   # Conversion des etats String -> int (0:beau, 1 pluie) )\n"
   ]
  },
  {
   "cell_type": "code",
   "execution_count": null,
   "metadata": {},
   "outputs": [],
   "source": [
    "dureeSec4,dureePluie4,pdfSec4,pdfPluie4,binsSec4,binsPluie4 = duree(obsSeq2)"
   ]
  },
  {
   "cell_type": "code",
   "execution_count": null,
   "metadata": {},
   "outputs": [],
   "source": [
    "plt.figure(figsize=(12,5))\n",
    "plt.semilogy(binsPluie3[1:],pdfPluie3, 'g*-', label= \"modèle 2 avant fit - pluie\")\n",
    "plt.semilogy(binsPluie4[1:],pdfPluie4, 'b*-', label=  \"modèle 2 après fit - pluie\")\n",
    "plt.semilogy(binsPluie[1:],pdfPluie, 'r*-', label= \"modèle 1 pluie\")\n",
    "plt.semilogy(binsPluie2[1:],pdfPluie2, 'y-', label= \"Empirique pluie\")\n",
    "\n",
    "plt.xlabel('duree ')\n",
    "plt.ylabel('pdf []')\n",
    "#plt.xlim((0,120))\n",
    "plt.legend()\n",
    "plt.grid()"
   ]
  },
  {
   "cell_type": "code",
   "execution_count": null,
   "metadata": {},
   "outputs": [],
   "source": [
    "plt.figure(figsize=(12,5))\n",
    "plt.semilogy(binsSec3[1:],pdfSec3, 'g*-', label= \"modèle 2 avant fit -  Sec\")\n",
    "plt.semilogy(binsSec4[1:],pdfSec4, 'b*-', label= \"modèle 2 après fit -  Sec\")\n",
    "plt.semilogy(binsSec[1:],pdfSec, 'r*-', label= \"modèle 1 Sec\")\n",
    "plt.semilogy(binsSec2[1:],pdfSec2, 'yo-', label= \"Empirique Sec\")\n",
    "\n",
    "plt.xlabel('duree ')\n",
    "plt.ylabel('pdf []')\n",
    "plt.xlim((0,500))\n",
    "plt.legend()\n",
    "plt.grid()"
   ]
  },
  {
   "cell_type": "markdown",
   "metadata": {},
   "source": [
    "Cette nouvelle modélisation pourrait être intéressante pour la modélisation du support de la pluie car elle arrive à estimer la probabilité de la pluie pour des longues durées"
   ]
  },
  {
   "cell_type": "code",
   "execution_count": null,
   "metadata": {},
   "outputs": [],
   "source": [
    "P1_sim = (obsSeq2==1).sum()/len(obsSeq2)\n",
    "P0_sim = (obsSeq2==0).sum()/len(obsSeq2)\n",
    "\n",
    "P1_emp = (Obser==1).sum()/len(Obser)\n",
    "P0_emp = (Obser==0).sum()/len(Obser)\n",
    "\n",
    "Esp_emp_4 = dureePluie4.mean()\n",
    "Var_emp_4 = dureePluie4.var()\n",
    "\n",
    "print(\"P(Pluie) empiriquement vaut : \", P1_emp)\n",
    "print(\"P(Pluie) apres fit vaut : \", P1_sim)\n",
    "print(\"P(sec) empiriquement vaut : \", P0_emp)\n",
    "print(\"P(sec) fit vaut : \", P0_sim)\n",
    "\n",
    "\n",
    "print(\"Expérience pluie (Espérance et Variance) \",Esp_emp_2, Var_emp_2)\n",
    "print(\"Apres fit  pluie (Espérance et Variance) \",Esp_emp_4, Var_emp_4)"
   ]
  },
  {
   "cell_type": "code",
   "execution_count": null,
   "metadata": {},
   "outputs": [],
   "source": [
    "# avec un aure indicateur\n",
    "def kl_divergence(p, q):\n",
    "    return np.sum(np.where(p*q != 0, p * np.log(p / q), 0))\n",
    "\n",
    "print(\"KL entre HMM fit et exp : \",kl_divergence(pdfPluie4, pdfPluie2))\n",
    "print(\"KL entre HMM non fit et exp : \",kl_divergence(pdfPluie4, pdfPluie))\n",
    "print(\"KL entre CM et exp : \",kl_divergence(pdfPluie4, pdfPluie3))"
   ]
  },
  {
   "cell_type": "markdown",
   "metadata": {},
   "source": [
    "#### Partie 3 : froid ou chaud ?"
   ]
  },
  {
   "cell_type": "markdown",
   "metadata": {},
   "source": [
    "Question 1 : voir CR"
   ]
  },
  {
   "cell_type": "markdown",
   "metadata": {},
   "source": [
    "Question 2 :"
   ]
  },
  {
   "cell_type": "code",
   "execution_count": 1,
   "metadata": {},
   "outputs": [
    {
     "ename": "ModuleNotFoundError",
     "evalue": "No module named 'partie3'",
     "output_type": "error",
     "traceback": [
      "\u001b[0;31m---------------------------------------------------------------------------\u001b[0m",
      "\u001b[0;31mModuleNotFoundError\u001b[0m                       Traceback (most recent call last)",
      "\u001b[0;32m<ipython-input-1-4f041f1562d2>\u001b[0m in \u001b[0;36m<module>\u001b[0;34m\u001b[0m\n\u001b[0;32m----> 1\u001b[0;31m \u001b[0;32mfrom\u001b[0m \u001b[0mpartie3\u001b[0m \u001b[0;32mimport\u001b[0m \u001b[0;34m*\u001b[0m\u001b[0;34m\u001b[0m\u001b[0;34m\u001b[0m\u001b[0m\n\u001b[0m",
      "\u001b[0;31mModuleNotFoundError\u001b[0m: No module named 'partie3'"
     ]
    }
   ],
   "source": [
    "from partie3 import *"
   ]
  },
  {
   "cell_type": "code",
   "execution_count": null,
   "metadata": {},
   "outputs": [],
   "source": [
    "obe10 = [ 'fine', 'moyenne', 'fine', 'epaisse', 'moyenne', 'fine', 'moyenne', 'moyenne', 'moyenne', 'moyenne']\n",
    "#obe10=np.array([dicoObs[t] for t in obe10]) \n",
    "#obe10"
   ]
  },
  {
   "cell_type": "code",
   "execution_count": null,
   "metadata": {},
   "outputs": [],
   "source": [
    "model.log_probability(obe10)"
   ]
  },
  {
   "cell_type": "code",
   "execution_count": null,
   "metadata": {},
   "outputs": [],
   "source": [
    "model.probability(obe10)"
   ]
  },
  {
   "cell_type": "code",
   "execution_count": null,
   "metadata": {},
   "outputs": [],
   "source": [
    "nombre_etats = 3\n",
    "taille_seq = 10\n",
    "np.log(1/nombre_etats**taille_seq)"
   ]
  },
  {
   "cell_type": "markdown",
   "metadata": {},
   "source": [
    "la probabilité d'une séquence calculé en HMM est légerement supérieur de probabilité de tirer aléatoirement un état qui suit une loi uniforme. D'où, la dépendance des états "
   ]
  },
  {
   "cell_type": "markdown",
   "metadata": {},
   "source": [
    "Question 2 -b : Calculer la séquence d’état la plus probable de température "
   ]
  },
  {
   "cell_type": "code",
   "execution_count": null,
   "metadata": {},
   "outputs": [],
   "source": [
    "state_name = np.array(list(dicoState.keys()))\n",
    "state_name"
   ]
  },
  {
   "cell_type": "code",
   "execution_count": null,
   "metadata": {
    "scrolled": true
   },
   "outputs": [],
   "source": [
    "stat10 = np.array(model.predict(obe10, algorithm='viterbi'))[1:]\n",
    "\n",
    "states = np.array([state_name[t] for t in stat10])\n"
   ]
  },
  {
   "cell_type": "code",
   "execution_count": null,
   "metadata": {},
   "outputs": [],
   "source": [
    "states"
   ]
  },
  {
   "cell_type": "code",
   "execution_count": null,
   "metadata": {},
   "outputs": [],
   "source": [
    "np.array([dicoObs[t] for t in obe10]) "
   ]
  },
  {
   "cell_type": "code",
   "execution_count": null,
   "metadata": {},
   "outputs": [],
   "source": [
    "list(dicoState.keys())"
   ]
  },
  {
   "cell_type": "code",
   "execution_count": null,
   "metadata": {},
   "outputs": [],
   "source": [
    "for e in stat10:\n",
    "    for (k, val) in dicoState.items():\n",
    "        if val == e:\n",
    "            e = k\n",
    "            print(k)\n",
    "stat10"
   ]
  },
  {
   "cell_type": "code",
   "execution_count": null,
   "metadata": {},
   "outputs": [],
   "source": []
  },
  {
   "cell_type": "markdown",
   "metadata": {},
   "source": [
    "## Partie 5"
   ]
  },
  {
   "cell_type": "code",
   "execution_count": 1,
   "metadata": {},
   "outputs": [
    {
     "name": "stderr",
     "output_type": "stream",
     "text": [
      "/home/moumene/Desktop/TP mise en ouvre/Markov/Partie 6/partie5.py:54: VisibleDeprecationWarning: Creating an ndarray from ragged nested sequences (which is a list-or-tuple of lists-or-tuples-or ndarrays with different lengths or shapes) is deprecated. If you meant to do this, you must specify 'dtype=object' when creating the ndarray\n",
      "  obsSeq,statesSeq = model.sample(length=Nsamples,path=True)\n"
     ]
    }
   ],
   "source": [
    "from partie5 import *"
   ]
  },
  {
   "cell_type": "code",
   "execution_count": 2,
   "metadata": {},
   "outputs": [
    {
     "data": {
      "text/plain": [
       "100"
      ]
     },
     "execution_count": 2,
     "metadata": {},
     "output_type": "execute_result"
    }
   ],
   "source": [
    "Nsamples"
   ]
  },
  {
   "cell_type": "markdown",
   "metadata": {},
   "source": [
    "Question 1 et 2, 3 : Done"
   ]
  },
  {
   "cell_type": "markdown",
   "metadata": {},
   "source": [
    "**Question 4** : voir le rapport"
   ]
  },
  {
   "cell_type": "markdown",
   "metadata": {},
   "source": [
    "**Question 5** : voir le rapport P = 0.1572"
   ]
  },
  {
   "cell_type": "markdown",
   "metadata": {},
   "source": [
    "**Question 6**"
   ]
  },
  {
   "cell_type": "code",
   "execution_count": 3,
   "metadata": {},
   "outputs": [],
   "source": [
    "FFF = ['face', 'face', 'face']\n",
    "PPP = ['pile','pile','pile']\n",
    "FPF = ['face','pile','face']"
   ]
  },
  {
   "cell_type": "code",
   "execution_count": 4,
   "metadata": {},
   "outputs": [],
   "source": [
    "#model.probability??"
   ]
  },
  {
   "cell_type": "code",
   "execution_count": 5,
   "metadata": {},
   "outputs": [
    {
     "data": {
      "text/plain": [
       "array([[0.5 , 0.5 ],\n",
       "       [0.25, 0.75],\n",
       "       [0.75, 0.25]])"
      ]
     },
     "execution_count": 5,
     "metadata": {},
     "output_type": "execute_result"
    }
   ],
   "source": [
    "B"
   ]
  },
  {
   "cell_type": "code",
   "execution_count": 6,
   "metadata": {},
   "outputs": [
    {
     "data": {
      "text/plain": [
       "0.15531250000000002"
      ]
     },
     "execution_count": 6,
     "metadata": {},
     "output_type": "execute_result"
    }
   ],
   "source": [
    "model.probability(FFF)"
   ]
  },
  {
   "cell_type": "code",
   "execution_count": 7,
   "metadata": {},
   "outputs": [
    {
     "data": {
      "text/plain": [
       "0.11218750000000002"
      ]
     },
     "execution_count": 7,
     "metadata": {},
     "output_type": "execute_result"
    }
   ],
   "source": [
    "model.probability(FPF)"
   ]
  },
  {
   "cell_type": "code",
   "execution_count": 8,
   "metadata": {},
   "outputs": [
    {
     "data": {
      "text/plain": [
       "0.10031250000000004"
      ]
     },
     "execution_count": 8,
     "metadata": {},
     "output_type": "execute_result"
    }
   ],
   "source": [
    "model.probability(PPP)"
   ]
  },
  {
   "cell_type": "markdown",
   "metadata": {},
   "source": [
    "**Question 8** : fait"
   ]
  },
  {
   "cell_type": "markdown",
   "metadata": {},
   "source": [
    "**Question 9**"
   ]
  },
  {
   "cell_type": "code",
   "execution_count": 9,
   "metadata": {},
   "outputs": [
    {
     "data": {
      "text/plain": [
       "array(['P1', 'P2', 'P3'], dtype='<U2')"
      ]
     },
     "execution_count": 9,
     "metadata": {},
     "output_type": "execute_result"
    }
   ],
   "source": [
    "state_name = np.array(list(dicoState.keys()))\n",
    "state_name"
   ]
  },
  {
   "cell_type": "code",
   "execution_count": 10,
   "metadata": {},
   "outputs": [
    {
     "data": {
      "text/plain": [
       "array(['P1', 'P1', 'P2'], dtype='<U2')"
      ]
     },
     "execution_count": 10,
     "metadata": {},
     "output_type": "execute_result"
    }
   ],
   "source": [
    "stat10 = np.array(model.predict(FPF, algorithm='viterbi'))[1:]\n",
    "\n",
    "states = np.array([state_name[t] for t in stat10])\n",
    "states"
   ]
  },
  {
   "cell_type": "markdown",
   "metadata": {},
   "source": [
    "**Question 10**"
   ]
  },
  {
   "cell_type": "code",
   "execution_count": 11,
   "metadata": {},
   "outputs": [],
   "source": [
    "#une liste de N séquences chacune de longueur T =100 \n",
    "obs_list = []\n",
    "Nsamples = 100\n",
    "for i in range(10):\n",
    "    obsSeq = model.sample(length=Nsamples,path=False)\n",
    "    obs_list.append(obsSeq)\n"
   ]
  },
  {
   "cell_type": "code",
   "execution_count": null,
   "metadata": {},
   "outputs": [],
   "source": []
  },
  {
   "cell_type": "markdown",
   "metadata": {},
   "source": [
    "a-"
   ]
  },
  {
   "cell_type": "code",
   "execution_count": 12,
   "metadata": {},
   "outputs": [],
   "source": [
    "tmp = [obs_list[0]]\n",
    "a = model.fit(obs_list,algorithm='baum-welch',max_iterations=1000)\n"
   ]
  },
  {
   "cell_type": "code",
   "execution_count": 13,
   "metadata": {},
   "outputs": [],
   "source": [
    "#tmp"
   ]
  },
  {
   "cell_type": "code",
   "execution_count": 14,
   "metadata": {},
   "outputs": [
    {
     "data": {
      "text/plain": [
       "array([[4.60623582e-01, 5.39376418e-01, 2.08593479e-15],\n",
       "       [2.57081595e-01, 3.23684201e-01, 4.19234205e-01],\n",
       "       [3.24686438e-01, 4.68940698e-02, 6.28419493e-01]])"
      ]
     },
     "execution_count": 14,
     "metadata": {},
     "output_type": "execute_result"
    }
   ],
   "source": [
    "Te = model.dense_transition_matrix()\n",
    "Te[:3,:3]"
   ]
  },
  {
   "cell_type": "code",
   "execution_count": 15,
   "metadata": {},
   "outputs": [
    {
     "data": {
      "text/plain": [
       "array([[0.460623581929, 0.539376418071, 0.000000000000],\n",
       "       [0.257081594707, 0.323684200768, 0.419234204525],\n",
       "       [0.324686437522, 0.046894069797, 0.628419492680]])"
      ]
     },
     "execution_count": 15,
     "metadata": {},
     "output_type": "execute_result"
    }
   ],
   "source": [
    "float_formatter = \"{:.12f}\".format\n",
    "np.set_printoptions(formatter={'float_kind':float_formatter})\n",
    "Te[:3,:3]\n"
   ]
  },
  {
   "cell_type": "code",
   "execution_count": 16,
   "metadata": {},
   "outputs": [
    {
     "data": {
      "text/plain": [
       "array([[0.500000000000, 0.400000000000, 0.100000000000],\n",
       "       [0.300000000000, 0.400000000000, 0.300000000000],\n",
       "       [0.100000000000, 0.200000000000, 0.700000000000]])"
      ]
     },
     "execution_count": 16,
     "metadata": {},
     "output_type": "execute_result"
    }
   ],
   "source": [
    "T"
   ]
  },
  {
   "cell_type": "code",
   "execution_count": 17,
   "metadata": {},
   "outputs": [
    {
     "data": {
      "text/plain": [
       "array([[0.389043459336, 0.610956540664],\n",
       "       [0.080836493732, 0.919163506268],\n",
       "       [0.999985930139, 0.000014069861]])"
      ]
     },
     "execution_count": 17,
     "metadata": {},
     "output_type": "execute_result"
    }
   ],
   "source": [
    "B_e = list()\n",
    "st = [p1, p2, p3]\n",
    "for etat in st:\n",
    "    Ee = etat.distribution.parameters[0]\n",
    "    B_e.append(list(Ee.values()))\n",
    "B_e = np.array(B_e)\n",
    "B_e"
   ]
  },
  {
   "cell_type": "code",
   "execution_count": 22,
   "metadata": {},
   "outputs": [
    {
     "data": {
      "text/plain": [
       "array([[0.500000000000, 0.500000000000],\n",
       "       [0.250000000000, 0.750000000000],\n",
       "       [0.750000000000, 0.250000000000]])"
      ]
     },
     "execution_count": 22,
     "metadata": {},
     "output_type": "execute_result"
    }
   ],
   "source": [
    "B"
   ]
  },
  {
   "cell_type": "markdown",
   "metadata": {},
   "source": [
    "on reste dans les états p1 et p2 si l'observation est face sinon on a une forte chance d'être en p3 si l'observation est pile."
   ]
  },
  {
   "cell_type": "markdown",
   "metadata": {},
   "source": [
    "b - "
   ]
  },
  {
   "cell_type": "code",
   "execution_count": null,
   "metadata": {},
   "outputs": [],
   "source": [
    "len(obs_list[0])"
   ]
  },
  {
   "cell_type": "code",
   "execution_count": null,
   "metadata": {},
   "outputs": [],
   "source": [
    "a = model.fit(obs_list,algorithm='baum-welch',max_iterations=1000)"
   ]
  },
  {
   "cell_type": "code",
   "execution_count": null,
   "metadata": {},
   "outputs": [],
   "source": [
    "Te = model.dense_transition_matrix()\n",
    "Te[:3,:3]"
   ]
  },
  {
   "cell_type": "code",
   "execution_count": null,
   "metadata": {},
   "outputs": [],
   "source": [
    "T"
   ]
  },
  {
   "cell_type": "code",
   "execution_count": null,
   "metadata": {},
   "outputs": [],
   "source": [
    "B_e = list()\n",
    "st = [p1, p2, p3]\n",
    "for etat in st:\n",
    "    Ee = etat.distribution.parameters[0]\n",
    "    B_e.append(list(Ee.values()))\n",
    "B_e = np.array(B_e)\n",
    "B_e"
   ]
  },
  {
   "cell_type": "code",
   "execution_count": null,
   "metadata": {},
   "outputs": [],
   "source": [
    "B"
   ]
  },
  {
   "cell_type": "code",
   "execution_count": 20,
   "metadata": {},
   "outputs": [],
   "source": [
    "import array_to_latex as a2l"
   ]
  },
  {
   "cell_type": "code",
   "execution_count": null,
   "metadata": {},
   "outputs": [],
   "source": []
  },
  {
   "cell_type": "code",
   "execution_count": 25,
   "metadata": {},
   "outputs": [],
   "source": [
    "a2l.to_ltx??"
   ]
  },
  {
   "cell_type": "code",
   "execution_count": null,
   "metadata": {},
   "outputs": [],
   "source": []
  }
 ],
 "metadata": {
  "kernelspec": {
   "display_name": "Python (myenv)",
   "language": "python",
   "name": "ds"
  },
  "language_info": {
   "codemirror_mode": {
    "name": "ipython",
    "version": 3
   },
   "file_extension": ".py",
   "mimetype": "text/x-python",
   "name": "python",
   "nbconvert_exporter": "python",
   "pygments_lexer": "ipython3",
   "version": "3.6.12"
  }
 },
 "nbformat": 4,
 "nbformat_minor": 4
}
