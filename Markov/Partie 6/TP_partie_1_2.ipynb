{
 "cells": [
  {
   "cell_type": "markdown",
   "metadata": {},
   "source": [
    "### TP : Markov chains"
   ]
  },
  {
   "cell_type": "markdown",
   "metadata": {},
   "source": [
    "#### Partie 1 : Pleut-il?"
   ]
  },
  {
   "cell_type": "code",
   "execution_count": 1,
   "metadata": {},
   "outputs": [],
   "source": [
    "import numpy as np\n",
    "import pomegranate as pg\n",
    "from partie1 import *\n",
    "import matplotlib.pyplot as plt"
   ]
  },
  {
   "cell_type": "markdown",
   "metadata": {},
   "source": [
    "Question 1 et 2 : voir le CR"
   ]
  },
  {
   "cell_type": "code",
   "execution_count": 2,
   "metadata": {},
   "outputs": [],
   "source": [
    "# question 3\n",
    "model = pg.HiddenMarkovModel()\n",
    "## param\n",
    "alpha = 0.65\n",
    "beta  = 0.02\n",
    "gamma = 0.9"
   ]
  },
  {
   "cell_type": "code",
   "execution_count": 3,
   "metadata": {},
   "outputs": [
    {
     "data": {
      "text/plain": [
       "array([[1, 0],\n",
       "       [0, 1]])"
      ]
     },
     "execution_count": 3,
     "metadata": {},
     "output_type": "execute_result"
    }
   ],
   "source": [
    "B = np.array([[1,0],[0,1]])               # matrice d'émission temporaire\n",
    "B"
   ]
  },
  {
   "cell_type": "code",
   "execution_count": 4,
   "metadata": {},
   "outputs": [
    {
     "data": {
      "text/plain": [
       "array([0, 0, 0, ..., 0, 0, 0])"
      ]
     },
     "execution_count": 4,
     "metadata": {},
     "output_type": "execute_result"
    }
   ],
   "source": [
    "# seq d'observations\n",
    "obsSeq"
   ]
  },
  {
   "cell_type": "code",
   "execution_count": 5,
   "metadata": {},
   "outputs": [
    {
     "data": {
      "text/plain": [
       "array([0, 0, 0, ..., 0, 0, 0])"
      ]
     },
     "execution_count": 5,
     "metadata": {},
     "output_type": "execute_result"
    }
   ],
   "source": [
    "#seq d'etats\n",
    "statesSeq"
   ]
  },
  {
   "cell_type": "markdown",
   "metadata": {},
   "source": [
    "question 4"
   ]
  },
  {
   "cell_type": "code",
   "execution_count": 6,
   "metadata": {},
   "outputs": [
    {
     "name": "stdout",
     "output_type": "stream",
     "text": [
      "la probabilité qu’il pleuve vaut :  0.05405405405405406\n",
      "la probabilité qu’il pleuve empiriquement vaut :  0.05421\n"
     ]
    }
   ],
   "source": [
    "P1 = beta /(1+beta - alpha)\n",
    "print(\"la probabilité qu’il pleuve vaut : \", P1)\n",
    "\n",
    "P1_emp = statesSeq.sum()/len(statesSeq)\n",
    "print(\"la probabilité qu’il pleuve empiriquement vaut : \", P1_emp)"
   ]
  },
  {
   "cell_type": "markdown",
   "metadata": {},
   "source": [
    "question 5"
   ]
  },
  {
   "cell_type": "code",
   "execution_count": 7,
   "metadata": {},
   "outputs": [],
   "source": [
    "dureeSec,dureePluie,pdfSec,pdfPluie,binsSec,binsPluie = duree(statesSeq)"
   ]
  },
  {
   "cell_type": "code",
   "execution_count": 8,
   "metadata": {},
   "outputs": [
    {
     "data": {
      "text/plain": [
       "(array([  0., 643., 421., 264., 190., 127.,  70.,  47.,  36.,  32.,  13.,\n",
       "          8.,   5.,   5.,   2.]),\n",
       " array([ 0,  1,  2,  3,  4,  5,  6,  7,  8,  9, 10, 11, 12, 13, 14, 15]),\n",
       " <a list of 15 Patch objects>)"
      ]
     },
     "execution_count": 8,
     "metadata": {},
     "output_type": "execute_result"
    },
    {
     "data": {
      "image/png": "[encoded data removed]",
      "text/plain": [
       "<Figure size 432x288 with 1 Axes>"
      ]
     },
     "metadata": {
      "needs_background": "light"
     },
     "output_type": "display_data"
    }
   ],
   "source": [
    "# histgramme de durée de pluie\n",
    "plt.hist(dureePluie, range = (16),bins = binsPluie[:16], color = 'blue',\n",
    "           edgecolor = 'red')\n"
   ]
  },
  {
   "cell_type": "code",
   "execution_count": 9,
   "metadata": {},
   "outputs": [
    {
     "name": "stdout",
     "output_type": "stream",
     "text": [
      "Type & Esperance & Variance\n",
      "theorique   & 2.857142857142857 & 5.306122448979592\n",
      "Modèle   & 2.905144694533762 & 5.380605900821263\n"
     ]
    }
   ],
   "source": [
    "p = 1 - alpha\n",
    "q = alpha\n",
    "\n",
    "\n",
    "## 1ere methode : comparer la moyenne et la variance théoriques et empériques\n",
    "\n",
    "# valeurs théoriques\n",
    "Esp_th = 1/p\n",
    "Var_th = q/p**2\n",
    "\n",
    "#valeurs empiriques\n",
    "Esp_emp = dureePluie.mean()\n",
    "Var_emp = (dureePluie.std())**2\n",
    "\n",
    "print(\"Type & Esperance & Variance\")\n",
    "print(\"theorique  \",'&',Esp_th,'&', Var_th )\n",
    "print(\"Modèle  \",'&',Esp_emp,'&',Var_emp)"
   ]
  },
  {
   "cell_type": "code",
   "execution_count": 10,
   "metadata": {},
   "outputs": [
    {
     "data": {
      "text/plain": [
       "<matplotlib.legend.Legend at 0x19f86b9fec8>"
      ]
     },
     "execution_count": 10,
     "metadata": {},
     "output_type": "execute_result"
    },
    {
     "data": {
      "image/png": "[encoded data removed]",
      "text/plain": [
       "<Figure size 864x360 with 1 Axes>"
      ]
     },
     "metadata": {
      "needs_background": "light"
     },
     "output_type": "display_data"
    }
   ],
   "source": [
    "## 2ème methode :\n",
    "pdfPluie_th = p * q**(binsPluie[1:]-1)\n",
    "\n",
    "plt.figure(figsize=(12,5))\n",
    "plt.semilogy(binsPluie[1:],pdfPluie_th, 'b*', label= \"Théorique pluie\")\n",
    "plt.semilogy(binsPluie[1:],pdfPluie, 'g-', label= \"Empirique pluie\")\n",
    "#plt.semilogy(binsSec[1:],pdfSec, 'r-', label= \"Empirique sec\")\n",
    "plt.xlabel('duree ')\n",
    "plt.ylabel('P []')\n",
    "plt.legend()"
   ]
  },
  {
   "cell_type": "markdown",
   "metadata": {},
   "source": [
    "Question 6 "
   ]
  },
  {
   "cell_type": "code",
   "execution_count": 11,
   "metadata": {},
   "outputs": [
    {
     "name": "stdout",
     "output_type": "stream",
     "text": [
      "la probabilité qu’il pleuve vaut :  0.05405405405405406\n",
      "la probabilité qu’il pleuve empiriquement vaut :  0.04193130383997664\n"
     ]
    }
   ],
   "source": [
    "Obser = ObsMesure.copy()\n",
    "Obser[Obser==1] = 0\n",
    "Obser[Obser==2] = 1\n",
    "\n",
    "P1 = beta /(1+beta - alpha)\n",
    "print(\"la probabilité qu’il pleuve vaut : \", P1)\n",
    "\n",
    "P1_emp = Obser.sum()/len(Obser)\n",
    "print(\"la probabilité qu’il pleuve empiriquement vaut : \", P1_emp)"
   ]
  },
  {
   "cell_type": "code",
   "execution_count": 12,
   "metadata": {},
   "outputs": [],
   "source": [
    "dureeSec2,dureePluie2,pdfSec2,pdfPluie2,binsSec2,binsPluie2 = duree(Obser)"
   ]
  },
  {
   "cell_type": "code",
   "execution_count": 13,
   "metadata": {},
   "outputs": [
    {
     "name": "stdout",
     "output_type": "stream",
     "text": [
      "Type & Esperance & Variance\n",
      "Modèle   & 2.905144694533762 & 5.380605900821263\n",
      "Expérience & 5.758145363408521 & 108.27609280092462\n"
     ]
    }
   ],
   "source": [
    "Esp_emp_X = dureePluie2.mean()\n",
    "Var_emp_X = (dureePluie2.std())**2\n",
    "\n",
    "print(\"Type & Esperance & Variance\")\n",
    "print(\"Modèle  \",'&',Esp_emp,'&',Var_emp)\n",
    "print(\"Expérience\",'&',Esp_emp_X,'&', Var_emp_X)"
   ]
  },
  {
   "cell_type": "markdown",
   "metadata": {},
   "source": [
    "Question 7"
   ]
  },
  {
   "cell_type": "code",
   "execution_count": 14,
   "metadata": {},
   "outputs": [
    {
     "name": "stdout",
     "output_type": "stream",
     "text": [
      "Type & Esperance & Variance\n",
      "theorique (Espérance et Variance)    & 50.0 & 2450.0\n",
      "Modele (Espérance et Variance)  & 50.630026809651476 & 2758.04542546845\n",
      "Expérience (Espérance et Variance)   & 124.7153605015674 & 195978.04813396093\n"
     ]
    }
   ],
   "source": [
    "p = beta\n",
    "q = (1-beta)\n",
    "\n",
    "\n",
    "## 1ere methode : comparer la moyenne et la variance théoriques et empériques\n",
    "\n",
    "# valeurs théoriques\n",
    "Esp_th = 1/p\n",
    "Var_th = q/p**2\n",
    "\n",
    "#valeurs empiriques\n",
    "Esp_emp_2 = dureeSec2.mean()\n",
    "Var_emp_2 = (dureeSec2.std())**2\n",
    "Esp_emp_1 = dureeSec.mean()\n",
    "Var_emp_1 = (dureeSec.std())**2\n",
    "\n",
    "\n",
    "print(\"Type & Esperance & Variance\")\n",
    "print(\"theorique (Espérance et Variance)   \",'&',Esp_th,'&', Var_th )\n",
    "print(\"Modele (Espérance et Variance) \",'&',Esp_emp_1,'&', Var_emp_1)\n",
    "print(\"Expérience (Espérance et Variance)  \",'&',Esp_emp_2,'&', Var_emp_2)"
   ]
  },
  {
   "cell_type": "code",
   "execution_count": 15,
   "metadata": {},
   "outputs": [
    {
     "data": {
      "image/png": "[encoded data removed]",
      "text/plain": [
       "<Figure size 864x360 with 1 Axes>"
      ]
     },
     "metadata": {
      "needs_background": "light"
     },
     "output_type": "display_data"
    }
   ],
   "source": [
    "## 2ème methode :\n",
    "pdfSec_th = p * q**(binsSec2[1:]-1)\n",
    "\n",
    "plt.figure(figsize=(12,5))\n",
    "plt.semilogy(binsSec2[1:],pdfSec_th, 'b*-', label= \"Théorique sec\")\n",
    "plt.semilogy(binsSec2[1:],pdfSec2, 'g*-', label= \"Empirique sec\")\n",
    "plt.semilogy(binsSec[1:],pdfSec, 'r*-', label= \"Modele sec\")\n",
    "plt.xlabel('duree ')\n",
    "plt.ylabel('pdf []')\n",
    "plt.xlim((0,1000))\n",
    "plt.legend()\n",
    "plt.grid()"
   ]
  },
  {
   "cell_type": "markdown",
   "metadata": {},
   "source": [
    "Question 8 : le modèle du chaine de Markov nous d'avoir une idée sur le comportement des états pour des faibles durées."
   ]
  },
  {
   "cell_type": "markdown",
   "metadata": {},
   "source": [
    "#### Partie 2 : pleut-il (suite)"
   ]
  },
  {
   "cell_type": "markdown",
   "metadata": {},
   "source": [
    "Question 1 : Voir CR"
   ]
  },
  {
   "cell_type": "code",
   "execution_count": 16,
   "metadata": {},
   "outputs": [],
   "source": [
    "from partie2 import *"
   ]
  },
  {
   "cell_type": "code",
   "execution_count": 17,
   "metadata": {},
   "outputs": [],
   "source": [
    "dureeSec3,dureePluie3,pdfSec3,pdfPluie3,binsSec3,binsPluie3 = duree(obsSeq)"
   ]
  },
  {
   "cell_type": "code",
   "execution_count": 18,
   "metadata": {},
   "outputs": [
    {
     "data": {
      "text/plain": [
       "array([0, 0, 1, ..., 0, 0, 0])"
      ]
     },
     "execution_count": 18,
     "metadata": {},
     "output_type": "execute_result"
    }
   ],
   "source": [
    "obsSeq"
   ]
  },
  {
   "cell_type": "code",
   "execution_count": 19,
   "metadata": {},
   "outputs": [
    {
     "name": "stdout",
     "output_type": "stream",
     "text": [
      "la probabilité qu’il pleuve empiriquement vaut :  0.0782\n",
      "la probabilité qu’il ne pleut pas empiriquement vaut :  0.9218\n",
      "le pourcentage de pluie / sécheresse  :  8.48340203948796\n"
     ]
    }
   ],
   "source": [
    "P1_emp = (obsSeq==1).sum()/len(obsSeq)\n",
    "P0_emp = (obsSeq==0).sum()/len(obsSeq)\n",
    "print(\"la probabilité qu’il pleuve empiriquement vaut : \", P1_emp)\n",
    "print(\"la probabilité qu’il ne pleut pas empiriquement vaut : \", P0_emp)\n",
    "print(\"le pourcentage de pluie / sécheresse  : \", P1_emp/P0_emp*100)"
   ]
  },
  {
   "cell_type": "code",
   "execution_count": 20,
   "metadata": {},
   "outputs": [
    {
     "name": "stdout",
     "output_type": "stream",
     "text": [
      "Empirique (Espérance et Variance) 1  2.0428422152560084 3.9020307932857916\n",
      "Expérience (Espérance et Variance) 2  5.758145363408521 108.27609280092462\n"
     ]
    }
   ],
   "source": [
    "#valeurs empiriques\n",
    "Esp_emp_2 = dureePluie2.mean()\n",
    "Var_emp_2 = (dureePluie2.std())**2\n",
    "Esp_emp_1 = dureePluie3.mean()\n",
    "Var_emp_1 = (dureePluie3.std())**2\n",
    "\n",
    "print(\"Empirique (Espérance et Variance) 1 \",Esp_emp_1, Var_emp_1)\n",
    "print(\"Expérience (Espérance et Variance) 2 \",Esp_emp_2, Var_emp_2)"
   ]
  },
  {
   "cell_type": "code",
   "execution_count": 21,
   "metadata": {},
   "outputs": [
    {
     "data": {
      "image/png": "[encoded data removed]",
      "text/plain": [
       "<Figure size 864x360 with 1 Axes>"
      ]
     },
     "metadata": {
      "needs_background": "light"
     },
     "output_type": "display_data"
    }
   ],
   "source": [
    "plt.figure(figsize=(12,5))\n",
    "plt.semilogy(binsPluie3[1:],pdfPluie3, 'g*-', label= \"simulé 2 pluie\")\n",
    "plt.semilogy(binsPluie[1:],pdfPluie, 'r*-', label= \"simulé 1 pluie\")\n",
    "plt.semilogy(binsPluie2[1:],pdfPluie2, 'y-', label= \"Empirique pluie\")\n",
    "\n",
    "plt.xlabel('duree ')\n",
    "plt.ylabel('pdf []')\n",
    "#plt.xlim((0,120))\n",
    "plt.legend()\n",
    "plt.grid()"
   ]
  },
  {
   "cell_type": "markdown",
   "metadata": {},
   "source": [
    "    cette modélisation ne permet pas de bien représenter le support de la pluie"
   ]
  },
  {
   "cell_type": "code",
   "execution_count": 22,
   "metadata": {},
   "outputs": [
    {
     "data": {
      "text/plain": [
       "2.905144694533762"
      ]
     },
     "execution_count": 22,
     "metadata": {},
     "output_type": "execute_result"
    }
   ],
   "source": [
    "dureePluie.mean()"
   ]
  },
  {
   "cell_type": "code",
   "execution_count": 23,
   "metadata": {},
   "outputs": [
    {
     "data": {
      "text/plain": [
       "5.380605900821264"
      ]
     },
     "execution_count": 23,
     "metadata": {},
     "output_type": "execute_result"
    }
   ],
   "source": [
    "dureePluie.var()"
   ]
  },
  {
   "cell_type": "markdown",
   "metadata": {},
   "source": [
    "Question 3"
   ]
  },
  {
   "cell_type": "code",
   "execution_count": 24,
   "metadata": {},
   "outputs": [
    {
     "data": {
      "text/plain": [
       "{\n",
       "    \"class\" : \"HiddenMarkovModel\",\n",
       "    \"name\" : \"partie 2\",\n",
       "    \"start\" : {\n",
       "        \"class\" : \"State\",\n",
       "        \"distribution\" : null,\n",
       "        \"name\" : \"partie 2-start\",\n",
       "        \"weight\" : 1.0\n",
       "    },\n",
       "    \"end\" : {\n",
       "        \"class\" : \"State\",\n",
       "        \"distribution\" : null,\n",
       "        \"name\" : \"partie 2-end\",\n",
       "        \"weight\" : 1.0\n",
       "    },\n",
       "    \"states\" : [\n",
       "        {\n",
       "            \"class\" : \"State\",\n",
       "            \"distribution\" : {\n",
       "                \"class\" : \"Distribution\",\n",
       "                \"dtype\" : \"str\",\n",
       "                \"name\" : \"DiscreteDistribution\",\n",
       "                \"parameters\" : [\n",
       "                    {\n",
       "                        \"sun\" : 1.0,\n",
       "                        \"rain\" : 0.0\n",
       "                    }\n",
       "                ],\n",
       "                \"frozen\" : false\n",
       "            },\n",
       "            \"name\" : \"c.sky\",\n",
       "            \"weight\" : 1.0\n",
       "        },\n",
       "        {\n",
       "            \"class\" : \"State\",\n",
       "            \"distribution\" : {\n",
       "                \"class\" : \"Distribution\",\n",
       "                \"dtype\" : \"str\",\n",
       "                \"name\" : \"DiscreteDistribution\",\n",
       "                \"parameters\" : [\n",
       "                    {\n",
       "                        \"sun\" : 0.9685871881802192,\n",
       "                        \"rain\" : 0.03141281181978084\n",
       "                    }\n",
       "                ],\n",
       "                \"frozen\" : false\n",
       "            },\n",
       "            \"name\" : \"cloudy\",\n",
       "            \"weight\" : 1.0\n",
       "        },\n",
       "        {\n",
       "            \"class\" : \"State\",\n",
       "            \"distribution\" : {\n",
       "                \"class\" : \"Distribution\",\n",
       "                \"dtype\" : \"str\",\n",
       "                \"name\" : \"DiscreteDistribution\",\n",
       "                \"parameters\" : [\n",
       "                    {\n",
       "                        \"sun\" : 0.0,\n",
       "                        \"rain\" : 1.0\n",
       "                    }\n",
       "                ],\n",
       "                \"frozen\" : false\n",
       "            },\n",
       "            \"name\" : \"v.cloudy\",\n",
       "            \"weight\" : 1.0\n",
       "        },\n",
       "        {\n",
       "            \"class\" : \"State\",\n",
       "            \"distribution\" : null,\n",
       "            \"name\" : \"partie 2-start\",\n",
       "            \"weight\" : 1.0\n",
       "        },\n",
       "        {\n",
       "            \"class\" : \"State\",\n",
       "            \"distribution\" : null,\n",
       "            \"name\" : \"partie 2-end\",\n",
       "            \"weight\" : 1.0\n",
       "        }\n",
       "    ],\n",
       "    \"end_index\" : 4,\n",
       "    \"start_index\" : 3,\n",
       "    \"silent_index\" : 3,\n",
       "    \"edges\" : [\n",
       "        [\n",
       "            3,\n",
       "            0,\n",
       "            1.0,\n",
       "            0.5,\n",
       "            null\n",
       "        ],\n",
       "        [\n",
       "            3,\n",
       "            1,\n",
       "            3.468976337392921e-45,\n",
       "            0.4,\n",
       "            null\n",
       "        ],\n",
       "        [\n",
       "            3,\n",
       "            2,\n",
       "            0.0,\n",
       "            0.1,\n",
       "            null\n",
       "        ],\n",
       "        [\n",
       "            0,\n",
       "            0,\n",
       "            0.9968022785641538,\n",
       "            0.9,\n",
       "            null\n",
       "        ],\n",
       "        [\n",
       "            0,\n",
       "            1,\n",
       "            0.0031977214358460777,\n",
       "            0.1,\n",
       "            null\n",
       "        ],\n",
       "        [\n",
       "            0,\n",
       "            2,\n",
       "            0.0,\n",
       "            0.0,\n",
       "            null\n",
       "        ],\n",
       "        [\n",
       "            1,\n",
       "            0,\n",
       "            0.04134839790998411,\n",
       "            0.5,\n",
       "            null\n",
       "        ],\n",
       "        [\n",
       "            1,\n",
       "            1,\n",
       "            0.8776834722931556,\n",
       "            0.4,\n",
       "            null\n",
       "        ],\n",
       "        [\n",
       "            1,\n",
       "            2,\n",
       "            0.08096812979686027,\n",
       "            0.1,\n",
       "            null\n",
       "        ],\n",
       "        [\n",
       "            2,\n",
       "            0,\n",
       "            0.0,\n",
       "            0.0,\n",
       "            null\n",
       "        ],\n",
       "        [\n",
       "            2,\n",
       "            1,\n",
       "            0.1403439270198725,\n",
       "            0.35,\n",
       "            null\n",
       "        ],\n",
       "        [\n",
       "            2,\n",
       "            2,\n",
       "            0.8596560729801276,\n",
       "            0.65,\n",
       "            null\n",
       "        ]\n",
       "    ],\n",
       "    \"distribution ties\" : []\n",
       "}"
      ]
     },
     "execution_count": 24,
     "metadata": {},
     "output_type": "execute_result"
    }
   ],
   "source": [
    "tmp= [] # On crée une liste composé de string ‘sun’ et ‘rain’ à la place des 1 et 2\n",
    "for o in ObsMesure:\n",
    "    if o == 1:\n",
    "        tmp.append('sun')\n",
    "    else:\n",
    "        tmp.append('rain')\n",
    "model.fit([tmp],algorithm='baum-welch',max_iterations=1000)"
   ]
  },
  {
   "cell_type": "code",
   "execution_count": 25,
   "metadata": {},
   "outputs": [
    {
     "ename": "NameError",
     "evalue": "name 'Mat' is not defined",
     "output_type": "error",
     "traceback": [
      "\u001b[1;31m---------------------------------------------------------------------------\u001b[0m",
      "\u001b[1;31mNameError\u001b[0m                                 Traceback (most recent call last)",
      "\u001b[1;32m<ipython-input-25-dd9b916a59b4>\u001b[0m in \u001b[0;36m<module>\u001b[1;34m\u001b[0m\n\u001b[0;32m      2\u001b[0m \u001b[0mplt\u001b[0m\u001b[1;33m.\u001b[0m\u001b[0mfigure\u001b[0m\u001b[1;33m(\u001b[0m\u001b[0mfigsize\u001b[0m\u001b[1;33m=\u001b[0m\u001b[1;33m(\u001b[0m\u001b[1;36m8\u001b[0m\u001b[1;33m,\u001b[0m\u001b[1;36m8\u001b[0m\u001b[1;33m)\u001b[0m\u001b[1;33m)\u001b[0m\u001b[1;33m\u001b[0m\u001b[1;33m\u001b[0m\u001b[0m\n\u001b[0;32m      3\u001b[0m \u001b[0mplt\u001b[0m\u001b[1;33m.\u001b[0m\u001b[0mtitle\u001b[0m\u001b[1;33m(\u001b[0m\u001b[1;34m'la nouvelle matrice de transition'\u001b[0m\u001b[1;33m)\u001b[0m\u001b[1;33m\u001b[0m\u001b[1;33m\u001b[0m\u001b[0m\n\u001b[1;32m----> 4\u001b[1;33m \u001b[0mplt\u001b[0m\u001b[1;33m.\u001b[0m\u001b[0mimshow\u001b[0m\u001b[1;33m(\u001b[0m\u001b[0mMat\u001b[0m\u001b[1;33m[\u001b[0m\u001b[1;33m:\u001b[0m\u001b[1;36m3\u001b[0m\u001b[1;33m,\u001b[0m\u001b[1;33m:\u001b[0m\u001b[1;36m3\u001b[0m\u001b[1;33m]\u001b[0m\u001b[1;33m)\u001b[0m\u001b[1;33m\u001b[0m\u001b[1;33m\u001b[0m\u001b[0m\n\u001b[0m\u001b[0;32m      5\u001b[0m \u001b[0mplt\u001b[0m\u001b[1;33m.\u001b[0m\u001b[0mcolorbar\u001b[0m\u001b[1;33m(\u001b[0m\u001b[1;33m)\u001b[0m\u001b[1;33m\u001b[0m\u001b[1;33m\u001b[0m\u001b[0m\n\u001b[0;32m      6\u001b[0m \u001b[0mplt\u001b[0m\u001b[1;33m.\u001b[0m\u001b[0mshow\u001b[0m\u001b[1;33m(\u001b[0m\u001b[1;33m)\u001b[0m\u001b[1;33m\u001b[0m\u001b[1;33m\u001b[0m\u001b[0m\n",
      "\u001b[1;31mNameError\u001b[0m: name 'Mat' is not defined"
     ]
    },
    {
     "data": {
      "image/png": "[encoded data removed]",
      "text/plain": [
       "<Figure size 576x576 with 1 Axes>"
      ]
     },
     "metadata": {
      "needs_background": "light"
     },
     "output_type": "display_data"
    }
   ],
   "source": [
    "Te = model.dense_transition_matrix()\n",
    "plt.figure(figsize=(8,8))\n",
    "plt.title('la nouvelle matrice de transition')\n",
    "plt.imshow(Mat[:3,:3])\n",
    "plt.colorbar()\n",
    "plt.show()"
   ]
  },
  {
   "cell_type": "markdown",
   "metadata": {},
   "source": [
    "**matrice de transition**"
   ]
  },
  {
   "cell_type": "code",
   "execution_count": 26,
   "metadata": {},
   "outputs": [
    {
     "data": {
      "text/plain": [
       "array([[0.99680228, 0.00319772, 0.        ],\n",
       "       [0.0413484 , 0.87768347, 0.08096813],\n",
       "       [0.        , 0.14034393, 0.85965607]])"
      ]
     },
     "execution_count": 26,
     "metadata": {},
     "output_type": "execute_result"
    }
   ],
   "source": [
    "Te[:3,:3]"
   ]
  },
  {
   "cell_type": "code",
   "execution_count": 27,
   "metadata": {},
   "outputs": [
    {
     "data": {
      "text/plain": [
       "array([[0.9 , 0.1 , 0.  ],\n",
       "       [0.5 , 0.4 , 0.1 ],\n",
       "       [0.  , 0.35, 0.65]])"
      ]
     },
     "execution_count": 27,
     "metadata": {},
     "output_type": "execute_result"
    }
   ],
   "source": [
    "T"
   ]
  },
  {
   "cell_type": "markdown",
   "metadata": {},
   "source": [
    "**matrice d'émission**"
   ]
  },
  {
   "cell_type": "code",
   "execution_count": 29,
   "metadata": {},
   "outputs": [],
   "source": [
    "st = [sunny, cloudy, v_cloudy]\n",
    "B_e = list()\n",
    "for etat in st:\n",
    "    Ee = etat.distribution.parameters[0]\n",
    "    B_e.append(list(Ee.values()))\n",
    "B_e = np.array(B_e)"
   ]
  },
  {
   "cell_type": "code",
   "execution_count": 30,
   "metadata": {},
   "outputs": [
    {
     "data": {
      "text/plain": [
       "array([[1.        , 0.        ],\n",
       "       [0.96858719, 0.03141281],\n",
       "       [0.        , 1.        ]])"
      ]
     },
     "execution_count": 30,
     "metadata": {},
     "output_type": "execute_result"
    }
   ],
   "source": [
    "B_e"
   ]
  },
  {
   "cell_type": "code",
   "execution_count": 31,
   "metadata": {},
   "outputs": [
    {
     "data": {
      "text/plain": [
       "array([[1. , 0. ],\n",
       "       [0.8, 0.2],\n",
       "       [0. , 1. ]])"
      ]
     },
     "execution_count": 31,
     "metadata": {},
     "output_type": "execute_result"
    }
   ],
   "source": [
    "B"
   ]
  },
  {
   "cell_type": "code",
   "execution_count": 32,
   "metadata": {},
   "outputs": [
    {
     "data": {
      "text/plain": [
       "array([[1. , 0. ],\n",
       "       [0.8, 0.2],\n",
       "       [0. , 1. ]])"
      ]
     },
     "execution_count": 32,
     "metadata": {},
     "output_type": "execute_result"
    }
   ],
   "source": [
    "B_init = np.array([[1,0],[0.8,0.2],[0,1]]) \n",
    "B_init"
   ]
  },
  {
   "cell_type": "markdown",
   "metadata": {},
   "source": [
    "Question 4"
   ]
  },
  {
   "cell_type": "code",
   "execution_count": 33,
   "metadata": {},
   "outputs": [],
   "source": [
    "# Génération d'une séquence de longueur Nsamples\n",
    "obsSeq2,statesSeq2 = model.sample(length=Nsamples,path=True)\n",
    "\n",
    "obsSeq2=np.array([dicoObs[t] for t in obsSeq2])      # Conversion des observables String -> int (0:beau, 1 pluie) )\n",
    "statesSeq2=np.array([dicoState[t.name] for t in statesSeq2[1:]])   # Conversion des etats String -> int (0:beau, 1 pluie) )\n"
   ]
  },
  {
   "cell_type": "code",
   "execution_count": 34,
   "metadata": {},
   "outputs": [],
   "source": [
    "dureeSec4,dureePluie4,pdfSec4,pdfPluie4,binsSec4,binsPluie4 = duree(obsSeq2)"
   ]
  },
  {
   "cell_type": "code",
   "execution_count": 35,
   "metadata": {},
   "outputs": [
    {
     "data": {
      "image/png": "[encoded data removed]",
      "text/plain": [
       "<Figure size 864x360 with 1 Axes>"
      ]
     },
     "metadata": {
      "needs_background": "light"
     },
     "output_type": "display_data"
    }
   ],
   "source": [
    "plt.figure(figsize=(12,5))\n",
    "plt.semilogy(binsPluie3[1:],pdfPluie3, 'g*-', label= \"modèle 2 avant fit - pluie\")\n",
    "plt.semilogy(binsPluie4[1:],pdfPluie4, 'b*-', label=  \"modèle 2 après fit - pluie\")\n",
    "plt.semilogy(binsPluie[1:],pdfPluie, 'r*-', label= \"modèle 1 pluie\")\n",
    "plt.semilogy(binsPluie2[1:],pdfPluie2, 'y-', label= \"Empirique pluie\")\n",
    "\n",
    "plt.xlabel('duree ')\n",
    "plt.ylabel('pdf []')\n",
    "#plt.xlim((0,120))\n",
    "plt.legend()\n",
    "plt.grid()"
   ]
  },
  {
   "cell_type": "code",
   "execution_count": 36,
   "metadata": {},
   "outputs": [
    {
     "data": {
      "image/png": "[encoded data removed]",
      "text/plain": [
       "<Figure size 864x360 with 1 Axes>"
      ]
     },
     "metadata": {
      "needs_background": "light"
     },
     "output_type": "display_data"
    }
   ],
   "source": [
    "plt.figure(figsize=(12,5))\n",
    "plt.semilogy(binsSec3[1:],pdfSec3, 'g*-', label= \"modèle 2 avant fit -  Sec\")\n",
    "plt.semilogy(binsSec4[1:],pdfSec4, 'b*-', label= \"modèle 2 après fit -  Sec\")\n",
    "plt.semilogy(binsSec[1:],pdfSec, 'r*-', label= \"modèle 1 Sec\")\n",
    "plt.semilogy(binsSec2[1:],pdfSec2, 'yo-', label= \"Empirique Sec\")\n",
    "\n",
    "plt.xlabel('duree ')\n",
    "plt.ylabel('pdf []')\n",
    "plt.xlim((0,500))\n",
    "plt.legend()\n",
    "plt.grid()"
   ]
  },
  {
   "cell_type": "markdown",
   "metadata": {},
   "source": [
    "Cette nouvelle modélisation pourrait être intéressante pour la modélisation du support de la pluie car elle arrive à estimer la probabilité de la pluie pour des longues durées"
   ]
  },
  {
   "cell_type": "code",
   "execution_count": 37,
   "metadata": {},
   "outputs": [
    {
     "name": "stdout",
     "output_type": "stream",
     "text": [
      "P(Pluie) empiriquement vaut :  0.04193130383997664\n",
      "P(Pluie) apres fit vaut :  0.03885\n",
      "P(sec) empiriquement vaut :  0.9580686961600233\n",
      "P(sec) fit vaut :  0.96115\n",
      "Expérience pluie (Espérance et Variance)  5.758145363408521 108.27609280092462\n",
      "Apres fit  pluie (Espérance et Variance)  5.772659732540862 43.082045971885215\n"
     ]
    }
   ],
   "source": [
    "P1_sim = (obsSeq2==1).sum()/len(obsSeq2)\n",
    "P0_sim = (obsSeq2==0).sum()/len(obsSeq2)\n",
    "\n",
    "P1_emp = (Obser==1).sum()/len(Obser)\n",
    "P0_emp = (Obser==0).sum()/len(Obser)\n",
    "\n",
    "Esp_emp_4 = dureePluie4.mean()\n",
    "Var_emp_4 = dureePluie4.var()\n",
    "\n",
    "print(\"P(Pluie) empiriquement vaut : \", P1_emp)\n",
    "print(\"P(Pluie) apres fit vaut : \", P1_sim)\n",
    "print(\"P(sec) empiriquement vaut : \", P0_emp)\n",
    "print(\"P(sec) fit vaut : \", P0_sim)\n",
    "\n",
    "\n",
    "print(\"Expérience pluie (Espérance et Variance) \",Esp_emp_2, Var_emp_2)\n",
    "print(\"Apres fit  pluie (Espérance et Variance) \",Esp_emp_4, Var_emp_4)"
   ]
  },
  {
   "cell_type": "code",
   "execution_count": 38,
   "metadata": {},
   "outputs": [
    {
     "name": "stdout",
     "output_type": "stream",
     "text": [
      "KL entre HMM fit et exp :  0.16978895239227276\n",
      "KL entre HMM non fit et exp :  0.18417570611974407\n",
      "KL entre CM et exp :  0.3350094652496224\n"
     ]
    },
    {
     "name": "stderr",
     "output_type": "stream",
     "text": [
      "C:\\Users\\user\\anaconda3\\lib\\site-packages\\ipykernel_launcher.py:3: RuntimeWarning: invalid value encountered in true_divide\n",
      "  This is separate from the ipykernel package so we can avoid doing imports until\n",
      "C:\\Users\\user\\anaconda3\\lib\\site-packages\\ipykernel_launcher.py:3: RuntimeWarning: divide by zero encountered in log\n",
      "  This is separate from the ipykernel package so we can avoid doing imports until\n",
      "C:\\Users\\user\\anaconda3\\lib\\site-packages\\ipykernel_launcher.py:3: RuntimeWarning: invalid value encountered in multiply\n",
      "  This is separate from the ipykernel package so we can avoid doing imports until\n",
      "C:\\Users\\user\\anaconda3\\lib\\site-packages\\ipykernel_launcher.py:3: RuntimeWarning: divide by zero encountered in true_divide\n",
      "  This is separate from the ipykernel package so we can avoid doing imports until\n"
     ]
    }
   ],
   "source": [
    "# avec un aure indicateur\n",
    "def kl_divergence(p, q):\n",
    "    return np.sum(np.where(p*q != 0, p * np.log(p / q), 0))\n",
    "\n",
    "print(\"KL entre HMM fit et exp : \",kl_divergence(pdfPluie4, pdfPluie2))\n",
    "print(\"KL entre HMM non fit et exp : \",kl_divergence(pdfPluie4, pdfPluie))\n",
    "print(\"KL entre CM et exp : \",kl_divergence(pdfPluie4, pdfPluie3))"
   ]
  },
  {
   "cell_type": "markdown",
   "metadata": {},
   "source": [
    "#### Partie 3 : froid ou chaud ?"
   ]
  },
  {
   "cell_type": "markdown",
   "metadata": {},
   "source": [
    "Question 1 : voir CR"
   ]
  },
  {
   "cell_type": "markdown",
   "metadata": {},
   "source": [
    "Question 2 :"
   ]
  },
  {
   "cell_type": "code",
   "execution_count": 39,
   "metadata": {},
   "outputs": [],
   "source": [
    "from partie3 import *"
   ]
  },
  {
   "cell_type": "code",
   "execution_count": 40,
   "metadata": {},
   "outputs": [],
   "source": [
    "obe10 = [ 'fine', 'moyenne', 'fine', 'epaisse', 'moyenne', 'fine', 'moyenne', 'moyenne', 'moyenne', 'moyenne']\n",
    "#obe10=np.array([dicoObs[t] for t in obe10]) \n",
    "#obe10"
   ]
  },
  {
   "cell_type": "code",
   "execution_count": 41,
   "metadata": {},
   "outputs": [
    {
     "data": {
      "text/plain": [
       "-10.905330869477169"
      ]
     },
     "execution_count": 41,
     "metadata": {},
     "output_type": "execute_result"
    }
   ],
   "source": [
    "model.log_probability(obe10)"
   ]
  },
  {
   "cell_type": "code",
   "execution_count": 42,
   "metadata": {},
   "outputs": [
    {
     "data": {
      "text/plain": [
       "1.836009736875e-05"
      ]
     },
     "execution_count": 42,
     "metadata": {},
     "output_type": "execute_result"
    }
   ],
   "source": [
    "model.probability(obe10)"
   ]
  },
  {
   "cell_type": "code",
   "execution_count": 43,
   "metadata": {},
   "outputs": [
    {
     "data": {
      "text/plain": [
       "-10.986122886681096"
      ]
     },
     "execution_count": 43,
     "metadata": {},
     "output_type": "execute_result"
    }
   ],
   "source": [
    "nombre_etats = 3\n",
    "taille_seq = 10\n",
    "np.log(1/nombre_etats**taille_seq)"
   ]
  },
  {
   "cell_type": "markdown",
   "metadata": {},
   "source": [
    "la probabilité d'une séquence calculé en HMM est légerement supérieur de probabilité de tirer aléatoirement un état qui suit une loi uniforme. D'où, la dépendance des états "
   ]
  },
  {
   "cell_type": "markdown",
   "metadata": {},
   "source": [
    "Question 2 -b : Calculer la séquence d’état la plus probable de température "
   ]
  },
  {
   "cell_type": "code",
   "execution_count": 44,
   "metadata": {},
   "outputs": [
    {
     "data": {
      "text/plain": [
       "array(['cold', 'hot'], dtype='<U4')"
      ]
     },
     "execution_count": 44,
     "metadata": {},
     "output_type": "execute_result"
    }
   ],
   "source": [
    "state_name = np.array(list(dicoState.keys()))\n",
    "state_name"
   ]
  },
  {
   "cell_type": "code",
   "execution_count": 45,
   "metadata": {
    "scrolled": true
   },
   "outputs": [],
   "source": [
    "stat10 = np.array(model.predict(obe10, algorithm='viterbi'))[1:]\n",
    "\n",
    "states = np.array([state_name[t] for t in stat10])\n"
   ]
  },
  {
   "cell_type": "code",
   "execution_count": 46,
   "metadata": {},
   "outputs": [
    {
     "data": {
      "text/plain": [
       "array(['hot', 'hot', 'hot', 'cold', 'cold', 'hot', 'hot', 'hot', 'hot',\n",
       "       'hot'], dtype='<U4')"
      ]
     },
     "execution_count": 46,
     "metadata": {},
     "output_type": "execute_result"
    }
   ],
   "source": [
    "states"
   ]
  },
  {
   "cell_type": "code",
   "execution_count": 47,
   "metadata": {},
   "outputs": [
    {
     "data": {
      "text/plain": [
       "array([0, 1, 0, 2, 1, 0, 1, 1, 1, 1])"
      ]
     },
     "execution_count": 47,
     "metadata": {},
     "output_type": "execute_result"
    }
   ],
   "source": [
    "np.array([dicoObs[t] for t in obe10]) "
   ]
  },
  {
   "cell_type": "code",
   "execution_count": 48,
   "metadata": {},
   "outputs": [
    {
     "data": {
      "text/plain": [
       "['cold', 'hot']"
      ]
     },
     "execution_count": 48,
     "metadata": {},
     "output_type": "execute_result"
    }
   ],
   "source": [
    "list(dicoState.keys())"
   ]
  },
  {
   "cell_type": "code",
   "execution_count": 49,
   "metadata": {},
   "outputs": [
    {
     "name": "stdout",
     "output_type": "stream",
     "text": [
      "hot\n",
      "hot\n",
      "hot\n",
      "cold\n",
      "cold\n",
      "hot\n",
      "hot\n",
      "hot\n",
      "hot\n",
      "hot\n"
     ]
    },
    {
     "data": {
      "text/plain": [
       "array([1, 1, 1, 0, 0, 1, 1, 1, 1, 1])"
      ]
     },
     "execution_count": 49,
     "metadata": {},
     "output_type": "execute_result"
    }
   ],
   "source": [
    "for e in stat10:\n",
    "    for (k, val) in dicoState.items():\n",
    "        if val == e:\n",
    "            e = k\n",
    "            print(k)\n",
    "stat10"
   ]
  },
  {
   "cell_type": "code",
   "execution_count": null,
   "metadata": {},
   "outputs": [],
   "source": []
  },
  {
   "cell_type": "markdown",
   "metadata": {},
   "source": [
    "## Partie 5"
   ]
  },
  {
   "cell_type": "code",
   "execution_count": 1,
   "metadata": {},
   "outputs": [],
   "source": [
    "from partie5 import *"
   ]
  },
  {
   "cell_type": "code",
   "execution_count": 2,
   "metadata": {},
   "outputs": [
    {
     "data": {
      "text/plain": [
       "100"
      ]
     },
     "execution_count": 2,
     "metadata": {},
     "output_type": "execute_result"
    }
   ],
   "source": [
    "Nsamples"
   ]
  },
  {
   "cell_type": "markdown",
   "metadata": {},
   "source": [
    "Question 1 et 2, 3 : Done"
   ]
  },
  {
   "cell_type": "markdown",
   "metadata": {},
   "source": [
    "**Question 4** : voir le rapport"
   ]
  },
  {
   "cell_type": "markdown",
   "metadata": {},
   "source": [
    "**Question 5** : voir le rapport P = 0.1572"
   ]
  },
  {
   "cell_type": "markdown",
   "metadata": {},
   "source": [
    "**Question 6**"
   ]
  },
  {
   "cell_type": "code",
   "execution_count": 3,
   "metadata": {},
   "outputs": [],
   "source": [
    "FFF = ['face', 'face', 'face']\n",
    "PPP = ['pile','pile','pile']\n",
    "FPF = ['face','pile','face']"
   ]
  },
  {
   "cell_type": "code",
   "execution_count": 4,
   "metadata": {},
   "outputs": [
    {
     "data": {
      "text/plain": [
       "array([[0.5, 0.4, 0.1],\n",
       "       [0.3, 0.4, 0.3],\n",
       "       [0.1, 0.2, 0.7]])"
      ]
     },
     "execution_count": 4,
     "metadata": {},
     "output_type": "execute_result"
    }
   ],
   "source": [
    "T"
   ]
  },
  {
   "cell_type": "code",
   "execution_count": 5,
   "metadata": {},
   "outputs": [
    {
     "data": {
      "text/plain": [
       "array([[0.5 , 0.5 ],\n",
       "       [0.25, 0.75],\n",
       "       [0.75, 0.25]])"
      ]
     },
     "execution_count": 5,
     "metadata": {},
     "output_type": "execute_result"
    }
   ],
   "source": [
    "B"
   ]
  },
  {
   "cell_type": "code",
   "execution_count": 6,
   "metadata": {},
   "outputs": [
    {
     "data": {
      "text/plain": [
       "0.15531250000000002"
      ]
     },
     "execution_count": 6,
     "metadata": {},
     "output_type": "execute_result"
    }
   ],
   "source": [
    "model.probability(FFF)"
   ]
  },
  {
   "cell_type": "code",
   "execution_count": 7,
   "metadata": {},
   "outputs": [
    {
     "data": {
      "text/plain": [
       "0.11218750000000002"
      ]
     },
     "execution_count": 7,
     "metadata": {},
     "output_type": "execute_result"
    }
   ],
   "source": [
    "model.probability(FPF)"
   ]
  },
  {
   "cell_type": "code",
   "execution_count": 8,
   "metadata": {},
   "outputs": [
    {
     "data": {
      "text/plain": [
       "0.10031250000000004"
      ]
     },
     "execution_count": 8,
     "metadata": {},
     "output_type": "execute_result"
    }
   ],
   "source": [
    "model.probability(PPP)"
   ]
  },
  {
   "cell_type": "markdown",
   "metadata": {},
   "source": [
    "**Question 8** : fait"
   ]
  },
  {
   "cell_type": "markdown",
   "metadata": {},
   "source": [
    "**Question 9**"
   ]
  },
  {
   "cell_type": "code",
   "execution_count": 9,
   "metadata": {},
   "outputs": [
    {
     "data": {
      "text/plain": [
       "array(['P1', 'P2', 'P3'], dtype='<U2')"
      ]
     },
     "execution_count": 9,
     "metadata": {},
     "output_type": "execute_result"
    }
   ],
   "source": [
    "state_name = np.array(list(dicoState.keys()))\n",
    "state_name"
   ]
  },
  {
   "cell_type": "code",
   "execution_count": 10,
   "metadata": {},
   "outputs": [
    {
     "data": {
      "text/plain": [
       "array(['P1', 'P1', 'P2'], dtype='<U2')"
      ]
     },
     "execution_count": 10,
     "metadata": {},
     "output_type": "execute_result"
    }
   ],
   "source": [
    "stat10 = np.array(model.predict(FPF, algorithm='viterbi'))[1:]\n",
    "\n",
    "states = np.array([state_name[t] for t in stat10])\n",
    "states"
   ]
  },
  {
   "cell_type": "markdown",
   "metadata": {},
   "source": [
    "**Question 10**"
   ]
  },
  {
   "cell_type": "code",
   "execution_count": 5,
   "metadata": {},
   "outputs": [],
   "source": [
    "#une liste de N séquences chacune de longueur T =100 \n",
    "obs_list = []\n",
    "Nsamples = 1000\n",
    "for i in range(10):\n",
    "    obsSeq = model.sample(length=Nsamples,path=False)\n",
    "    obs_list.append(obsSeq)\n"
   ]
  },
  {
   "cell_type": "markdown",
   "metadata": {},
   "source": [
    "a-"
   ]
  },
  {
   "cell_type": "code",
   "execution_count": 6,
   "metadata": {},
   "outputs": [],
   "source": [
    "tmp = [obs_list[0]]\n",
    "a = model.fit(tmp,algorithm='baum-welch',max_iterations=1000)\n"
   ]
  },
  {
   "cell_type": "code",
   "execution_count": 7,
   "metadata": {},
   "outputs": [
    {
     "data": {
      "text/plain": [
       "[array(['face', 'face', 'face', 'face', 'pile', 'face', 'face', 'face',\n",
       "        'face', 'pile', 'pile', 'face', 'pile', 'pile', 'pile', 'pile',\n",
       "        'pile', 'pile', 'face', 'face', 'pile', 'face', 'pile', 'pile',\n",
       "        'pile', 'pile', 'face', 'pile', 'pile', 'pile', 'pile', 'pile',\n",
       "        'pile', 'pile', 'face', 'pile', 'pile', 'face', 'pile', 'pile',\n",
       "        'face', 'pile', 'pile', 'face', 'face', 'face', 'face', 'pile',\n",
       "        'pile', 'pile', 'face', 'pile', 'pile', 'pile', 'pile', 'face',\n",
       "        'face', 'pile', 'face', 'pile', 'pile', 'pile', 'pile', 'face',\n",
       "        'face', 'pile', 'face', 'face', 'pile', 'pile', 'face', 'pile',\n",
       "        'face', 'pile', 'pile', 'face', 'pile', 'pile', 'face', 'face',\n",
       "        'face', 'face', 'face', 'pile', 'face', 'pile', 'pile', 'pile',\n",
       "        'face', 'pile', 'face', 'face', 'face', 'face', 'pile', 'face',\n",
       "        'face', 'pile', 'pile', 'face', 'face', 'pile', 'pile', 'face',\n",
       "        'face', 'face', 'pile', 'pile', 'pile', 'face', 'face', 'pile',\n",
       "        'pile', 'face', 'face', 'pile', 'face', 'pile', 'pile', 'pile',\n",
       "        'face', 'pile', 'face', 'pile', 'face', 'face', 'face', 'face',\n",
       "        'pile', 'pile', 'face', 'face', 'pile', 'pile', 'pile', 'pile',\n",
       "        'pile', 'pile', 'face', 'face', 'face', 'face', 'face', 'pile',\n",
       "        'pile', 'pile', 'face', 'face', 'pile', 'face', 'face', 'face',\n",
       "        'face', 'face', 'pile', 'pile', 'face', 'face', 'pile', 'pile',\n",
       "        'pile', 'pile', 'face', 'face', 'face', 'face', 'pile', 'face',\n",
       "        'pile', 'pile', 'pile', 'face', 'pile', 'face', 'pile', 'face',\n",
       "        'face', 'face', 'face', 'pile', 'face', 'face', 'pile', 'pile',\n",
       "        'face', 'pile', 'face', 'face', 'face', 'pile', 'face', 'face',\n",
       "        'face', 'pile', 'face', 'pile', 'pile', 'face', 'pile', 'pile',\n",
       "        'face', 'face', 'pile', 'face', 'face', 'face', 'face', 'pile',\n",
       "        'face', 'pile', 'pile', 'pile', 'pile', 'pile', 'pile', 'face',\n",
       "        'face', 'face', 'pile', 'pile', 'pile', 'pile', 'pile', 'face',\n",
       "        'pile', 'pile', 'pile', 'pile', 'pile', 'face', 'pile', 'pile',\n",
       "        'pile', 'pile', 'pile', 'pile', 'face', 'face', 'pile', 'pile',\n",
       "        'face', 'pile', 'pile', 'face', 'face', 'face', 'face', 'face',\n",
       "        'face', 'face', 'face', 'pile', 'pile', 'pile', 'pile', 'face',\n",
       "        'face', 'face', 'pile', 'pile', 'face', 'pile', 'face', 'pile',\n",
       "        'pile', 'pile', 'pile', 'pile', 'face', 'face', 'pile', 'pile',\n",
       "        'pile', 'face', 'pile', 'pile', 'pile', 'pile', 'pile', 'pile',\n",
       "        'pile', 'pile', 'pile', 'face', 'face', 'face', 'pile', 'face',\n",
       "        'pile', 'face', 'face', 'pile', 'pile', 'face', 'face', 'pile',\n",
       "        'pile', 'face', 'pile', 'face', 'face', 'face', 'pile', 'face',\n",
       "        'face', 'face', 'pile', 'face', 'face', 'face', 'pile', 'pile',\n",
       "        'pile', 'pile', 'face', 'face', 'face', 'face', 'face', 'pile',\n",
       "        'face', 'face', 'pile', 'pile', 'face', 'pile', 'face', 'face',\n",
       "        'face', 'pile', 'face', 'pile', 'pile', 'face', 'face', 'face',\n",
       "        'face', 'pile', 'pile', 'pile', 'pile', 'face', 'face', 'pile',\n",
       "        'pile', 'pile', 'pile', 'face', 'pile', 'pile', 'face', 'face',\n",
       "        'pile', 'face', 'face', 'face', 'face', 'face', 'face', 'pile',\n",
       "        'face', 'pile', 'face', 'face', 'face', 'pile', 'pile', 'pile',\n",
       "        'pile', 'pile', 'pile', 'pile', 'pile', 'pile', 'face', 'pile',\n",
       "        'face', 'pile', 'pile', 'face', 'face', 'face', 'pile', 'face',\n",
       "        'pile', 'face', 'face', 'face', 'pile', 'face', 'pile', 'pile',\n",
       "        'face', 'face', 'face', 'face', 'pile', 'pile', 'face', 'face',\n",
       "        'pile', 'face', 'pile', 'pile', 'pile', 'face', 'pile', 'pile',\n",
       "        'face', 'face', 'pile', 'pile', 'face', 'pile', 'pile', 'pile',\n",
       "        'face', 'pile', 'face', 'pile', 'face', 'face', 'pile', 'pile',\n",
       "        'pile', 'face', 'face', 'face', 'face', 'face', 'face', 'pile',\n",
       "        'pile', 'pile', 'pile', 'pile', 'face', 'pile', 'pile', 'pile',\n",
       "        'face', 'face', 'pile', 'pile', 'pile', 'pile', 'pile', 'pile',\n",
       "        'pile', 'face', 'pile', 'face', 'pile', 'pile', 'pile', 'face',\n",
       "        'face', 'pile', 'pile', 'face', 'pile', 'face', 'face', 'face',\n",
       "        'pile', 'pile', 'face', 'pile', 'pile', 'face', 'pile', 'face',\n",
       "        'face', 'pile', 'pile', 'pile', 'face', 'face', 'face', 'face',\n",
       "        'face', 'pile', 'pile', 'face', 'face', 'face', 'pile', 'pile',\n",
       "        'face', 'pile', 'face', 'pile', 'face', 'pile', 'face', 'pile',\n",
       "        'face', 'pile', 'face', 'face', 'pile', 'pile', 'pile', 'pile',\n",
       "        'face', 'face', 'face', 'face', 'pile', 'pile', 'pile', 'face',\n",
       "        'pile', 'pile', 'face', 'pile', 'pile', 'pile', 'face', 'face',\n",
       "        'face', 'pile', 'face', 'face', 'pile', 'pile', 'pile', 'face',\n",
       "        'pile', 'face', 'pile', 'face', 'face', 'pile', 'face', 'face',\n",
       "        'face', 'face', 'face', 'pile', 'pile', 'pile', 'pile', 'face',\n",
       "        'face', 'face', 'face', 'face', 'pile', 'face', 'pile', 'face',\n",
       "        'face', 'face', 'pile', 'pile', 'pile', 'pile', 'pile', 'face',\n",
       "        'pile', 'face', 'face', 'face', 'face', 'pile', 'face', 'face',\n",
       "        'pile', 'pile', 'pile', 'pile', 'pile', 'face', 'face', 'face',\n",
       "        'pile', 'face', 'pile', 'face', 'pile', 'pile', 'pile', 'pile',\n",
       "        'face', 'face', 'pile', 'pile', 'pile', 'pile', 'face', 'face',\n",
       "        'face', 'face', 'face', 'face', 'face', 'pile', 'face', 'face',\n",
       "        'face', 'face', 'face', 'pile', 'pile', 'pile', 'pile', 'pile',\n",
       "        'face', 'face', 'pile', 'face', 'pile', 'face', 'pile', 'pile',\n",
       "        'face', 'face', 'face', 'face', 'pile', 'pile', 'face', 'face',\n",
       "        'pile', 'face', 'pile', 'face', 'face', 'pile', 'face', 'face',\n",
       "        'face', 'face', 'pile', 'pile', 'pile', 'face', 'pile', 'pile',\n",
       "        'pile', 'pile', 'face', 'pile', 'face', 'face', 'face', 'pile',\n",
       "        'pile', 'face', 'face', 'pile', 'face', 'face', 'face', 'face',\n",
       "        'pile', 'pile', 'pile', 'face', 'face', 'pile', 'face', 'pile',\n",
       "        'face', 'pile', 'pile', 'pile', 'pile', 'face', 'face', 'pile',\n",
       "        'face', 'pile', 'face', 'pile', 'pile', 'pile', 'pile', 'face',\n",
       "        'pile', 'pile', 'face', 'pile', 'pile', 'pile', 'face', 'face',\n",
       "        'pile', 'pile', 'face', 'pile', 'pile', 'pile', 'face', 'pile',\n",
       "        'face', 'face', 'pile', 'pile', 'face', 'face', 'pile', 'face',\n",
       "        'face', 'pile', 'pile', 'face', 'face', 'face', 'face', 'face',\n",
       "        'face', 'face', 'pile', 'face', 'face', 'face', 'pile', 'face',\n",
       "        'pile', 'face', 'pile', 'face', 'face', 'pile', 'face', 'face',\n",
       "        'pile', 'face', 'face', 'pile', 'pile', 'pile', 'pile', 'pile',\n",
       "        'face', 'pile', 'pile', 'pile', 'face', 'face', 'pile', 'pile',\n",
       "        'face', 'face', 'face', 'pile', 'face', 'pile', 'pile', 'face',\n",
       "        'pile', 'face', 'pile', 'pile', 'pile', 'face', 'pile', 'pile',\n",
       "        'pile', 'pile', 'pile', 'pile', 'face', 'face', 'face', 'face',\n",
       "        'face', 'pile', 'pile', 'pile', 'pile', 'face', 'face', 'pile',\n",
       "        'pile', 'face', 'face', 'pile', 'pile', 'face', 'face', 'face',\n",
       "        'face', 'face', 'face', 'pile', 'face', 'face', 'pile', 'pile',\n",
       "        'pile', 'pile', 'face', 'pile', 'face', 'face', 'face', 'face',\n",
       "        'pile', 'pile', 'pile', 'pile', 'pile', 'pile', 'face', 'face',\n",
       "        'face', 'pile', 'face', 'face', 'face', 'face', 'face', 'pile',\n",
       "        'pile', 'face', 'face', 'pile', 'face', 'pile', 'pile', 'pile',\n",
       "        'pile', 'face', 'face', 'face', 'pile', 'face', 'pile', 'face',\n",
       "        'face', 'face', 'face', 'pile', 'face', 'pile', 'face', 'face',\n",
       "        'face', 'pile', 'pile', 'face', 'face', 'face', 'pile', 'face',\n",
       "        'pile', 'face', 'face', 'face', 'pile', 'pile', 'face', 'face',\n",
       "        'pile', 'face', 'face', 'pile', 'pile', 'pile', 'pile', 'face',\n",
       "        'face', 'face', 'face', 'pile', 'pile', 'face', 'face', 'pile',\n",
       "        'face', 'face', 'face', 'pile', 'pile', 'pile', 'face', 'face',\n",
       "        'pile', 'face', 'pile', 'face', 'face', 'pile', 'pile', 'face',\n",
       "        'pile', 'face', 'pile', 'face', 'face', 'pile', 'pile', 'face',\n",
       "        'face', 'pile', 'face', 'face', 'face', 'pile', 'pile', 'face',\n",
       "        'pile', 'pile', 'pile', 'pile', 'pile', 'face', 'pile', 'face',\n",
       "        'pile', 'pile', 'pile', 'pile', 'face', 'face', 'face', 'face',\n",
       "        'face', 'pile', 'face', 'face', 'pile', 'pile', 'pile', 'face',\n",
       "        'pile', 'face', 'face', 'pile', 'pile', 'face', 'pile', 'face',\n",
       "        'face', 'pile', 'pile', 'pile', 'face', 'pile', 'face', 'pile',\n",
       "        'pile', 'pile', 'pile', 'pile', 'pile', 'pile', 'pile', 'pile',\n",
       "        'pile', 'pile', 'face', 'pile', 'pile', 'face', 'face', 'face',\n",
       "        'pile', 'face', 'face', 'face', 'pile', 'pile', 'face', 'pile',\n",
       "        'pile', 'face', 'pile', 'face', 'pile', 'pile', 'face', 'face',\n",
       "        'face', 'pile', 'face', 'face', 'pile', 'face', 'pile', 'face',\n",
       "        'pile', 'face', 'face', 'face', 'pile', 'face', 'face', 'pile',\n",
       "        'face', 'pile', 'pile', 'face', 'pile', 'face', 'face', 'face'],\n",
       "       dtype='<U4')]"
      ]
     },
     "execution_count": 7,
     "metadata": {},
     "output_type": "execute_result"
    }
   ],
   "source": [
    "tmp"
   ]
  },
  {
   "cell_type": "code",
   "execution_count": 8,
   "metadata": {},
   "outputs": [
    {
     "data": {
      "text/plain": [
       "array([[0.53625511, 0.31239608, 0.15134881],\n",
       "       [0.25855537, 0.39685044, 0.3445942 ],\n",
       "       [0.09618185, 0.20372218, 0.70009597]])"
      ]
     },
     "execution_count": 8,
     "metadata": {},
     "output_type": "execute_result"
    }
   ],
   "source": [
    "Te = model.dense_transition_matrix()\n",
    "Te[:3,:3]"
   ]
  },
  {
   "cell_type": "code",
   "execution_count": 9,
   "metadata": {},
   "outputs": [
    {
     "data": {
      "text/plain": [
       "array([[0.5, 0.4, 0.1],\n",
       "       [0.3, 0.4, 0.3],\n",
       "       [0.1, 0.2, 0.7]])"
      ]
     },
     "execution_count": 9,
     "metadata": {},
     "output_type": "execute_result"
    }
   ],
   "source": [
    "T"
   ]
  },
  {
   "cell_type": "code",
   "execution_count": 30,
   "metadata": {},
   "outputs": [
    {
     "data": {
      "text/plain": [
       "array([[1.30744196e-69, 1.00000000e+00],\n",
       "       [4.58702478e-51, 1.00000000e+00],\n",
       "       [6.85661988e-01, 3.14338012e-01]])"
      ]
     },
     "execution_count": 30,
     "metadata": {},
     "output_type": "execute_result"
    }
   ],
   "source": [
    "B_e = list()\n",
    "st = [p1, p2, p3]\n",
    "for etat in st:\n",
    "    Ee = etat.distribution.parameters[0]\n",
    "    B_e.append(list(Ee.values()))\n",
    "B_e = np.array(B_e)\n",
    "B_e"
   ]
  },
  {
   "cell_type": "code",
   "execution_count": 31,
   "metadata": {},
   "outputs": [
    {
     "data": {
      "text/plain": [
       "array([[0.5 , 0.5 ],\n",
       "       [0.25, 0.75],\n",
       "       [0.75, 0.25]])"
      ]
     },
     "execution_count": 31,
     "metadata": {},
     "output_type": "execute_result"
    }
   ],
   "source": [
    "B"
   ]
  },
  {
   "cell_type": "markdown",
   "metadata": {},
   "source": [
    "on reste dans les états p1 et p2 si l'observation est face sinon on a une forte chance d'être en p3 si l'observation est pile."
   ]
  },
  {
   "cell_type": "markdown",
   "metadata": {},
   "source": [
    "b - "
   ]
  },
  {
   "cell_type": "code",
   "execution_count": 46,
   "metadata": {},
   "outputs": [
    {
     "data": {
      "text/plain": [
       "1000"
      ]
     },
     "execution_count": 46,
     "metadata": {},
     "output_type": "execute_result"
    }
   ],
   "source": [
    "len(obs_list[0])"
   ]
  },
  {
   "cell_type": "code",
   "execution_count": 47,
   "metadata": {},
   "outputs": [],
   "source": [
    "a = model.fit(obs_list,algorithm='baum-welch',max_iterations=1000)"
   ]
  },
  {
   "cell_type": "code",
   "execution_count": 48,
   "metadata": {},
   "outputs": [
    {
     "data": {
      "text/plain": [
       "array([[9.55076270e-001, 4.49237233e-002, 6.18923499e-009],\n",
       "       [0.00000000e+000, 2.23052651e-281, 1.00000000e+000],\n",
       "       [9.39164278e-001, 6.08357224e-002, 6.83670197e-052]])"
      ]
     },
     "execution_count": 48,
     "metadata": {},
     "output_type": "execute_result"
    }
   ],
   "source": [
    "Te = model.dense_transition_matrix()\n",
    "Te[:3,:3]"
   ]
  },
  {
   "cell_type": "code",
   "execution_count": 43,
   "metadata": {},
   "outputs": [
    {
     "data": {
      "text/plain": [
       "array([[0.5, 0.4, 0.1],\n",
       "       [0.3, 0.4, 0.3],\n",
       "       [0.1, 0.2, 0.7]])"
      ]
     },
     "execution_count": 43,
     "metadata": {},
     "output_type": "execute_result"
    }
   ],
   "source": [
    "T"
   ]
  },
  {
   "cell_type": "code",
   "execution_count": 35,
   "metadata": {},
   "outputs": [
    {
     "data": {
      "text/plain": [
       "array([[7.79405939e-001, 2.20594061e-001],\n",
       "       [3.43217379e-034, 1.00000000e+000],\n",
       "       [7.54435049e-153, 1.00000000e+000]])"
      ]
     },
     "execution_count": 35,
     "metadata": {},
     "output_type": "execute_result"
    }
   ],
   "source": [
    "B_e = list()\n",
    "st = [p1, p2, p3]\n",
    "for etat in st:\n",
    "    Ee = etat.distribution.parameters[0]\n",
    "    B_e.append(list(Ee.values()))\n",
    "B_e = np.array(B_e)\n",
    "B_e"
   ]
  },
  {
   "cell_type": "code",
   "execution_count": 36,
   "metadata": {},
   "outputs": [
    {
     "data": {
      "text/plain": [
       "array([[0.5 , 0.5 ],\n",
       "       [0.25, 0.75],\n",
       "       [0.75, 0.25]])"
      ]
     },
     "execution_count": 36,
     "metadata": {},
     "output_type": "execute_result"
    }
   ],
   "source": [
    "B"
   ]
  }
 ],
 "metadata": {
  "kernelspec": {
   "display_name": "Python 3",
   "language": "python",
   "name": "python3"
  },
  "language_info": {
   "codemirror_mode": {
    "name": "ipython",
    "version": 3
   },
   "file_extension": ".py",
   "mimetype": "text/x-python",
   "name": "python",
   "nbconvert_exporter": "python",
   "pygments_lexer": "ipython3",
   "version": "3.7.6"
  }
 },
 "nbformat": 4,
 "nbformat_minor": 4
}
