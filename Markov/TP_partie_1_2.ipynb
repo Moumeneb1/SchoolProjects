{
 "cells": [
  {
   "cell_type": "markdown",
   "metadata": {},
   "source": [
    "### TP : Markov chains"
   ]
  },
  {
   "cell_type": "markdown",
   "metadata": {},
   "source": [
    "#### Partie 1 : Pleut-il?"
   ]
  },
  {
   "cell_type": "code",
   "execution_count": 1,
   "metadata": {},
   "outputs": [],
   "source": [
    "import numpy as np\n",
    "import pomegranate as pg\n",
    "from partie1 import *\n",
    "import matplotlib.pyplot as plt"
   ]
  },
  {
   "cell_type": "markdown",
   "metadata": {},
   "source": [
    "Question 1 et 2 : voir le CR"
   ]
  },
  {
   "cell_type": "code",
   "execution_count": 2,
   "metadata": {},
   "outputs": [],
   "source": [
    "# question 3\n",
    "model = pg.HiddenMarkovModel()\n",
    "## param\n",
    "alpha = 0.65\n",
    "beta  = 0.02\n",
    "gamma = 0.9"
   ]
  },
  {
   "cell_type": "code",
   "execution_count": 3,
   "metadata": {},
   "outputs": [
    {
     "data": {
      "text/plain": [
       "array([[1, 0],\n",
       "       [0, 1]])"
      ]
     },
     "execution_count": 3,
     "metadata": {},
     "output_type": "execute_result"
    }
   ],
   "source": [
    "B = np.array([[1,0],[0,1]])               # matrice d'émission temporaire\n",
    "B"
   ]
  },
  {
   "cell_type": "code",
   "execution_count": 4,
   "metadata": {},
   "outputs": [
    {
     "data": {
      "text/plain": [
       "array([0, 0, 0, ..., 0, 0, 0])"
      ]
     },
     "execution_count": 4,
     "metadata": {},
     "output_type": "execute_result"
    }
   ],
   "source": [
    "# seq d'observations\n",
    "obsSeq"
   ]
  },
  {
   "cell_type": "code",
   "execution_count": 5,
   "metadata": {},
   "outputs": [
    {
     "data": {
      "text/plain": [
       "array([0, 0, 0, ..., 0, 0, 0])"
      ]
     },
     "execution_count": 5,
     "metadata": {},
     "output_type": "execute_result"
    }
   ],
   "source": [
    "#seq d'etats\n",
    "statesSeq"
   ]
  },
  {
   "cell_type": "markdown",
   "metadata": {},
   "source": [
    "question 4"
   ]
  },
  {
   "cell_type": "code",
   "execution_count": 6,
   "metadata": {},
   "outputs": [
    {
     "name": "stdout",
     "output_type": "stream",
     "text": [
      "la probabilité qu’il pleuve vaut :  0.05405405405405406\n",
      "la probabilité qu’il pleuve empiriquement vaut :  0.0539\n"
     ]
    }
   ],
   "source": [
    "P1 = beta /(1+beta - alpha)\n",
    "print(\"la probabilité qu’il pleuve vaut : \", P1)\n",
    "\n",
    "P1_emp = statesSeq.sum()/len(statesSeq)\n",
    "print(\"la probabilité qu’il pleuve empiriquement vaut : \", P1_emp)"
   ]
  },
  {
   "cell_type": "markdown",
   "metadata": {},
   "source": [
    "question 5"
   ]
  },
  {
   "cell_type": "code",
   "execution_count": 7,
   "metadata": {},
   "outputs": [],
   "source": [
    "dureeSec,dureePluie,pdfSec,pdfPluie,binsSec,binsPluie = duree(statesSeq)"
   ]
  },
  {
   "cell_type": "code",
   "execution_count": 8,
   "metadata": {},
   "outputs": [
    {
     "data": {
      "text/plain": [
       "(array([  0., 685., 416., 257., 203.,  94.,  85.,  44.,  31.,  21.,  25.,\n",
       "          8.,   9.,   4.,   1.]),\n",
       " array([ 0,  1,  2,  3,  4,  5,  6,  7,  8,  9, 10, 11, 12, 13, 14, 15]),\n",
       " <a list of 15 Patch objects>)"
      ]
     },
     "execution_count": 8,
     "metadata": {},
     "output_type": "execute_result"
    },
    {
     "data": {
      "image/png": "[encoded data removed]",
      "text/plain": [
       "<Figure size 432x288 with 1 Axes>"
      ]
     },
     "metadata": {
      "needs_background": "light"
     },
     "output_type": "display_data"
    }
   ],
   "source": [
    "# histgramme de durée de pluie\n",
    "plt.hist(dureePluie, range = (16),bins = binsPluie[:16], color = 'blue',\n",
    "           edgecolor = 'red')\n"
   ]
  },
  {
   "cell_type": "code",
   "execution_count": 9,
   "metadata": {},
   "outputs": [
    {
     "name": "stdout",
     "output_type": "stream",
     "text": [
      "Type & Esperance & Variance\n",
      "theorique   & 2.857142857142857 & 5.306122448979592\n",
      "Modèle   & 2.8579003181336162 & 5.473975230784627\n"
     ]
    }
   ],
   "source": [
    "p = 1 - alpha\n",
    "q = alpha\n",
    "\n",
    "\n",
    "## 1ere methode : comparer la moyenne et la variance théoriques et empériques\n",
    "\n",
    "# valeurs théoriques\n",
    "Esp_th = 1/p\n",
    "Var_th = q/p**2\n",
    "\n",
    "#valeurs empiriques\n",
    "Esp_emp = dureePluie.mean()\n",
    "Var_emp = (dureePluie.std())**2\n",
    "\n",
    "print(\"Type & Esperance & Variance\")\n",
    "print(\"theorique  \",'&',Esp_th,'&', Var_th )\n",
    "print(\"Modèle  \",'&',Esp_emp,'&',Var_emp)"
   ]
  },
  {
   "cell_type": "code",
   "execution_count": 10,
   "metadata": {},
   "outputs": [
    {
     "data": {
      "text/plain": [
       "<matplotlib.legend.Legend at 0x292f7912288>"
      ]
     },
     "execution_count": 10,
     "metadata": {},
     "output_type": "execute_result"
    },
    {
     "data": {
      "image/png": "[encoded data removed]",
      "text/plain": [
       "<Figure size 864x360 with 1 Axes>"
      ]
     },
     "metadata": {
      "needs_background": "light"
     },
     "output_type": "display_data"
    }
   ],
   "source": [
    "## 2ème methode :\n",
    "pdfPluie_th = p * q**(binsPluie[1:]-1)\n",
    "\n",
    "plt.figure(figsize=(12,5))\n",
    "plt.semilogy(binsPluie[1:],pdfPluie_th, 'b*', label= \"Théorique pluie\")\n",
    "plt.semilogy(binsPluie[1:],pdfPluie, 'g-', label= \"Empirique pluie\")\n",
    "#plt.semilogy(binsSec[1:],pdfSec, 'r-', label= \"Empirique sec\")\n",
    "plt.xlabel('duree ')\n",
    "plt.ylabel('P []')\n",
    "plt.legend()"
   ]
  },
  {
   "cell_type": "markdown",
   "metadata": {},
   "source": [
    "Question 6 "
   ]
  },
  {
   "cell_type": "code",
   "execution_count": 11,
   "metadata": {},
   "outputs": [
    {
     "name": "stdout",
     "output_type": "stream",
     "text": [
      "la probabilité qu’il pleuve vaut :  0.05405405405405406\n",
      "la probabilité qu’il pleuve empiriquement vaut :  0.04193130383997664\n"
     ]
    }
   ],
   "source": [
    "Obser = ObsMesure.copy()\n",
    "Obser[Obser==1] = 0\n",
    "Obser[Obser==2] = 1\n",
    "\n",
    "P1 = beta /(1+beta - alpha)\n",
    "print(\"la probabilité qu’il pleuve vaut : \", P1)\n",
    "\n",
    "P1_emp = Obser.sum()/len(Obser)\n",
    "print(\"la probabilité qu’il pleuve empiriquement vaut : \", P1_emp)"
   ]
  },
  {
   "cell_type": "code",
   "execution_count": 12,
   "metadata": {},
   "outputs": [],
   "source": [
    "dureeSec2,dureePluie2,pdfSec2,pdfPluie2,binsSec2,binsPluie2 = duree(Obser)"
   ]
  },
  {
   "cell_type": "code",
   "execution_count": 15,
   "metadata": {},
   "outputs": [
    {
     "name": "stdout",
     "output_type": "stream",
     "text": [
      "Type & Esperance & Variance\n",
      "Modèle   & 2.8579003181336162 & 5.473975230784627\n",
      "Expérience & 5.758145363408521 & 108.27609280092462\n"
     ]
    }
   ],
   "source": [
    "Esp_emp_X = dureePluie2.mean()\n",
    "Var_emp_X = (dureePluie2.std())**2\n",
    "\n",
    "print(\"Type & Esperance & Variance\")\n",
    "print(\"Modèle  \",'&',Esp_emp,'&',Var_emp)\n",
    "print(\"Expérience\",'&',Esp_emp_X,'&', Var_emp_X)"
   ]
  },
  {
   "cell_type": "markdown",
   "metadata": {},
   "source": [
    "Question 7"
   ]
  },
  {
   "cell_type": "code",
   "execution_count": 16,
   "metadata": {},
   "outputs": [
    {
     "name": "stdout",
     "output_type": "stream",
     "text": [
      "Type & Esperance & Variance\n",
      "theorique (Espérance et Variance)    & 50.0 & 2450.0\n",
      "Modele (Espérance et Variance)  & 50.02387267904509 & 2479.717732482463\n",
      "Expérience (Espérance et Variance)   & 124.7153605015674 & 195978.04813396093\n"
     ]
    }
   ],
   "source": [
    "p = beta\n",
    "q = (1-beta)\n",
    "\n",
    "\n",
    "## 1ere methode : comparer la moyenne et la variance théoriques et empériques\n",
    "\n",
    "# valeurs théoriques\n",
    "Esp_th = 1/p\n",
    "Var_th = q/p**2\n",
    "\n",
    "#valeurs empiriques\n",
    "Esp_emp_2 = dureeSec2.mean()\n",
    "Var_emp_2 = (dureeSec2.std())**2\n",
    "Esp_emp_1 = dureeSec.mean()\n",
    "Var_emp_1 = (dureeSec.std())**2\n",
    "\n",
    "\n",
    "print(\"Type & Esperance & Variance\")\n",
    "print(\"theorique (Espérance et Variance)   \",'&',Esp_th,'&', Var_th )\n",
    "print(\"Modele (Espérance et Variance) \",'&',Esp_emp_1,'&', Var_emp_1)\n",
    "print(\"Expérience (Espérance et Variance)  \",'&',Esp_emp_2,'&', Var_emp_2)"
   ]
  },
  {
   "cell_type": "code",
   "execution_count": 17,
   "metadata": {},
   "outputs": [
    {
     "data": {
      "image/png": "[encoded data removed]",
      "text/plain": [
       "<Figure size 864x360 with 1 Axes>"
      ]
     },
     "metadata": {
      "needs_background": "light"
     },
     "output_type": "display_data"
    }
   ],
   "source": [
    "## 2ème methode :\n",
    "pdfSec_th = p * q**(binsSec2[1:]-1)\n",
    "\n",
    "plt.figure(figsize=(12,5))\n",
    "plt.semilogy(binsSec2[1:],pdfSec_th, 'b*-', label= \"Théorique sec\")\n",
    "plt.semilogy(binsSec2[1:],pdfSec2, 'g*-', label= \"Empirique sec\")\n",
    "plt.semilogy(binsSec[1:],pdfSec, 'r*-', label= \"Modele sec\")\n",
    "plt.xlabel('duree ')\n",
    "plt.ylabel('pdf []')\n",
    "plt.xlim((0,1000))\n",
    "plt.legend()\n",
    "plt.grid()"
   ]
  },
  {
   "cell_type": "markdown",
   "metadata": {},
   "source": [
    "Question 8 : le modèle du chaine de Markov nous d'avoir une idée sur le comportement des états pour des faibles durées."
   ]
  },
  {
   "cell_type": "markdown",
   "metadata": {},
   "source": [
    "#### Partie 2 : pleut-il (suite)"
   ]
  },
  {
   "cell_type": "markdown",
   "metadata": {},
   "source": [
    "Question 1 : Voir CR"
   ]
  },
  {
   "cell_type": "code",
   "execution_count": 18,
   "metadata": {},
   "outputs": [],
   "source": [
    "from partie2 import *"
   ]
  },
  {
   "cell_type": "code",
   "execution_count": 19,
   "metadata": {},
   "outputs": [],
   "source": [
    "dureeSec3,dureePluie3,pdfSec3,pdfPluie3,binsSec3,binsPluie3 = duree(obsSeq)"
   ]
  },
  {
   "cell_type": "code",
   "execution_count": 20,
   "metadata": {},
   "outputs": [
    {
     "data": {
      "text/plain": [
       "array([1, 0, 1, ..., 0, 0, 1])"
      ]
     },
     "execution_count": 20,
     "metadata": {},
     "output_type": "execute_result"
    }
   ],
   "source": [
    "obsSeq"
   ]
  },
  {
   "cell_type": "code",
   "execution_count": 21,
   "metadata": {},
   "outputs": [
    {
     "name": "stdout",
     "output_type": "stream",
     "text": [
      "la probabilité qu’il pleuve empiriquement vaut :  0.07788\n",
      "la probabilité qu’il ne pleut pas empiriquement vaut :  0.92212\n",
      "le pourcentage de pluie / sécheresse  :  8.445755433132348\n"
     ]
    }
   ],
   "source": [
    "P1_emp = (obsSeq==1).sum()/len(obsSeq)\n",
    "P0_emp = (obsSeq==0).sum()/len(obsSeq)\n",
    "print(\"la probabilité qu’il pleuve empiriquement vaut : \", P1_emp)\n",
    "print(\"la probabilité qu’il ne pleut pas empiriquement vaut : \", P0_emp)\n",
    "print(\"le pourcentage de pluie / sécheresse  : \", P1_emp/P0_emp*100)"
   ]
  },
  {
   "cell_type": "code",
   "execution_count": 22,
   "metadata": {},
   "outputs": [
    {
     "name": "stdout",
     "output_type": "stream",
     "text": [
      "Empirique (Espérance et Variance) 1  2.0103279111799637 3.7788760349994326\n",
      "Expérience (Espérance et Variance) 2  5.758145363408521 108.27609280092462\n"
     ]
    }
   ],
   "source": [
    "#valeurs empiriques\n",
    "Esp_emp_2 = dureePluie2.mean()\n",
    "Var_emp_2 = (dureePluie2.std())**2\n",
    "Esp_emp_1 = dureePluie3.mean()\n",
    "Var_emp_1 = (dureePluie3.std())**2\n",
    "\n",
    "print(\"Empirique (Espérance et Variance) 1 \",Esp_emp_1, Var_emp_1)\n",
    "print(\"Expérience (Espérance et Variance) 2 \",Esp_emp_2, Var_emp_2)"
   ]
  },
  {
   "cell_type": "code",
   "execution_count": 23,
   "metadata": {},
   "outputs": [
    {
     "data": {
      "image/png": "[encoded data removed]",
      "text/plain": [
       "<Figure size 864x360 with 1 Axes>"
      ]
     },
     "metadata": {
      "needs_background": "light"
     },
     "output_type": "display_data"
    }
   ],
   "source": [
    "plt.figure(figsize=(12,5))\n",
    "plt.semilogy(binsPluie3[1:],pdfPluie3, 'g*-', label= \"simulé 2 pluie\")\n",
    "plt.semilogy(binsPluie[1:],pdfPluie, 'r*-', label= \"simulé 1 pluie\")\n",
    "plt.semilogy(binsPluie2[1:],pdfPluie2, 'y-', label= \"Empirique pluie\")\n",
    "\n",
    "plt.xlabel('duree ')\n",
    "plt.ylabel('pdf []')\n",
    "#plt.xlim((0,120))\n",
    "plt.legend()\n",
    "plt.grid()"
   ]
  },
  {
   "cell_type": "markdown",
   "metadata": {},
   "source": [
    "    cette modélisation ne permet pas de bien représenter le support de la pluie"
   ]
  },
  {
   "cell_type": "code",
   "execution_count": 24,
   "metadata": {},
   "outputs": [
    {
     "data": {
      "text/plain": [
       "2.8579003181336162"
      ]
     },
     "execution_count": 24,
     "metadata": {},
     "output_type": "execute_result"
    }
   ],
   "source": [
    "dureePluie.mean()"
   ]
  },
  {
   "cell_type": "code",
   "execution_count": 25,
   "metadata": {},
   "outputs": [
    {
     "data": {
      "text/plain": [
       "5.473975230784628"
      ]
     },
     "execution_count": 25,
     "metadata": {},
     "output_type": "execute_result"
    }
   ],
   "source": [
    "dureePluie.var()"
   ]
  },
  {
   "cell_type": "markdown",
   "metadata": {},
   "source": [
    "Question 3"
   ]
  },
  {
   "cell_type": "code",
   "execution_count": 26,
   "metadata": {},
   "outputs": [
    {
     "data": {
      "text/plain": [
       "{\n",
       "    \"class\" : \"HiddenMarkovModel\",\n",
       "    \"name\" : \"partie 2\",\n",
       "    \"start\" : {\n",
       "        \"class\" : \"State\",\n",
       "        \"distribution\" : null,\n",
       "        \"name\" : \"partie 2-start\",\n",
       "        \"weight\" : 1.0\n",
       "    },\n",
       "    \"end\" : {\n",
       "        \"class\" : \"State\",\n",
       "        \"distribution\" : null,\n",
       "        \"name\" : \"partie 2-end\",\n",
       "        \"weight\" : 1.0\n",
       "    },\n",
       "    \"states\" : [\n",
       "        {\n",
       "            \"class\" : \"State\",\n",
       "            \"distribution\" : {\n",
       "                \"class\" : \"Distribution\",\n",
       "                \"dtype\" : \"str\",\n",
       "                \"name\" : \"DiscreteDistribution\",\n",
       "                \"parameters\" : [\n",
       "                    {\n",
       "                        \"sun\" : 1.0,\n",
       "                        \"rain\" : 0.0\n",
       "                    }\n",
       "                ],\n",
       "                \"frozen\" : false\n",
       "            },\n",
       "            \"name\" : \"c.sky\",\n",
       "            \"weight\" : 1.0\n",
       "        },\n",
       "        {\n",
       "            \"class\" : \"State\",\n",
       "            \"distribution\" : {\n",
       "                \"class\" : \"Distribution\",\n",
       "                \"dtype\" : \"str\",\n",
       "                \"name\" : \"DiscreteDistribution\",\n",
       "                \"parameters\" : [\n",
       "                    {\n",
       "                        \"sun\" : 0.9685871881802192,\n",
       "                        \"rain\" : 0.03141281181978084\n",
       "                    }\n",
       "                ],\n",
       "                \"frozen\" : false\n",
       "            },\n",
       "            \"name\" : \"cloudy\",\n",
       "            \"weight\" : 1.0\n",
       "        },\n",
       "        {\n",
       "            \"class\" : \"State\",\n",
       "            \"distribution\" : {\n",
       "                \"class\" : \"Distribution\",\n",
       "                \"dtype\" : \"str\",\n",
       "                \"name\" : \"DiscreteDistribution\",\n",
       "                \"parameters\" : [\n",
       "                    {\n",
       "                        \"sun\" : 0.0,\n",
       "                        \"rain\" : 1.0\n",
       "                    }\n",
       "                ],\n",
       "                \"frozen\" : false\n",
       "            },\n",
       "            \"name\" : \"v.cloudy\",\n",
       "            \"weight\" : 1.0\n",
       "        },\n",
       "        {\n",
       "            \"class\" : \"State\",\n",
       "            \"distribution\" : null,\n",
       "            \"name\" : \"partie 2-start\",\n",
       "            \"weight\" : 1.0\n",
       "        },\n",
       "        {\n",
       "            \"class\" : \"State\",\n",
       "            \"distribution\" : null,\n",
       "            \"name\" : \"partie 2-end\",\n",
       "            \"weight\" : 1.0\n",
       "        }\n",
       "    ],\n",
       "    \"end_index\" : 4,\n",
       "    \"start_index\" : 3,\n",
       "    \"silent_index\" : 3,\n",
       "    \"edges\" : [\n",
       "        [\n",
       "            3,\n",
       "            0,\n",
       "            1.0,\n",
       "            0.5,\n",
       "            null\n",
       "        ],\n",
       "        [\n",
       "            3,\n",
       "            1,\n",
       "            3.468976337392921e-45,\n",
       "            0.4,\n",
       "            null\n",
       "        ],\n",
       "        [\n",
       "            3,\n",
       "            2,\n",
       "            0.0,\n",
       "            0.1,\n",
       "            null\n",
       "        ],\n",
       "        [\n",
       "            0,\n",
       "            0,\n",
       "            0.9968022785641538,\n",
       "            0.9,\n",
       "            null\n",
       "        ],\n",
       "        [\n",
       "            0,\n",
       "            1,\n",
       "            0.0031977214358460777,\n",
       "            0.1,\n",
       "            null\n",
       "        ],\n",
       "        [\n",
       "            0,\n",
       "            2,\n",
       "            0.0,\n",
       "            0.0,\n",
       "            null\n",
       "        ],\n",
       "        [\n",
       "            1,\n",
       "            0,\n",
       "            0.04134839790998411,\n",
       "            0.5,\n",
       "            null\n",
       "        ],\n",
       "        [\n",
       "            1,\n",
       "            1,\n",
       "            0.8776834722931556,\n",
       "            0.4,\n",
       "            null\n",
       "        ],\n",
       "        [\n",
       "            1,\n",
       "            2,\n",
       "            0.08096812979686027,\n",
       "            0.1,\n",
       "            null\n",
       "        ],\n",
       "        [\n",
       "            2,\n",
       "            0,\n",
       "            0.0,\n",
       "            0.0,\n",
       "            null\n",
       "        ],\n",
       "        [\n",
       "            2,\n",
       "            1,\n",
       "            0.1403439270198725,\n",
       "            0.35,\n",
       "            null\n",
       "        ],\n",
       "        [\n",
       "            2,\n",
       "            2,\n",
       "            0.8596560729801276,\n",
       "            0.65,\n",
       "            null\n",
       "        ]\n",
       "    ],\n",
       "    \"distribution ties\" : []\n",
       "}"
      ]
     },
     "execution_count": 26,
     "metadata": {},
     "output_type": "execute_result"
    }
   ],
   "source": [
    "tmp= [] # On crée une liste composé de string ‘sun’ et ‘rain’ à la place des 1 et 2\n",
    "for o in ObsMesure:\n",
    "    if o == 1:\n",
    "        tmp.append('sun')\n",
    "    else:\n",
    "        tmp.append('rain')\n",
    "model.fit([tmp],algorithm='baum-welch',max_iterations=1000)"
   ]
  },
  {
   "cell_type": "code",
   "execution_count": 43,
   "metadata": {},
   "outputs": [
    {
     "data": {
      "image/png": "[encoded data removed]",
      "text/plain": [
       "<Figure size 576x576 with 2 Axes>"
      ]
     },
     "metadata": {
      "needs_background": "light"
     },
     "output_type": "display_data"
    }
   ],
   "source": [
    "Te = model.dense_transition_matrix()\n",
    "plt.figure(figsize=(8,8))\n",
    "plt.title('la nouvelle matrice de transition')\n",
    "plt.imshow(Mat[:3,:3])\n",
    "plt.colorbar()\n",
    "plt.show()"
   ]
  },
  {
   "cell_type": "markdown",
   "metadata": {},
   "source": [
    "**matrice de transition**"
   ]
  },
  {
   "cell_type": "code",
   "execution_count": 44,
   "metadata": {},
   "outputs": [
    {
     "data": {
      "text/plain": [
       "array([[0.6, 0.4, 0. ],\n",
       "       [0.3, 0.7, 0. ],\n",
       "       [0.5, 0.5, 0. ]])"
      ]
     },
     "execution_count": 44,
     "metadata": {},
     "output_type": "execute_result"
    }
   ],
   "source": [
    "Te[:3,:3]"
   ]
  },
  {
   "cell_type": "code",
   "execution_count": 29,
   "metadata": {},
   "outputs": [
    {
     "data": {
      "text/plain": [
       "array([[0.9 , 0.1 , 0.  ],\n",
       "       [0.5 , 0.4 , 0.1 ],\n",
       "       [0.  , 0.35, 0.65]])"
      ]
     },
     "execution_count": 29,
     "metadata": {},
     "output_type": "execute_result"
    }
   ],
   "source": [
    "T"
   ]
  },
  {
   "cell_type": "markdown",
   "metadata": {},
   "source": [
    "**matrice d'émission**"
   ]
  },
  {
   "cell_type": "code",
   "execution_count": 96,
   "metadata": {},
   "outputs": [],
   "source": [
    "st = [sunny, cloudy, v_cloudy]\n",
    "B_e = list()\n",
    "for etat in st:\n",
    "    Ee = etat.distribution.parameters[0]\n",
    "    B_e.append(list(Ee.values()))\n",
    "B_e = np.array(B_e)"
   ]
  },
  {
   "cell_type": "code",
   "execution_count": 97,
   "metadata": {},
   "outputs": [
    {
     "data": {
      "text/plain": [
       "array([[1.        , 0.        ],\n",
       "       [0.96858719, 0.03141281],\n",
       "       [0.        , 1.        ]])"
      ]
     },
     "execution_count": 97,
     "metadata": {},
     "output_type": "execute_result"
    }
   ],
   "source": [
    "B_e"
   ]
  },
  {
   "cell_type": "code",
   "execution_count": 91,
   "metadata": {},
   "outputs": [
    {
     "data": {
      "text/plain": [
       "array([[0.1, 0.4, 0.5],\n",
       "       [0.6, 0.3, 0.1]])"
      ]
     },
     "execution_count": 91,
     "metadata": {},
     "output_type": "execute_result"
    }
   ],
   "source": [
    "B"
   ]
  },
  {
   "cell_type": "code",
   "execution_count": 95,
   "metadata": {},
   "outputs": [
    {
     "data": {
      "text/plain": [
       "array([[1. , 0. ],\n",
       "       [0.8, 0.2],\n",
       "       [0. , 1. ]])"
      ]
     },
     "execution_count": 95,
     "metadata": {},
     "output_type": "execute_result"
    }
   ],
   "source": [
    "B_init = np.array([[1,0],[0.8,0.2],[0,1]]) \n",
    "B_init"
   ]
  },
  {
   "cell_type": "markdown",
   "metadata": {},
   "source": [
    "Question 4"
   ]
  },
  {
   "cell_type": "code",
   "execution_count": 30,
   "metadata": {},
   "outputs": [],
   "source": [
    "# Génération d'une séquence de longueur Nsamples\n",
    "obsSeq2,statesSeq2 = model.sample(length=Nsamples,path=True)\n",
    "\n",
    "obsSeq2=np.array([dicoObs[t] for t in obsSeq2])      # Conversion des observables String -> int (0:beau, 1 pluie) )\n",
    "statesSeq2=np.array([dicoState[t.name] for t in statesSeq2[1:]])   # Conversion des etats String -> int (0:beau, 1 pluie) )\n"
   ]
  },
  {
   "cell_type": "code",
   "execution_count": 31,
   "metadata": {},
   "outputs": [],
   "source": [
    "dureeSec4,dureePluie4,pdfSec4,pdfPluie4,binsSec4,binsPluie4 = duree(obsSeq2)"
   ]
  },
  {
   "cell_type": "code",
   "execution_count": 98,
   "metadata": {},
   "outputs": [
    {
     "data": {
      "image/png": "[encoded data removed]",
      "text/plain": [
       "<Figure size 864x360 with 1 Axes>"
      ]
     },
     "metadata": {
      "needs_background": "light"
     },
     "output_type": "display_data"
    }
   ],
   "source": [
    "plt.figure(figsize=(12,5))\n",
    "plt.semilogy(binsPluie3[1:],pdfPluie3, 'g*-', label= \"modèle 2 avant fit - pluie\")\n",
    "plt.semilogy(binsPluie4[1:],pdfPluie4, 'b*-', label=  \"modèle 2 après fit - pluie\")\n",
    "plt.semilogy(binsPluie[1:],pdfPluie, 'r*-', label= \"modèle 1 pluie\")\n",
    "plt.semilogy(binsPluie2[1:],pdfPluie2, 'y-', label= \"Empirique pluie\")\n",
    "\n",
    "plt.xlabel('duree ')\n",
    "plt.ylabel('pdf []')\n",
    "#plt.xlim((0,120))\n",
    "plt.legend()\n",
    "plt.grid()"
   ]
  },
  {
   "cell_type": "code",
   "execution_count": 101,
   "metadata": {},
   "outputs": [
    {
     "data": {
      "image/png": "[encoded data removed]",
      "text/plain": [
       "<Figure size 864x360 with 1 Axes>"
      ]
     },
     "metadata": {
      "needs_background": "light"
     },
     "output_type": "display_data"
    }
   ],
   "source": [
    "plt.figure(figsize=(12,5))\n",
    "plt.semilogy(binsSec3[1:],pdfSec3, 'g*-', label= \"modèle 2 avant fit -  Sec\")\n",
    "plt.semilogy(binsSec4[1:],pdfSec4, 'b*-', label= \"modèle 2 après fit -  Sec\")\n",
    "plt.semilogy(binsSec[1:],pdfSec, 'r*-', label= \"modèle 1 Sec\")\n",
    "plt.semilogy(binsSec2[1:],pdfSec2, 'yo-', label= \"Empirique Sec\")\n",
    "\n",
    "plt.xlabel('duree ')\n",
    "plt.ylabel('pdf []')\n",
    "plt.xlim((0,500))\n",
    "plt.legend()\n",
    "plt.grid()"
   ]
  },
  {
   "cell_type": "markdown",
   "metadata": {},
   "source": [
    "Cette nouvelle modélisation pourrait être intéressante pour la modélisation du support de la pluie car elle arrive à estimer la probabilité de la pluie pour des longues durées"
   ]
  },
  {
   "cell_type": "code",
   "execution_count": 34,
   "metadata": {},
   "outputs": [
    {
     "name": "stdout",
     "output_type": "stream",
     "text": [
      "P(Pluie) empiriquement vaut :  0.04193130383997664\n",
      "P(Pluie) apres fit vaut :  0.03326\n",
      "P(sec) empiriquement vaut :  0.9580686961600233\n",
      "P(sec) fit vaut :  0.96674\n",
      "Expérience pluie (Espérance et Variance)  5.758145363408521 108.27609280092462\n",
      "Apres fit  pluie (Espérance et Variance)  6.125230202578269 46.27897669654637\n"
     ]
    }
   ],
   "source": [
    "P1_sim = (obsSeq2==1).sum()/len(obsSeq2)\n",
    "P0_sim = (obsSeq2==0).sum()/len(obsSeq2)\n",
    "\n",
    "P1_emp = (Obser==1).sum()/len(Obser)\n",
    "P0_emp = (Obser==0).sum()/len(Obser)\n",
    "\n",
    "Esp_emp_4 = dureePluie4.mean()\n",
    "Var_emp_4 = dureePluie4.var()\n",
    "\n",
    "print(\"P(Pluie) empiriquement vaut : \", P1_emp)\n",
    "print(\"P(Pluie) apres fit vaut : \", P1_sim)\n",
    "print(\"P(sec) empiriquement vaut : \", P0_emp)\n",
    "print(\"P(sec) fit vaut : \", P0_sim)\n",
    "\n",
    "\n",
    "print(\"Expérience pluie (Espérance et Variance) \",Esp_emp_2, Var_emp_2)\n",
    "print(\"Apres fit  pluie (Espérance et Variance) \",Esp_emp_4, Var_emp_4)"
   ]
  },
  {
   "cell_type": "code",
   "execution_count": 102,
   "metadata": {},
   "outputs": [
    {
     "name": "stdout",
     "output_type": "stream",
     "text": [
      "KL entre HMM fit et exp :  0.14935368942731353\n",
      "KL entre HMM non fit et exp :  0.15743089513494782\n",
      "KL entre CM et exp :  0.44085936730888114\n"
     ]
    },
    {
     "name": "stderr",
     "output_type": "stream",
     "text": [
      "C:\\Users\\user\\anaconda3\\lib\\site-packages\\ipykernel_launcher.py:3: RuntimeWarning: divide by zero encountered in true_divide\n",
      "  This is separate from the ipykernel package so we can avoid doing imports until\n",
      "C:\\Users\\user\\anaconda3\\lib\\site-packages\\ipykernel_launcher.py:3: RuntimeWarning: invalid value encountered in true_divide\n",
      "  This is separate from the ipykernel package so we can avoid doing imports until\n",
      "C:\\Users\\user\\anaconda3\\lib\\site-packages\\ipykernel_launcher.py:3: RuntimeWarning: divide by zero encountered in log\n",
      "  This is separate from the ipykernel package so we can avoid doing imports until\n",
      "C:\\Users\\user\\anaconda3\\lib\\site-packages\\ipykernel_launcher.py:3: RuntimeWarning: invalid value encountered in multiply\n",
      "  This is separate from the ipykernel package so we can avoid doing imports until\n"
     ]
    }
   ],
   "source": [
    "# avec un aure indicateur\n",
    "def kl_divergence(p, q):\n",
    "    return np.sum(np.where(p*q != 0, p * np.log(p / q), 0))\n",
    "\n",
    "print(\"KL entre HMM fit et exp : \",kl_divergence(pdfPluie4, pdfPluie2))\n",
    "print(\"KL entre HMM non fit et exp : \",kl_divergence(pdfPluie4, pdfPluie))\n",
    "print(\"KL entre CM et exp : \",kl_divergence(pdfPluie4, pdfPluie3))"
   ]
  },
  {
   "cell_type": "markdown",
   "metadata": {},
   "source": [
    "#### Partie 3 : froid ou chaud ?"
   ]
  },
  {
   "cell_type": "markdown",
   "metadata": {},
   "source": [
    "Question 1 : voir CR"
   ]
  },
  {
   "cell_type": "markdown",
   "metadata": {},
   "source": [
    "Question 2 :"
   ]
  },
  {
   "cell_type": "code",
   "execution_count": 111,
   "metadata": {},
   "outputs": [],
   "source": [
    "from partie3 import *"
   ]
  },
  {
   "cell_type": "code",
   "execution_count": 112,
   "metadata": {},
   "outputs": [],
   "source": [
    "obe10 = [ 'fine', 'moyenne', 'fine', 'epaisse', 'moyenne', 'fine', 'moyenne', 'moyenne', 'moyenne', 'moyenne']\n",
    "#obe10=np.array([dicoObs[t] for t in obe10]) \n",
    "#obe10"
   ]
  },
  {
   "cell_type": "code",
   "execution_count": 113,
   "metadata": {},
   "outputs": [
    {
     "data": {
      "text/plain": [
       "-10.905330869477169"
      ]
     },
     "execution_count": 113,
     "metadata": {},
     "output_type": "execute_result"
    }
   ],
   "source": [
    "model.log_probability(obe10)"
   ]
  },
  {
   "cell_type": "code",
   "execution_count": 114,
   "metadata": {},
   "outputs": [
    {
     "data": {
      "text/plain": [
       "1.836009736875e-05"
      ]
     },
     "execution_count": 114,
     "metadata": {},
     "output_type": "execute_result"
    }
   ],
   "source": [
    "model.probability(obe10)"
   ]
  },
  {
   "cell_type": "code",
   "execution_count": 115,
   "metadata": {},
   "outputs": [
    {
     "data": {
      "text/plain": [
       "-10.986122886681096"
      ]
     },
     "execution_count": 115,
     "metadata": {},
     "output_type": "execute_result"
    }
   ],
   "source": [
    "nombre_etats = 3\n",
    "taille_seq = 10\n",
    "np.log(1/nombre_etats**taille_seq)"
   ]
  },
  {
   "cell_type": "markdown",
   "metadata": {},
   "source": [
    "la probabilité d'une séquence calculé en HMM est légerement supérieur de probabilité de tirer aléatoirement un état qui suit une loi uniforme. D'où, la dépendance des états "
   ]
  },
  {
   "cell_type": "markdown",
   "metadata": {},
   "source": [
    "Question 2 -b : Calculer la séquence d’état la plus probable de température "
   ]
  },
  {
   "cell_type": "code",
   "execution_count": 136,
   "metadata": {},
   "outputs": [
    {
     "data": {
      "text/plain": [
       "array(['cold', 'hot'], dtype='<U4')"
      ]
     },
     "execution_count": 136,
     "metadata": {},
     "output_type": "execute_result"
    }
   ],
   "source": [
    "state_name = np.array(list(dicoState.keys()))\n",
    "state_name"
   ]
  },
  {
   "cell_type": "code",
   "execution_count": 139,
   "metadata": {
    "scrolled": true
   },
   "outputs": [],
   "source": [
    "stat10 = np.array(model.predict(obe10, algorithm='viterbi'))[1:]\n",
    "\n",
    "states = np.array([state_name[t] for t in stat10])\n"
   ]
  },
  {
   "cell_type": "code",
   "execution_count": 140,
   "metadata": {},
   "outputs": [
    {
     "data": {
      "text/plain": [
       "array(['hot', 'hot', 'hot', 'cold', 'cold', 'hot', 'hot', 'hot', 'hot',\n",
       "       'hot'], dtype='<U4')"
      ]
     },
     "execution_count": 140,
     "metadata": {},
     "output_type": "execute_result"
    }
   ],
   "source": [
    "states"
   ]
  },
  {
   "cell_type": "code",
   "execution_count": 117,
   "metadata": {},
   "outputs": [
    {
     "data": {
      "text/plain": [
       "array([0, 1, 0, 2, 1, 0, 1, 1, 1, 1])"
      ]
     },
     "execution_count": 117,
     "metadata": {},
     "output_type": "execute_result"
    }
   ],
   "source": [
    "np.array([dicoObs[t] for t in obe10]) "
   ]
  },
  {
   "cell_type": "code",
   "execution_count": 118,
   "metadata": {},
   "outputs": [
    {
     "data": {
      "text/plain": [
       "['cold', 'hot']"
      ]
     },
     "execution_count": 118,
     "metadata": {},
     "output_type": "execute_result"
    }
   ],
   "source": [
    "list(dicoState.keys())"
   ]
  },
  {
   "cell_type": "code",
   "execution_count": 42,
   "metadata": {},
   "outputs": [
    {
     "name": "stdout",
     "output_type": "stream",
     "text": [
      "hot\n",
      "hot\n",
      "hot\n",
      "cold\n",
      "cold\n",
      "hot\n",
      "hot\n",
      "hot\n",
      "hot\n",
      "hot\n"
     ]
    },
    {
     "data": {
      "text/plain": [
       "array([2, 1, 1, 1, 0, 0, 1, 1, 1, 1, 1])"
      ]
     },
     "execution_count": 42,
     "metadata": {},
     "output_type": "execute_result"
    }
   ],
   "source": [
    "for e in stat10:\n",
    "    for (k, val) in dicoState.items():\n",
    "        if val == e:\n",
    "            e = k\n",
    "            print(k)\n",
    "stat10"
   ]
  },
  {
   "cell_type": "code",
   "execution_count": null,
   "metadata": {},
   "outputs": [],
   "source": []
  }
 ],
 "metadata": {
  "kernelspec": {
   "display_name": "Python (myenv)",
   "language": "python",
   "name": "ds"
  },
  "language_info": {
   "codemirror_mode": {
    "name": "ipython",
    "version": 3
   },
   "file_extension": ".py",
   "mimetype": "text/x-python",
   "name": "python",
   "nbconvert_exporter": "python",
   "pygments_lexer": "ipython3",
   "version": "3.6.12"
  }
 },
 "nbformat": 4,
 "nbformat_minor": 4
}
