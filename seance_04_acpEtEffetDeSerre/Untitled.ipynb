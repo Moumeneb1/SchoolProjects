{
 "cells": [
  {
   "cell_type": "code",
   "execution_count": 1,
   "metadata": {},
   "outputs": [
    {
     "ename": "NameError",
     "evalue": "name 'plt' is not defined",
     "output_type": "error",
     "traceback": [
      "\u001b[0;31m---------------------------------------------------------------------------\u001b[0m",
      "\u001b[0;31mNameError\u001b[0m                                 Traceback (most recent call last)",
      "\u001b[0;32m<ipython-input-1-4c3ef58b6c7a>\u001b[0m in \u001b[0;36m<module>\u001b[0;34m\u001b[0m\n\u001b[1;32m      4\u001b[0m \u001b[0;34m\u001b[0m\u001b[0m\n\u001b[1;32m      5\u001b[0m \u001b[0mcpt\u001b[0m \u001b[0;34m=\u001b[0m \u001b[0;36m0\u001b[0m\u001b[0;34m\u001b[0m\u001b[0m\n\u001b[0;32m----> 6\u001b[0;31m \u001b[0mplt\u001b[0m\u001b[0;34m.\u001b[0m\u001b[0msubplots\u001b[0m\u001b[0;34m(\u001b[0m\u001b[0mfigsize\u001b[0m\u001b[0;34m=\u001b[0m\u001b[0;34m(\u001b[0m\u001b[0;36m18\u001b[0m\u001b[0;34m,\u001b[0m\u001b[0;36m6\u001b[0m\u001b[0;34m*\u001b[0m\u001b[0md\u001b[0m\u001b[0;34m)\u001b[0m\u001b[0;34m)\u001b[0m\u001b[0;34m\u001b[0m\u001b[0m\n\u001b[0m\u001b[1;32m      7\u001b[0m \u001b[0;32mfor\u001b[0m \u001b[0mi\u001b[0m \u001b[0;32min\u001b[0m \u001b[0mrange\u001b[0m\u001b[0;34m(\u001b[0m\u001b[0md\u001b[0m\u001b[0;34m-\u001b[0m\u001b[0;36m1\u001b[0m\u001b[0;34m)\u001b[0m\u001b[0;34m:\u001b[0m\u001b[0;34m\u001b[0m\u001b[0m\n\u001b[1;32m      8\u001b[0m     \u001b[0;32mfor\u001b[0m \u001b[0mj\u001b[0m \u001b[0;32min\u001b[0m \u001b[0mrange\u001b[0m\u001b[0;34m(\u001b[0m\u001b[0mi\u001b[0m\u001b[0;34m+\u001b[0m\u001b[0;36m1\u001b[0m\u001b[0;34m,\u001b[0m\u001b[0md\u001b[0m\u001b[0;34m)\u001b[0m\u001b[0;34m:\u001b[0m\u001b[0;34m\u001b[0m\u001b[0m\n",
      "\u001b[0;31mNameError\u001b[0m: name 'plt' is not defined"
     ]
    }
   ],
   "source": [
    "import matplotlib\n",
    "import matplotlib.cm as cm\n",
    "\n",
    "\n",
    "cpt = 0\n",
    "plt.subplots(figsize=(18,6*d))\n",
    "for i in range(d-1):\n",
    "    for j in range(i+1,d):\n",
    "        cpt += 1\n",
    "        ax = plt.subplot('{}{}{}'.format(int(d*(d-1)/2),1,cpt))\n",
    "        coordonneeAPloter = lesNouvellesCoordonnees[qualite.iloc[:,i]+qualite.iloc[:,j]>0.8]\n",
    "        nomDesIndividusAPloter = np.array(nomDesIndividus)[qualite.iloc[:,i]+qualite.iloc[:,j]>0.8]\n",
    "        factor_qualite =  qualite[qualite.iloc[:,i]+qualite.iloc[:,j]>0.8]\n",
    "        colors = cm.rainbow(np.linspace(0, 1,len(np.unique(nomDesIndividusAPloter.T[0]))+1))\n",
    "        factor = factor_qualite.iloc[:,i]+qualite.iloc[:,j]\n",
    "        s_linear = factor_qualite\n",
    "        plt.scatter(coordonneeAPloter[:,i],coordonneeAPloter[:,j],s=s_linear*500,marker=matplotlib.markers.CARETUPBASE,c=colors[nomDesIndividusAPloter.T[1]])\n",
    "        plt.title('Axes {} et {}'.format(i+1,j+1))\n",
    "        if len(nomDesIndividusAPloter) != 0 and len(nomDesIndividus) < 500:\n",
    "            for k in  range(len(nomDesIndividusAPloter)):\n",
    "                plt.annotate( nomDesIndividusAPloter[k][0],(coordonneeAPloter[k,i], coordonneeAPloter[k,j]),)#,fontsize=fontsize)\n",
    "        # Ajouter les axes\n",
    "        plt.grid(color='lightgray',linestyle='--')\n",
    "        x_lim = plt.xlim()\n",
    "        ax.arrow(x_lim[0], 0, x_lim[1]-x_lim[0], 0,length_includes_head=True, head_width=0.05, head_length=0.1, fc='k', ec='k')\n",
    "        plt.plot(plt.xlim(), np.zeros(2),'k-')\n",
    "        plt.text(x_lim[1], 0, \"axe {:d}\".format(i+1))\n",
    "        y_lim = plt.ylim()\n",
    "        ax.arrow(0,y_lim[0], 0, y_lim[1]-y_lim[0],length_includes_head=True, head_width=0.05, head_length=0.1, fc='k', ec='k')\n",
    "        plt.plot(np.zeros(2),plt.ylim(),'k-')\n",
    "        plt.text(0,y_lim[1], \"axe {:d}\".format(j+1))\n",
    "\n"
   ]
  },
  {
   "cell_type": "code",
   "execution_count": null,
   "metadata": {},
   "outputs": [],
   "source": []
  }
 ],
 "metadata": {
  "kernelspec": {
   "display_name": "Python 3",
   "language": "python",
   "name": "python3"
  },
  "language_info": {
   "codemirror_mode": {
    "name": "ipython",
    "version": 3
   },
   "file_extension": ".py",
   "mimetype": "text/x-python",
   "name": "python",
   "nbconvert_exporter": "python",
   "pygments_lexer": "ipython3",
   "version": "3.5.2"
  }
 },
 "nbformat": 4,
 "nbformat_minor": 2
}
