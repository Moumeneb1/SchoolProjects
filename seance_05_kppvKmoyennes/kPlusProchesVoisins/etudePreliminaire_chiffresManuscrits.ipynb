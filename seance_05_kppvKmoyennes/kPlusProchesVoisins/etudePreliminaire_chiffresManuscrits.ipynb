{
 "cells": [
  {
   "cell_type": "code",
   "execution_count": 1,
   "metadata": {},
   "outputs": [],
   "source": [
    "%matplotlib inline"
   ]
  },
  {
   "cell_type": "code",
   "execution_count": 2,
   "metadata": {},
   "outputs": [],
   "source": [
    "import numpy as np\n",
    "import matplotlib\n",
    "import matplotlib.pyplot as plt\n",
    "import matplotlib.gridspec as gridspec\n",
    "from matplotlib.gridspec import GridSpec\n",
    "\n",
    "import sklearn\n",
    "from sklearn.manifold import TSNE\n",
    "                     "
   ]
  },
  {
   "cell_type": "markdown",
   "metadata": {},
   "source": [
    "# Quelques représentations de chiffres manuscrits"
   ]
  },
  {
   "cell_type": "markdown",
   "metadata": {},
   "source": [
    "## Données brutes"
   ]
  },
  {
   "cell_type": "markdown",
   "metadata": {},
   "source": [
    "Le fichier `x.txt` contient les données brutes.\n",
    "Elle correspond à la représentation des chiffres manuscrits en entrée du réseau.\n",
    "Chaque ligne du fichier correspond à l'image binaire 16x16 d'un chiffre manuscrit.\n",
    "Ce fichier est composée de 480 chiffres codés en binaire (±1).\n",
    "Comme chaque «bitmap» binaire 16x16 a été transformée en un vecteur de dimension 256 le fichier contient ainsi une matrice 256x480. \n",
    "Cela signifie que chaque «bitmap» binaire correspond à une colonne de la matrice du fichier `x.txt`."
   ]
  },
  {
   "cell_type": "code",
   "execution_count": 3,
   "metadata": {},
   "outputs": [
    {
     "data": {
      "text/plain": [
       "(256, 480)"
      ]
     },
     "execution_count": 3,
     "metadata": {},
     "output_type": "execute_result"
    }
   ],
   "source": [
    "x = np.loadtxt(\"x.txt\")\n",
    "x.shape"
   ]
  },
  {
   "cell_type": "markdown",
   "metadata": {},
   "source": [
    "On peut maintenant déterminer le nombre des images et leur taille."
   ]
  },
  {
   "cell_type": "code",
   "execution_count": 4,
   "metadata": {},
   "outputs": [],
   "source": [
    "nombreDImages=x.shape[1]\n",
    "tailleImage= int(np.sqrt(x.shape[0]))"
   ]
  },
  {
   "cell_type": "markdown",
   "metadata": {},
   "source": [
    "Le fichier `t.txt` contient les sorties désirées qui sont associées à chaque \"chiffre manuscrit\" (i.e. ligne) de `x.txt` dans le même ordre. \n",
    "Chaque réponse désirée est constituée d’un vecteur colonne de longueur 10, rempli de -1 partout sauf à la position dont l’indice correspond au chiffre manuscrit. \n",
    "À cette position là, le composant du vecteur vaut +1. \n",
    "L’ensemble de tous ces vecteurs est organisé dans la matrice sous forme d’une matrice 10x480 stockée dans le fichier `t.txt`."
   ]
  },
  {
   "cell_type": "code",
   "execution_count": 5,
   "metadata": {},
   "outputs": [
    {
     "name": "stdout",
     "output_type": "stream",
     "text": [
      "Quelques colonnes de t.txt:\n",
      " [[ 1. -1. -1.]\n",
      " [-1.  1. -1.]\n",
      " [-1. -1.  1.]\n",
      " [-1. -1. -1.]\n",
      " [-1. -1. -1.]\n",
      " [-1. -1. -1.]\n",
      " [-1. -1. -1.]\n",
      " [-1. -1. -1.]\n",
      " [-1. -1. -1.]\n",
      " [-1. -1. -1.]]\n"
     ]
    }
   ],
   "source": [
    "t = np.loadtxt(\"t.txt\") \n",
    "t_label_num = np.where(t==1)[0]\n",
    "class_label = ['zero','un','deux','trois','quatre','cinq','six','sept','huit','neuf']\n",
    "t_label_str = [ class_label[i] for i in t_label_num]\n",
    "\n",
    "print(\"Quelques colonnes de t.txt:\\n\",t[:,:3])"
   ]
  },
  {
   "cell_type": "code",
   "execution_count": 6,
   "metadata": {},
   "outputs": [
    {
     "data": {
      "text/plain": [
       "(10, 480)"
      ]
     },
     "execution_count": 6,
     "metadata": {},
     "output_type": "execute_result"
    }
   ],
   "source": [
    "t.shape"
   ]
  },
  {
   "cell_type": "code",
   "execution_count": 7,
   "metadata": {},
   "outputs": [
    {
     "data": {
      "image/png": "[encoded data removed]",
      "text/plain": [
       "<Figure size 1080x432 with 40 Axes>"
      ]
     },
     "metadata": {
      "needs_background": "light"
     },
     "output_type": "display_data"
    }
   ],
   "source": [
    "gs1 = gridspec.GridSpec(4, 10)\n",
    "gs1.update(wspace=0.025, hspace=0.25) # set the spacing between axes. \n",
    "\n",
    "plt.figure(figsize=(10+5,4+2))\n",
    "for i in range(min(40,nombreDImages)):\n",
    "    plt.subplot(gs1[i])\n",
    "    plt.imshow(x[:,i].reshape((tailleImage,tailleImage)),cmap='binary')\n",
    "    plt.axis('off')\n",
    "    if i < 10:\n",
    "        plt.gca().set_title('des \"{}\"\\n'.format(t_label_num[i]))\n",
    "    plt.gca().set_xticklabels([])\n",
    "    plt.gca().set_yticklabels([])\n",
    "    plt.gca().set_aspect('equal')\n",
    "#plt.tight_layout()"
   ]
  },
  {
   "cell_type": "markdown",
   "metadata": {},
   "source": [
    "## Quelques représentations alternatives"
   ]
  },
  {
   "cell_type": "markdown",
   "metadata": {},
   "source": [
    "#### Description des codages utilisés :\n",
    " - HX : histogramme des projections du chiffre sur l’axe des x \n",
    "   (dans chaque colonne on calcule le nombre de pixels noir - le nombre de pixels blancs).  \n",
    "   HX est donc un vecteur de 16 composantes.\n",
    " - HY : histogramme des projections du chiffre sur l’axe des y \n",
    "   (dans chaque ligne on calcule le nombre de pixels noir - le nombre de pixels blancs).  \n",
    "   HY est aussi un vecteur de 16 composantes.\n",
    " - PH : profil haut - pour chaque colonne, on code la coordonnée de la première transition \n",
    "   blanc/noir en partant du haut.  \n",
    "   PH est un vecteur de 16 composantes. \n",
    " - PB : profil bas - pour chaque colonne, on code la coordonnée de la première transition \n",
    "   blanc/noir en partant du bas.  \n",
    "   PB est un vecteur de 16 composantes.\n",
    " - PG : profil gauche - pour chaque ligne, on code la coordonnée de la première transition \n",
    "   blanc/noir en partant de la gauche.  \n",
    "   PG est un vecteur de 16 composantes.\n",
    " - PD : profil droit - pour chaque ligne, on code la coordonnée de la première transition \n",
    "   blanc/noir en partant de la droite.  \n",
    "   PD est un vecteur de 16 composantes.\n",
    "\n",
    "(Il est à noter que les coordonnées sont indicées de la gauche vers la droite en ligne et de haut en\n",
    "bas pour les colonnes)"
   ]
  },
  {
   "cell_type": "code",
   "execution_count": 14,
   "metadata": {},
   "outputs": [
    {
     "name": "stdout",
     "output_type": "stream",
     "text": [
      "hx : [0 0 0 3 2 3 2 3 3 4 5 7 6 6 0 0]\n",
      "hy : [7 5 2 1 2 2 2 4 4 1 1 1 2 4 6 0]\n",
      "ph : [15 15 15  1  1  0  0  0  0  0  0  0  1  2 15 15]\n",
      "pb : [15 15 15  3  2  2  1  1  1  1  1  1  2  3 15 15]\n",
      "pd : [ 4  3  2  2  2  3  4  5  3  3  2  2  2  3  4 15]\n",
      "pg : [ 5  3  3 13 12 11 10  7  9 12 13 13  3  4  6 15]\n"
     ]
    }
   ],
   "source": [
    "i=3\n",
    "image = x[:,i].reshape((tailleImage,tailleImage)) \n",
    "hx = np.sum(image==1,axis=0)\n",
    "hy = np.sum(image==1,axis=1)\n",
    "ph = np.array([ image[:,i].tolist().index(1) if np.any(image[:,i]==1) else len(image[:,i])-1 for i in range(image.shape[1])])\n",
    "pb = np.array([ image[::-1,i].tolist().index(1) if np.any(image[:,i]==1) else len(image[:,i])-1 for i in range(image.shape[1])])\n",
    "pg = np.array([ image[i,:].tolist().index(1) if np.any(image[i,:]==1) else len(image[i,:])-1 for i in range(image.shape[0])])\n",
    "pd = np.array([ image[i,::-1].tolist().index(1) if np.any(image[i,:]==1) else len(image[i,:])-1 for i in range(image.shape[0])])\n",
    "print('hx :',hx)\n",
    "print('hy :',hy)\n",
    "print('ph :',ph)\n",
    "print('pb :',pb)\n",
    "print('pd :',pd)\n",
    "print('pg :',pg)"
   ]
  },
  {
   "cell_type": "code",
   "execution_count": 15,
   "metadata": {},
   "outputs": [
    {
     "data": {
      "image/png": "[encoded data removed]",
      "text/plain": [
       "<Figure size 648x576 with 9 Axes>"
      ]
     },
     "metadata": {},
     "output_type": "display_data"
    }
   ],
   "source": [
    "#cmap = matplotlib.cm.hot\n",
    "#cmap = matplotlib.cm.jet\n",
    "cmap = matplotlib.cm.plasma\n",
    "norm = matplotlib.cm.colors.Normalize(vmin=1, vmax=tailleImage)\n",
    "colors = cmap(np.linspace(0,1,tailleImage))\n",
    "\n",
    "\n",
    "fig = plt.figure(figsize=(9,8))\n",
    "fig.patch.set_facecolor('xkcd:grey')\n",
    "#fig.patch.set_facecolor('xkcd:light grey')\n",
    "gs = GridSpec(11, 8, figure=fig)\n",
    "#\n",
    "ax0 = fig.add_subplot(gs[0, :-4])\n",
    "im = plt.imshow(hx[None,:],cmap=cmap,vmin=0,vmax=tailleImage)\n",
    "plt.title('hx')\n",
    "plt.axis('off')\n",
    "plt.gca().set_xticklabels([])\n",
    "plt.gca().set_yticklabels([])\n",
    "#\n",
    "ax1 = fig.add_subplot(gs[1, :-4])\n",
    "plt.imshow(ph[None,:],cmap=cmap,vmin=0,vmax=tailleImage)\n",
    "plt.title('ph')\n",
    "plt.axis('off')\n",
    "plt.gca().set_xticklabels([])\n",
    "plt.gca().set_yticklabels([])\n",
    "#\n",
    "ax2 = fig.add_subplot(gs[2:-2, :-4])\n",
    "plt.title('image')\n",
    "plt.imshow(image,cmap='binary')\n",
    "plt.axis('off')\n",
    "plt.gca().set_xticklabels([])\n",
    "plt.gca().set_yticklabels([])\n",
    "plt.gca().set_aspect('equal')\n",
    "#\n",
    "ax3 = fig.add_subplot(gs[-2, :-4])\n",
    "plt.title('pb')\n",
    "plt.imshow(pb[None,:],cmap=cmap,vmin=0,vmax=tailleImage)\n",
    "plt.axis('off')\n",
    "plt.gca().set_xticklabels([])\n",
    "plt.gca().set_yticklabels([])\n",
    "#\n",
    "ax4 = fig.add_subplot(gs[2:-2, -1])\n",
    "plt.title('hy')\n",
    "plt.imshow(hy[:,None],cmap=cmap,vmin=0,vmax=tailleImage)\n",
    "plt.axis('off')\n",
    "plt.gca().set_xticklabels([])\n",
    "plt.gca().set_yticklabels([])\n",
    "#\n",
    "ax5 = fig.add_subplot(gs[2:-2, -2])\n",
    "plt.title('pd')\n",
    "plt.imshow(pd[:,None],cmap=cmap,vmin=0,vmax=tailleImage)\n",
    "plt.axis('off')\n",
    "plt.gca().set_xticklabels([])\n",
    "plt.gca().set_yticklabels([])\n",
    "#\n",
    "ax6 = fig.add_subplot(gs[2:-2, -3])\n",
    "plt.title('pg')\n",
    "plt.imshow(pg[:,None],cmap=cmap,vmin=0,vmax=tailleImage)\n",
    "plt.axis('off')\n",
    "plt.gca().set_xticklabels([])\n",
    "plt.gca().set_yticklabels([])\n",
    "#\n",
    "ax7 = fig.add_subplot(gs[-1, ::])\n",
    "plt.axis('off')\n",
    "plt.gca().set_xticklabels([])\n",
    "plt.gca().set_yticklabels([])\n",
    "fig.colorbar(im,  ax=ax7, orientation='horizontal',fraction=1, pad=0.04)\n",
    "\n",
    "plt.tight_layout()\n"
   ]
  },
  {
   "cell_type": "markdown",
   "metadata": {},
   "source": [
    "Ces 6 conventions de codage, peuvent être combinés pour former différents fichiers d’apprentissage. Nous vous soumettons les différents cas suivants :  \n",
    "1 : codage HX seul ; vecteur de 16 composantes. Fichier d’entrée : `hx.txt`  \n",
    "2 : codage HX,HY ; vecteur de 32 composantes. Fichier d’entrée : `hx_hy.txt`  \n",
    "3 : codage PG,PD ; vecteur de 32 composantes. Fichier d’entrée : `pg_pd.txt`  \n",
    "4 : codage HX,HY,PG,PD ; vecteur de 64 composantes. Fichier d’entrée : `hx_hy_pg_pd.txt`  \n",
    "5 : codage PB,PH ; vecteur de 32 composantes. Fichier d’entrée : `pb_ph.txt`  \n",
    "6 : codage HX,HY,PB,PH ; vecteur de 64 composantes. Fichier d’entrée : `hx_hy_pb_ph.txt`  \n",
    "\n",
    "On précise que toutes les données de ces fichiers ont été de surcroît « normalisées » dans l’intervalle \\[-1, 1\\] , SAUF `hx.txt`"
   ]
  },
  {
   "cell_type": "code",
   "execution_count": 10,
   "metadata": {},
   "outputs": [],
   "source": [
    "# les différentes avriantes de codages associées à la représentation du nombre\n",
    "hx = np.loadtxt(\"hx.txt\")\n",
    "hx_hy = np.loadtxt(\"hx_hy.txt\")\n",
    "pb_ph = np.loadtxt(\"pb_ph.txt\")\n",
    "pg_pd = np.loadtxt(\"pg_pd.txt\")\n",
    "hx_hy_pb_ph = np.loadtxt(\"hx_hy_pb_ph.txt\")\n",
    "hx_hy_pg_pd = np.loadtxt(\"hx_hy_pg_pd.txt\")"
   ]
  },
  {
   "cell_type": "code",
   "execution_count": 11,
   "metadata": {},
   "outputs": [
    {
     "data": {
      "text/plain": [
       "(480, 16)"
      ]
     },
     "execution_count": 11,
     "metadata": {},
     "output_type": "execute_result"
    }
   ],
   "source": [
    "hx.T.shape"
   ]
  },
  {
   "cell_type": "code",
   "execution_count": null,
   "metadata": {},
   "outputs": [],
   "source": []
  },
  {
   "cell_type": "code",
   "execution_count": 12,
   "metadata": {},
   "outputs": [
    {
     "data": {
      "text/plain": [
       "<matplotlib.collections.PathCollection at 0x7fcd2154ef98>"
      ]
     },
     "execution_count": 12,
     "metadata": {},
     "output_type": "execute_result"
    },
    {
     "data": {
      "image/png": "[encoded data removed]",
      "text/plain": [
       "<Figure size 432x288 with 1 Axes>"
      ]
     },
     "metadata": {
      "needs_background": "light"
     },
     "output_type": "display_data"
    }
   ],
   "source": [
    "tsne = TSNE(n_components=2, init='pca', random_state=0)\n",
    "X_tsne = tsne.fit_transform(hx_hy.T)\n",
    "plt.scatter(X_tsne[:,0],X_tsne[:,1],c=plt.cm.Set1(t_label_num / 10.))"
   ]
  },
  {
   "cell_type": "code",
   "execution_count": 13,
   "metadata": {},
   "outputs": [
    {
     "ename": "AttributeError",
     "evalue": "'numpy.ndarray' object has no attribute 'DataFrame'",
     "output_type": "error",
     "traceback": [
      "\u001b[0;31m---------------------------------------------------------------------------\u001b[0m",
      "\u001b[0;31mAttributeError\u001b[0m                            Traceback (most recent call last)",
      "\u001b[0;32m<ipython-input-13-accd043d3c56>\u001b[0m in \u001b[0;36m<module>\u001b[0;34m\u001b[0m\n\u001b[0;32m----> 1\u001b[0;31m \u001b[0mtmp\u001b[0m \u001b[0;34m=\u001b[0m \u001b[0mpd\u001b[0m\u001b[0;34m.\u001b[0m\u001b[0mDataFrame\u001b[0m\u001b[0;34m(\u001b[0m\u001b[0mhx\u001b[0m\u001b[0;34m.\u001b[0m\u001b[0mT\u001b[0m\u001b[0;34m[\u001b[0m\u001b[0;34m:\u001b[0m\u001b[0;36m5\u001b[0m\u001b[0;34m,\u001b[0m\u001b[0;34m:\u001b[0m\u001b[0;34m]\u001b[0m\u001b[0;34m)\u001b[0m\u001b[0;34m\u001b[0m\u001b[0;34m\u001b[0m\u001b[0m\n\u001b[0m\u001b[1;32m      2\u001b[0m \u001b[0mtmp\u001b[0m\u001b[0;34m[\u001b[0m\u001b[0;34m'target'\u001b[0m\u001b[0;34m]\u001b[0m\u001b[0;34m=\u001b[0m\u001b[0;34m[\u001b[0m\u001b[0mstr\u001b[0m\u001b[0;34m(\u001b[0m\u001b[0mx\u001b[0m\u001b[0;34m)\u001b[0m \u001b[0;32mfor\u001b[0m \u001b[0mx\u001b[0m \u001b[0;32min\u001b[0m \u001b[0mt_label_num\u001b[0m\u001b[0;34m[\u001b[0m\u001b[0;34m:\u001b[0m\u001b[0;36m5\u001b[0m\u001b[0;34m]\u001b[0m\u001b[0;34m]\u001b[0m\u001b[0;34m\u001b[0m\u001b[0;34m\u001b[0m\u001b[0m\n",
      "\u001b[0;31mAttributeError\u001b[0m: 'numpy.ndarray' object has no attribute 'DataFrame'"
     ]
    }
   ],
   "source": [
    "tmp = pd.DataFrame(hx.T[:5,:])\n",
    "tmp['target']=[str(x) for x in t_label_num[:5]]"
   ]
  },
  {
   "cell_type": "code",
   "execution_count": null,
   "metadata": {},
   "outputs": [],
   "source": [
    "import seaborn as sns\n",
    "import pandas as pd\n",
    "sns.countplot(tmp)"
   ]
  },
  {
   "cell_type": "code",
   "execution_count": null,
   "metadata": {},
   "outputs": [],
   "source": [
    "tsne = TSNE(n_components=2, init='pca', random_state=0)\n",
    "X_tsne = tsne.fit_transform(x.T)\n",
    "\n",
    "plt.scatter(X_tsne[:,0],X_tsne[:,1],c=plt.cm.Set1(t_label_num / 10.))\n",
    "            #c=t_label_num)"
   ]
  },
  {
   "cell_type": "markdown",
   "metadata": {},
   "source": [
    "***\n",
    "**On est jamais mieux servi que par soi-même.**  \n",
    "**If you want something done right, do it yourself.**\n",
    "\n",
    "[scipy](https://www.scipy.org/) - [pandas](https://pandas.pydata.org/) - [Numpy and Scipy](https://docs.scipy.org/doc/) - [matplotlib](https://matplotlib.org/) - [scikit-learn](http://scikit-learn.org/stable/) - [seaborn](https://seaborn.pydata.org/)"
   ]
  }
 ],
 "metadata": {
  "kernelspec": {
   "display_name": "Python (myenv)",
   "language": "python",
   "name": "ds"
  },
  "language_info": {
   "codemirror_mode": {
    "name": "ipython",
    "version": 3
   },
   "file_extension": ".py",
   "mimetype": "text/x-python",
   "name": "python",
   "nbconvert_exporter": "python",
   "pygments_lexer": "ipython3",
   "version": "3.6.12"
  }
 },
 "nbformat": 4,
 "nbformat_minor": 2
}
