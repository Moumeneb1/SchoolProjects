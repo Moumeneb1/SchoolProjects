{
 "cells": [
  {
   "cell_type": "code",
   "execution_count": null,
   "metadata": {},
   "outputs": [],
   "source": [
    "from itertools import product\n",
    "import matplotlib.pyplot as plt\n",
    "from matplotlib.colors import ListedColormap\n",
    "import numpy as np\n",
    "import pandas as pd\n",
    "import pandas_profiling as pp\n",
    "\n",
    "from sklearn import datasets\n",
    "from sklearn.decomposition import PCA\n",
    "\n",
    "from sklearn.neighbors import KNeighborsClassifier as KNN\n",
    "from sklearn.neighbors import DistanceMetric as DM"
   ]
  },
  {
   "cell_type": "code",
   "execution_count": null,
   "metadata": {},
   "outputs": [],
   "source": [
    "from sklearn.metrics import confusion_matrix\n",
    "from sklearn.utils.multiclass import unique_labels\n",
    "\n",
    "# fonction d'affichage des matrices de confusion (copié/collé du site de scikit-learn)\n",
    "def plot_confusion_matrix(y_true, y_pred, classes,\n",
    "                          normalize=False,\n",
    "                          title=None,\n",
    "                          cmap=plt.cm.Blues,\n",
    "                          fontsize=16):\n",
    "    \"\"\"\n",
    "    This function printed and plots the confusion matrix.\n",
    "    Normalization can be applied by setting `normalize=True`.\n",
    "    \n",
    "    Attention : les classes commencent à zero\n",
    "    copier/coller d'un tutoriel sklearn?\n",
    "    \"\"\"\n",
    "    if not title:\n",
    "        if normalize:\n",
    "            title = 'Normalized confusion matrix'\n",
    "        else:\n",
    "            title = 'Confusion matrix, without normalization'\n",
    "\n",
    "    # suppose que les classes sont numerotees à partir de 0\n",
    "    \n",
    "    # Compute confusion matrix\n",
    "    cm = confusion_matrix(y_true, y_pred)\n",
    "    # Only use the labels that appear in the data\n",
    "    classes = [ classes[i] for i in unique_labels(y_true, y_pred)]\n",
    "    if normalize:\n",
    "        cm = cm.astype('float') / cm.sum(axis=1)[:, np.newaxis]\n",
    "        #print(\"Normalized confusion matrix\")\n",
    "    #else:\n",
    "    #    print('Confusion matrix, without normalization')\n",
    "\n",
    "    #print(cm)\n",
    "\n",
    "    #fig, ax = plt.subplots()\n",
    "    ax = plt.gca()\n",
    "    im = ax.imshow(cm, interpolation='nearest', cmap=cmap)\n",
    "    #ax.figure.colorbar(im, ax=ax)\n",
    "    # We want to show all ticks...\n",
    "    ax.set(xticks=np.arange(cm.shape[1]),\n",
    "           yticks=np.arange(cm.shape[0])\n",
    "           # ... and label them with the respective list entries\n",
    "           #xticklabels=classes, yticklabels=classes\n",
    "           #title=title,\n",
    "           #ylabel='True label',\n",
    "           #xlabel='Predicted label'\n",
    "          )\n",
    "    ax.set_title(title,fontsize=fontsize)\n",
    "    ax.set_xlabel('Predicted label',fontsize=fontsize)\n",
    "    ax.set_xticklabels(classes,fontsize=fontsize)\n",
    "    ax.set_ylabel('True label',fontsize=fontsize)\n",
    "    ax.set_yticklabels(classes,fontsize=fontsize)\n",
    "    \n",
    "    ## Rotate the tick labels and set their alignment.\n",
    "    #plt.setp(ax.get_xticklabels(), rotation=45, ha=\"right\",\n",
    "    #         rotation_mode=\"anchor\",fontsize=fontsize)\n",
    "\n",
    "    # Loop over data dimensions and create text annotations.\n",
    "    fmt = '.2f' if normalize else 'd'\n",
    "    thresh = cm.max() / 2.\n",
    "    for i in range(cm.shape[0]):\n",
    "        for j in range(cm.shape[1]):\n",
    "            ax.text(j, i, format(cm[i, j], fmt),\n",
    "                    ha=\"center\", va=\"center\",fontsize=fontsize,\n",
    "                    color=\"white\" if cm[i, j] > thresh else \"black\")\n",
    "    return ax"
   ]
  },
  {
   "cell_type": "code",
   "execution_count": 3,
   "metadata": {},
   "outputs": [],
   "source": [
    "# les différentes avriantes de codages associées à la représentation du nombre\n",
    "hx = np.loadtxt(\"hx.txt\")\n",
    "hx_hy = np.loadtxt(\"hx_hy.txt\")\n",
    "pb_ph = np.loadtxt(\"pb_ph.txt\")\n",
    "pg_pd = np.loadtxt(\"pg_pd.txt\")\n",
    "hx_hy_pb_ph = np.loadtxt(\"hx_hy_pb_ph.txt\")\n",
    "hx_hy_pg_pd = np.loadtxt(\"hx_hy_pg_pd.txt\")"
   ]
  },
  {
   "cell_type": "code",
   "execution_count": 4,
   "metadata": {},
   "outputs": [
    {
     "name": "stdout",
     "output_type": "stream",
     "text": [
      "hx shape is (16, 480)\n",
      "hx_hy shape is (32, 480)\n",
      "pb_ph shape is (32, 480)\n",
      "pg_pd shape is (32, 480)\n",
      "hx_hy_pb_ph shape is (64, 480)\n",
      "hx_hy_pg_pd shape is (64, 480)\n"
     ]
    }
   ],
   "source": [
    "print(\"hx shape is {}\".format(hx.shape))\n",
    "print(\"hx_hy shape is {}\".format(hx_hy.shape))\n",
    "print(\"pb_ph shape is {}\".format(pb_ph.shape))\n",
    "print(\"pg_pd shape is {}\".format(pg_pd.shape))\n",
    "print(\"hx_hy_pb_ph shape is {}\".format(hx_hy_pb_ph.shape))\n",
    "print(\"hx_hy_pg_pd shape is {}\".format(hx_hy_pg_pd.shape))"
   ]
  },
  {
   "cell_type": "code",
   "execution_count": 17,
   "metadata": {},
   "outputs": [],
   "source": [
    "t = np.loadtxt(\"t.txt\") \n",
    "target = np.where(t==1)[0]"
   ]
  },
  {
   "cell_type": "code",
   "execution_count": 6,
   "metadata": {},
   "outputs": [
    {
     "name": "stdout",
     "output_type": "stream",
     "text": [
      "(480, 64)\n"
     ]
    }
   ],
   "source": [
    "data = hx_hy_pg_pd.T\n",
    "print(data.shape)"
   ]
  },
  {
   "cell_type": "code",
   "execution_count": 7,
   "metadata": {},
   "outputs": [
    {
     "name": "stdout",
     "output_type": "stream",
     "text": [
      "(480, 64)\n",
      "(480,)\n"
     ]
    }
   ],
   "source": [
    "indices = np.random.permutation(len(target))\n",
    "data = data[indices,:]\n",
    "target = target[indices]\n",
    "print(data.shape)\n",
    "print(target.shape)"
   ]
  },
  {
   "cell_type": "code",
   "execution_count": 8,
   "metadata": {},
   "outputs": [
    {
     "name": "stdout",
     "output_type": "stream",
     "text": [
      "(384, 64)\n",
      "(384,)\n",
      "(96, 64)\n",
      "(96,)\n"
     ]
    }
   ],
   "source": [
    "propotion_appTest = 0.8\n",
    "n_app = np.floor(propotion_appTest*len(data)).astype(int)\n",
    "data_app = data[:n_app]\n",
    "target_app = target[:n_app]\n",
    "data_test = data[n_app:]\n",
    "target_test = target[n_app:]\n",
    "print(data_app.shape)\n",
    "print(target_app.shape)\n",
    "print(data_test.shape)\n",
    "print(target_test.shape)"
   ]
  },
  {
   "cell_type": "code",
   "execution_count": 9,
   "metadata": {},
   "outputs": [
    {
     "name": "stdout",
     "output_type": "stream",
     "text": [
      "[0 1 2 3 4 5 6 7 8 9]\n"
     ]
    }
   ],
   "source": [
    "classes = np.unique(target)\n",
    "print(classes)"
   ]
  },
  {
   "cell_type": "code",
   "execution_count": 10,
   "metadata": {},
   "outputs": [],
   "source": [
    "# liste_n_neigbors donne le nombre de voisins considérés\n",
    "liste_n_neigbors=[1, 2, 3, 4, 5, 10, 15, 20]\n",
    "# liste_distances donne les distances considérées pour comparer deux points.euclidean\n",
    "liste_distances=[\"manhattan\"]\n",
    "# liste weights donne le système de pondération des voisins lors du vote. \n",
    "liste_weights=['distance']"
   ]
  },
  {
   "cell_type": "code",
   "execution_count": 11,
   "metadata": {},
   "outputs": [],
   "source": [
    "les_classifieurs  = list()\n",
    "lesConfigurations = list()\n",
    "scores = []\n",
    "for n_neighbors,  weights, dist in product(liste_n_neigbors, liste_weights, liste_distances):\n",
    "    lesConfigurations.append({'n_neighbors':n_neighbors,'weights':weights,'dist':dist})\n",
    "    \n",
    "    knn = KNN(n_neighbors,weights=weights,metric=dist,n_jobs=-1)\n",
    "    \n",
    "    knn.fit(data_app, target_app)\n",
    "    \n",
    "    score = knn.score(data_test, target_test)\n",
    "    scores.append(score)\n",
    "    les_classifieurs.append(knn)"
   ]
  },
  {
   "cell_type": "code",
   "execution_count": 12,
   "metadata": {},
   "outputs": [
    {
     "data": {
      "image/png": "[encoded data removed]",
      "text/plain": [
       "<Figure size 432x288 with 1 Axes>"
      ]
     },
     "metadata": {
      "needs_background": "light"
     },
     "output_type": "display_data"
    }
   ],
   "source": [
    "plt.plot(liste_n_neigbors,scores)\n",
    "plt.xticks(liste_n_neigbors)\n",
    "plt.xlabel(\"k\")\n",
    "plt.ylabel(\"Performance\")\n",
    "plt.grid()\n",
    "plt.show()"
   ]
  },
  {
   "cell_type": "code",
   "execution_count": 13,
   "metadata": {},
   "outputs": [
    {
     "name": "stdout",
     "output_type": "stream",
     "text": [
      "Max performance 0.0625 at k = 2\n"
     ]
    }
   ],
   "source": [
    "print(\"Max performance {} at k = {}\".format(np.max(scores), liste_n_neigbors[np.argmax(scores)]))"
   ]
  },
  {
   "cell_type": "code",
   "execution_count": 14,
   "metadata": {},
   "outputs": [
    {
     "data": {
      "image/png": "[encoded data removed]",
      "text/plain": [
       "<Figure size 360x360 with 1 Axes>"
      ]
     },
     "metadata": {
      "needs_background": "light"
     },
     "output_type": "display_data"
    }
   ],
   "source": [
    "# créer la carte des couleurs utiliséesCreate color maps\n",
    "# Create color maps\n",
    "#cmap_light = ListedColormap(['#FFAAAA', '#AAFFAA', '#AAAAFF'])\n",
    "#cmap_bold = ListedColormap(['#FF0000', '#00FF00', '#0000FF'])\n",
    "\n",
    "figure = plt.figure(figsize=(5, 5))\n",
    "\n",
    "i = liste_n_neigbors[np.argmax(scores)]\n",
    "knn = les_classifieurs[i]\n",
    "score = knn.score(data_test, target_test)\n",
    "\n",
    "configuration = lesConfigurations[i]\n",
    "predict_test = knn.predict(data_test)\n",
    "titre = \"(k={0},dist={1},weights={2})\".format(configuration['n_neighbors'],\n",
    "                                                configuration['dist'],\n",
    "                                                configuration['weights'])\n",
    "# matrice de confusion\n",
    "plot_confusion_matrix(target_test, predict_test, classes,\n",
    "                      title=titre,fontsize=24)\n",
    "plt.tight_layout()"
   ]
  },
  {
   "cell_type": "code",
   "execution_count": 15,
   "metadata": {},
   "outputs": [],
   "source": [
    "from sklearn.metrics import plot_confusion_matrix"
   ]
  },
  {
   "cell_type": "code",
   "execution_count": 16,
   "metadata": {},
   "outputs": [
    {
     "data": {
      "text/plain": [
       "<sklearn.metrics._plot.confusion_matrix.ConfusionMatrixDisplay at 0x7f15612b0c10>"
      ]
     },
     "execution_count": 16,
     "metadata": {},
     "output_type": "execute_result"
    },
    {
     "data": {
      "image/png": "[encoded data removed]",
      "text/plain": [
       "<Figure size 432x288 with 2 Axes>"
      ]
     },
     "metadata": {
      "needs_background": "light"
     },
     "output_type": "display_data"
    }
   ],
   "source": [
    "plot_confusion_matrix(knn, data_test, target_test)"
   ]
  },
  {
   "cell_type": "code",
   "execution_count": null,
   "metadata": {},
   "outputs": [],
   "source": []
  }
 ],
 "metadata": {
  "kernelspec": {
   "display_name": "Python (myenv)",
   "language": "python",
   "name": "ds"
  },
  "language_info": {
   "codemirror_mode": {
    "name": "ipython",
    "version": 3
   },
   "file_extension": ".py",
   "mimetype": "text/x-python",
   "name": "python",
   "nbconvert_exporter": "python",
   "pygments_lexer": "ipython3",
   "version": "3.6.12"
  }
 },
 "nbformat": 4,
 "nbformat_minor": 4
}
