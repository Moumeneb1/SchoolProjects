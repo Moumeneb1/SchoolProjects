{
 "cells": [
  {
   "cell_type": "code",
   "execution_count": 1,
   "metadata": {},
   "outputs": [],
   "source": [
    "%matplotlib inline"
   ]
  },
  {
   "cell_type": "markdown",
   "metadata": {},
   "source": [
    "# K plus proches voisins (Iris)"
   ]
  },
  {
   "cell_type": "code",
   "execution_count": 2,
   "metadata": {},
   "outputs": [],
   "source": [
    "# Authors: Cécile Mallet <cecile.mallet@latmos.ipsl.fr>\n",
    "#          Djallel Dilmi <djallel.dilmi@latmos.ipsl.fr>\n",
    "#          Aymeric Chazottes <aymeric.chazottes@latmos.ipsl.fr>\n",
    "from itertools import product\n",
    "import matplotlib.pyplot as plt\n",
    "from matplotlib.colors import ListedColormap\n",
    "import numpy as np\n",
    "import pandas as pd\n",
    "import pandas_profiling as pp\n",
    "\n",
    "from sklearn import datasets\n",
    "from sklearn.decomposition import PCA\n",
    "from sklearn.manifold import TSNE\n",
    "\n",
    "from sklearn.neighbors import KNeighborsClassifier as KNN\n",
    "from sklearn.neighbors import DistanceMetric as DM"
   ]
  },
  {
   "cell_type": "code",
   "execution_count": 3,
   "metadata": {},
   "outputs": [],
   "source": [
    "from sklearn.metrics import confusion_matrix\n",
    "from sklearn.utils.multiclass import unique_labels\n",
    "\n",
    "# fonction d'affichage des matrices de confusion (copié/collé du site de scikit-learn)\n",
    "def plot_confusion_matrix(y_true, y_pred, classes,\n",
    "                          normalize=False,\n",
    "                          title=None,\n",
    "                          cmap=plt.cm.Blues,\n",
    "                          fontsize=16):\n",
    "    \"\"\"\n",
    "    This function printed and plots the confusion matrix.\n",
    "    Normalization can be applied by setting `normalize=True`.\n",
    "    \n",
    "    Attention : les classes commencent à zero\n",
    "    copier/coller d'un tutoriel sklearn?\n",
    "    \"\"\"\n",
    "    if not title:\n",
    "        if normalize:\n",
    "            title = 'Normalized confusion matrix'\n",
    "        else:\n",
    "            title = 'Confusion matrix, without normalization'\n",
    "\n",
    "    # suppose que les classes sont numerotees à partir de 0\n",
    "    \n",
    "    # Compute confusion matrix\n",
    "    cm = confusion_matrix(y_true, y_pred)\n",
    "    # Only use the labels that appear in the data\n",
    "    classes = [ classes[i] for i in unique_labels(y_true, y_pred)]\n",
    "    if normalize:\n",
    "        cm = cm.astype('float') / cm.sum(axis=1)[:, np.newaxis]\n",
    "        #print(\"Normalized confusion matrix\")\n",
    "    #else:\n",
    "    #    print('Confusion matrix, without normalization')\n",
    "\n",
    "    #print(cm)\n",
    "\n",
    "    #fig, ax = plt.subplots()\n",
    "    ax = plt.gca()\n",
    "    im = ax.imshow(cm, interpolation='nearest', cmap=cmap)\n",
    "    #ax.figure.colorbar(im, ax=ax)\n",
    "    # We want to show all ticks...\n",
    "    ax.set(xticks=np.arange(cm.shape[1]),\n",
    "           yticks=np.arange(cm.shape[0])\n",
    "           # ... and label them with the respective list entries\n",
    "           #xticklabels=classes, yticklabels=classes\n",
    "           #title=title,\n",
    "           #ylabel='True label',\n",
    "           #xlabel='Predicted label'\n",
    "          )\n",
    "    ax.set_title(title,fontsize=fontsize)\n",
    "    ax.set_xlabel('Predicted label',fontsize=fontsize)\n",
    "    ax.set_xticklabels(classes,fontsize=fontsize)\n",
    "    ax.set_ylabel('True label',fontsize=fontsize)\n",
    "    ax.set_yticklabels(classes,fontsize=fontsize)\n",
    "    \n",
    "    ## Rotate the tick labels and set their alignment.\n",
    "    #plt.setp(ax.get_xticklabels(), rotation=45, ha=\"right\",\n",
    "    #         rotation_mode=\"anchor\",fontsize=fontsize)\n",
    "\n",
    "    # Loop over data dimensions and create text annotations.\n",
    "    fmt = '.2f' if normalize else 'd'\n",
    "    thresh = cm.max() / 2.\n",
    "    for i in range(cm.shape[0]):\n",
    "        for j in range(cm.shape[1]):\n",
    "            ax.text(j, i, format(cm[i, j], fmt),\n",
    "                    ha=\"center\", va=\"center\",fontsize=fontsize,\n",
    "                    color=\"white\" if cm[i, j] > thresh else \"black\")\n",
    "    return ax"
   ]
  },
  {
   "cell_type": "markdown",
   "metadata": {},
   "source": [
    "### 2) Prise en main de l'algorithme des K plus proches voisins"
   ]
  },
  {
   "cell_type": "markdown",
   "metadata": {},
   "source": [
    "L'objectif de cette partie est la prise en main de l'algorithme des kpp ainsi que sa sensibilité à ses différents paramètres.    \n",
    "On pourra ainsi considérer : \n",
    " - Impact du nombre de voisins considérés sur les performances de l'algorithme.\n",
    " - Impact de la distance et du système de poids lors du vote."
   ]
  },
  {
   "cell_type": "markdown",
   "metadata": {},
   "source": [
    "#### Chargement des données "
   ]
  },
  {
   "cell_type": "markdown",
   "metadata": {},
   "source": [
    "- le fichier DATA1_app.txt (resp. DATA1_test.txt) contient L'ensemble de données d’apprentissage (resp. de test) en dimension 2 labellisées en 2 classes nécéssaire pour ce deuxième excercice.\n",
    "- les deux premières dimensions Dim 1 et 2 contiennent la description des individus tandis que la troisième variable contient les étiquettes (classes/ labels)\n",
    "\n",
    "Quelques précisions :\n",
    "- l'ensemble d'apprentissage(resp. de test) comprend 132 (resp. 99) exemples au total ."
   ]
  },
  {
   "cell_type": "code",
   "execution_count": 4,
   "metadata": {},
   "outputs": [],
   "source": [
    "# pour charger les données, on recommande l'utilisation de pandas \n",
    "# qui est en général utilsé pour une description statistiques rapide des données \n",
    "# (ici, cela ne sera pas nécessaire)\n",
    "# néanmoins l'utilisation d'autre chose reste votre prérogative\n",
    "(data,target) = datasets.load_iris(return_X_y=True)\n",
    "nomDesVariables = ['hauteur sépale','largeur sépale','hauteur pétale','largeur pétale']\n",
    "# hauteur et la largeur du sépale (HS et LS), la hauteur et la largeur du pétale (HP et LP)."
   ]
  },
  {
   "cell_type": "markdown",
   "metadata": {},
   "source": [
    "**Attention, il y a un doublon dans les donnees.**"
   ]
  },
  {
   "cell_type": "code",
   "execution_count": 5,
   "metadata": {},
   "outputs": [],
   "source": [
    "a,ind,ind_rev=np.unique(data,axis=0,return_index=True,return_inverse=True)\n",
    "data[np.where(ind_rev==76),:], target[np.where(ind_rev==76)]\n",
    "# On supprime le doublon\n",
    "# \n",
    "data = data[ind]\n",
    "target = target[ind]"
   ]
  },
  {
   "cell_type": "markdown",
   "metadata": {},
   "source": [
    "##### melange des données "
   ]
  },
  {
   "cell_type": "code",
   "execution_count": 6,
   "metadata": {},
   "outputs": [],
   "source": [
    "np.random.seed(1)\n",
    "indices = np.random.permutation(len(target))\n",
    "data = data[indices,:]\n",
    "target = target[indices]"
   ]
  },
  {
   "cell_type": "code",
   "execution_count": 7,
   "metadata": {},
   "outputs": [],
   "source": [
    "propotion_appTest = 1/3\n",
    "n_app = np.floor(propotion_appTest*len(data)).astype(int)\n",
    "data_app = data[:n_app]\n",
    "target_app = target[:n_app]\n",
    "data_test = data[n_app:]\n",
    "target_test = target[n_app:]"
   ]
  },
  {
   "cell_type": "code",
   "execution_count": 8,
   "metadata": {},
   "outputs": [],
   "source": [
    "classes = np.unique(target)"
   ]
  },
  {
   "cell_type": "code",
   "execution_count": null,
   "metadata": {},
   "outputs": [],
   "source": []
  },
  {
   "cell_type": "code",
   "execution_count": 9,
   "metadata": {},
   "outputs": [],
   "source": [
    "tmp = pd.DataFrame(data_app)\n",
    "tmp['target']=target_app"
   ]
  },
  {
   "cell_type": "code",
   "execution_count": 10,
   "metadata": {},
   "outputs": [],
   "source": [
    "def detect_outlier_quartile(data,target=\"target\"):\n",
    "    threshold=3\n",
    "    for column in data.columns:\n",
    "        if column!=target: \n",
    "            quantile1, quantile3= np.percentile(data[column],[25,75])\n",
    "            mean = np.mean(data[column])\n",
    "            std =np.std(data[column])\n",
    "            z_score= (data[column]-mean)/std\n",
    "            data = data[np.abs(z_score)<threshold]\n",
    "        #column = list(filter(lambda x: (x < upper_bound_val),data))\n",
    "        #column = list(filter(lambda x: (x > lower_bound_val),data))\n",
    "    return data"
   ]
  },
  {
   "cell_type": "code",
   "execution_count": 11,
   "metadata": {},
   "outputs": [],
   "source": [
    "tes=pd.DataFrame()\n",
    "for x in tmp['target'].unique(): \n",
    "    vs = tmp[tmp['target']==x]\n",
    "    tes =pd.concat([tes,detect_outlier_quartile(vs)])"
   ]
  },
  {
   "cell_type": "code",
   "execution_count": 12,
   "metadata": {},
   "outputs": [],
   "source": [
    "#vrai\n",
    "data_app = tes.iloc[:,0:4]\n",
    "target_app = tes.iloc[:,-1]"
   ]
  },
  {
   "cell_type": "markdown",
   "metadata": {},
   "source": [
    "#### Classifieurs K-plus proches voisins :"
   ]
  },
  {
   "cell_type": "markdown",
   "metadata": {},
   "source": [
    "Le script ci-dessous compare des modèles Kppv appris avec plusieurs configurations en combinant les paramètres dans les trois listes suivantes : "
   ]
  },
  {
   "cell_type": "markdown",
   "metadata": {},
   "source": [
    "Pour chaque configuration, on profite de la faible dimension du problème pour afficher les frontières de décision et les vraies étiquettes labels pour visualiser les points mal classés.  "
   ]
  },
  {
   "cell_type": "markdown",
   "metadata": {},
   "source": [
    "### Apprentissage de differents classifieurs"
   ]
  },
  {
   "cell_type": "markdown",
   "metadata": {},
   "source": [
    "#### Apprentissage de classifieurs des k plus proches voisins dans différentes configurations"
   ]
  },
  {
   "cell_type": "code",
   "execution_count": 13,
   "metadata": {},
   "outputs": [],
   "source": [
    "# liste_n_neigbors donne le nombre de voisins considérés\n",
    "liste_n_neigbors=[1, 2, 3, 4, 5,7, 10]\n",
    "# liste_distances donne les distances considérées pour comparer deux points.\n",
    "liste_distances=[\"euclidean\"]\n",
    "# liste weights donne le système de pondération des voisins lors du vote. \n",
    "liste_weights=['uniform','']"
   ]
  },
  {
   "cell_type": "code",
   "execution_count": 14,
   "metadata": {},
   "outputs": [
    {
     "ename": "NameError",
     "evalue": "name 'pca' is not defined",
     "output_type": "error",
     "traceback": [
      "\u001b[0;31m---------------------------------------------------------------------------\u001b[0m",
      "\u001b[0;31mNameError\u001b[0m                                 Traceback (most recent call last)",
      "\u001b[0;32m<ipython-input-14-3317d047fc09>\u001b[0m in \u001b[0;36m<module>\u001b[0;34m\u001b[0m\n\u001b[1;32m      8\u001b[0m     \u001b[0mplt\u001b[0m\u001b[0;34m.\u001b[0m\u001b[0mplot\u001b[0m\u001b[0;34m(\u001b[0m\u001b[0mX_tsne\u001b[0m\u001b[0;34m[\u001b[0m\u001b[0mnp\u001b[0m\u001b[0;34m.\u001b[0m\u001b[0mwhere\u001b[0m\u001b[0;34m(\u001b[0m\u001b[0mtarget\u001b[0m\u001b[0;34m==\u001b[0m\u001b[0ml\u001b[0m\u001b[0;34m)\u001b[0m\u001b[0;34m,\u001b[0m\u001b[0;36m0\u001b[0m\u001b[0;34m]\u001b[0m\u001b[0;34m,\u001b[0m\u001b[0mX_tsne\u001b[0m\u001b[0;34m[\u001b[0m\u001b[0mnp\u001b[0m\u001b[0;34m.\u001b[0m\u001b[0mwhere\u001b[0m\u001b[0;34m(\u001b[0m\u001b[0mtarget\u001b[0m\u001b[0;34m==\u001b[0m\u001b[0ml\u001b[0m\u001b[0;34m)\u001b[0m\u001b[0;34m,\u001b[0m\u001b[0;36m1\u001b[0m\u001b[0;34m]\u001b[0m\u001b[0;34m,\u001b[0m\u001b[0mcolor\u001b[0m\u001b[0;34m[\u001b[0m\u001b[0ml\u001b[0m\u001b[0;34m]\u001b[0m\u001b[0;34m+\u001b[0m\u001b[0;34m'.'\u001b[0m\u001b[0;34m)\u001b[0m\u001b[0;34m\u001b[0m\u001b[0;34m\u001b[0m\u001b[0m\n\u001b[1;32m      9\u001b[0m \u001b[0;34m\u001b[0m\u001b[0m\n\u001b[0;32m---> 10\u001b[0;31m \u001b[0mX_app_pca\u001b[0m \u001b[0;34m=\u001b[0m \u001b[0mpca\u001b[0m\u001b[0;34m.\u001b[0m\u001b[0mtransform\u001b[0m\u001b[0;34m(\u001b[0m\u001b[0mdata_app\u001b[0m\u001b[0;34m)\u001b[0m\u001b[0;34m\u001b[0m\u001b[0;34m\u001b[0m\u001b[0m\n\u001b[0m\u001b[1;32m     11\u001b[0m \u001b[0mX_test_pca\u001b[0m \u001b[0;34m=\u001b[0m \u001b[0mpca\u001b[0m\u001b[0;34m.\u001b[0m\u001b[0mtransform\u001b[0m\u001b[0;34m(\u001b[0m\u001b[0mdata_test\u001b[0m\u001b[0;34m)\u001b[0m\u001b[0;34m\u001b[0m\u001b[0;34m\u001b[0m\u001b[0m\n",
      "\u001b[0;31mNameError\u001b[0m: name 'pca' is not defined"
     ]
    },
    {
     "data": {
      "image/png": "[encoded data removed]",
      "text/plain": [
       "<Figure size 432x288 with 1 Axes>"
      ]
     },
     "metadata": {
      "needs_background": "light"
     },
     "output_type": "display_data"
    }
   ],
   "source": [
    "#pca = PCA(n_components=2)\n",
    "#pca.fit(data_app)\n",
    "tsne = TSNE(n_components=2, init='pca', random_state=0)\n",
    "X_tsne = tsne.fit_transform(data)\n",
    "labels = np.unique(target)\n",
    "color=['r','g','b']\n",
    "for l in labels:\n",
    "    plt.plot(X_tsne[np.where(target==l),0],X_tsne[np.where(target==l),1],color[l]+'.')\n",
    "\n",
    "X_app_pca = pca.transform(data_app)\n",
    "X_test_pca = pca.transform(data_test)"
   ]
  },
  {
   "cell_type": "code",
   "execution_count": null,
   "metadata": {},
   "outputs": [],
   "source": [
    "les_classifieurs  = list()\n",
    "lesConfigurations = list()\n",
    "for n_neighbors,  weights, dist in product(liste_n_neigbors, liste_weights, liste_distances):\n",
    "    lesConfigurations.append({'n_neighbors':n_neighbors,'weights':weights,'dist':dist})\n",
    "    les_classifieurs.append(KNN(n_neighbors,weights=weights,metric=dist,n_jobs=-1))\n",
    "    les_classifieurs[-1].fit(X_app_pca, target_app)"
   ]
  },
  {
   "cell_type": "markdown",
   "metadata": {},
   "source": [
    "# projection des donnees "
   ]
  },
  {
   "cell_type": "code",
   "execution_count": null,
   "metadata": {},
   "outputs": [],
   "source": [
    "pca = PCA(n_components=2)\n",
    "pca.fit(data_app)\n",
    "X_app_pca = pca.transform(data_app)\n",
    "X_test_pca = pca.transform(data_test)"
   ]
  },
  {
   "cell_type": "code",
   "execution_count": null,
   "metadata": {},
   "outputs": [],
   "source": [
    "import plotly.express as px\n",
    "fig = px.scatter(x=X_app_pca[:, 0],y= X_app_pca[:, 1],color=[str(x) for x in target_app])\n",
    "fig.show()"
   ]
  },
  {
   "cell_type": "code",
   "execution_count": null,
   "metadata": {},
   "outputs": [],
   "source": [
    "a = pd.DataFrame(X_app_pca)\n",
    "a['train']='train'\n",
    "b = pd.DataFrame(X_test_pca)\n",
    "b['train']='test'\n",
    "c = pd.concat([a,b])\n",
    "import seaborn as sns \n",
    "sns.pairplot(c,hue='train')"
   ]
  },
  {
   "cell_type": "code",
   "execution_count": null,
   "metadata": {},
   "outputs": [],
   "source": []
  },
  {
   "cell_type": "code",
   "execution_count": null,
   "metadata": {},
   "outputs": [],
   "source": [
    "# préparation du maillage \n",
    "h = .01  # pas du maillage\n",
    "# faire resortir les frontières de décision. on attribut une couleur\n",
    "# à chaque point du maillage [x_min, x_max]x[y_min, y_max].\n",
    "# préciser les limites du maillage sur la première dimension Dim 1\n",
    "x_min, x_max = X_app_pca[:, 0].min()-.1 , X_app_pca[:, 0].max()+.1\n",
    "# préciser les limites du maillage sur la première dimension Dim 1\n",
    "y_min, y_max = X_app_pca[:, 1].min()-.1 , X_app_pca[:, 1].max()+.1\n",
    "# génération du maillage\n",
    "xx, yy = np.meshgrid(np.arange(x_min, x_max, h),\n",
    "                     np.arange(y_min, y_max, h))\n"
   ]
  },
  {
   "cell_type": "code",
   "execution_count": null,
   "metadata": {},
   "outputs": [],
   "source": [
    "# créer la carte des couleurs utiliséesCreate color maps\n",
    "# Create color maps\n",
    "cmap_light = ListedColormap(['#FFAAAA', '#AAFFAA', '#AAAAFF'])\n",
    "cmap_bold = ListedColormap(['#FF0000', '#00FF00', '#0000FF'])\n",
    "\n",
    "error_rate = []\n",
    "\n",
    "figure = plt.figure(figsize=(28, 48))\n",
    "for  i, knn in enumerate(les_classifieurs):\n",
    "    score = knn.score(X_test_pca, target_test)\n",
    "    pred_i = knn.predict(X_test_pca)\n",
    "    error_rate.append(np.mean(pred_i != target_test))\n",
    "    configuration = lesConfigurations[i]\n",
    "    Z = knn.predict(np.c_[xx.ravel(), yy.ravel()])\n",
    "    Z = Z.reshape(xx.shape)\n",
    "    #\n",
    "    # affichage\n",
    "    ax=plt.subplot(8,4,i+1)\n",
    "    # # carte de classification\n",
    "    ax.pcolormesh(xx, yy, Z, cmap=cmap_light)\n",
    "    # points de l'apprentissage\n",
    "    ax.scatter(X_app_pca[:, 0], X_app_pca[:, 1], c=target_app,\n",
    "               cmap=cmap_bold, edgecolor='k', s=50,alpha=.1)\n",
    "    # points de test\n",
    "    ax.scatter(X_test_pca[:, 0], X_test_pca[:, 1], c=target_test,\n",
    "               cmap=cmap_bold, edgecolor=None, s=10)\n",
    "    plt.xlim(xx.min(), xx.max())\n",
    "    plt.ylim(yy.min(), yy.max())\n",
    "    plt.xlabel('Dim 1',fontsize=16)\n",
    "    plt.ylabel('Dim 2 ',fontsize=16)\n",
    "    plt.title(\"(k={0},dist={1},weights={2})\".format(configuration['n_neighbors'],\n",
    "                                                    configuration['dist'],\n",
    "                                                    configuration['weights']),\n",
    "              fontsize=16)\n",
    "    ax.text(xx.max() - .2, yy.min() + .2, ('Performance = %.2f' % score).lstrip('0'),\n",
    "            size=15, horizontalalignment='right')\n"
   ]
  },
  {
   "cell_type": "code",
   "execution_count": null,
   "metadata": {},
   "outputs": [],
   "source": []
  },
  {
   "cell_type": "markdown",
   "metadata": {},
   "source": [
    "#### Affichage des matrices de confusion pour chacun des classifieurs (app)"
   ]
  },
  {
   "cell_type": "code",
   "execution_count": null,
   "metadata": {},
   "outputs": [],
   "source": [
    "# créer la carte des couleurs utiliséesCreate color maps\n",
    "# Create color maps\n",
    "cmap_light = ListedColormap(['#FFAAAA', '#AAFFAA', '#AAAAFF'])\n",
    "cmap_bold = ListedColormap(['#FF0000', '#00FF00', '#0000FF'])\n",
    "\n",
    "figure = plt.figure(figsize=(28, 48))\n",
    "for  i, knn in enumerate(les_classifieurs):\n",
    "    score = knn.score(X_app_pca, target_app)\n",
    "    configuration = lesConfigurations[i]\n",
    "    predict_app = knn.predict(X_app_pca)\n",
    "    #\n",
    "    # affichage\n",
    "    ax=plt.subplot(8,4,i+1)\n",
    "    # titre\n",
    "    titre = \"(k={0},dist={1},weights={2})\".format(configuration['n_neighbors'],\n",
    "                                                    configuration['dist'],\n",
    "                                                    configuration['weights'])\n",
    "    # matrice de confusion\n",
    "    plot_confusion_matrix(target_app, predict_app, classes,\n",
    "                          title=titre,fontsize=24)\n",
    "plt.tight_layout()"
   ]
  },
  {
   "cell_type": "markdown",
   "metadata": {},
   "source": [
    "#### Affichage des matrices de confusion pour chacun des classifieurs (test)"
   ]
  },
  {
   "cell_type": "code",
   "execution_count": null,
   "metadata": {},
   "outputs": [],
   "source": [
    "# créer la carte des couleurs utiliséesCreate color maps\n",
    "# Create color maps\n",
    "cmap_light = ListedColormap(['#FFAAAA', '#AAFFAA', '#AAAAFF'])\n",
    "cmap_bold = ListedColormap(['#FF0000', '#00FF00', '#0000FF'])\n",
    "\n",
    "figure = plt.figure(figsize=(28, 48))\n",
    "for  i, knn in enumerate(les_classifieurs):\n",
    "    score = knn.score(X_test_pca, target_test)\n",
    "    configuration = lesConfigurations[i]\n",
    "    predict_test = knn.predict(X_test_pca)\n",
    "    #\n",
    "    # affichage\n",
    "    ax=plt.subplot(8,4,i+1)\n",
    "    # titre\n",
    "    titre = \"(k={0},dist={1},weights={2})\".format(configuration['n_neighbors'],\n",
    "                                                    configuration['dist'],\n",
    "                                                    configuration['weights'])\n",
    "    # matrice de confusion\n",
    "    plot_confusion_matrix(target_test, predict_test, classes,\n",
    "                          title=titre,fontsize=24)\n",
    "plt.tight_layout()"
   ]
  },
  {
   "cell_type": "markdown",
   "metadata": {},
   "source": [
    "***\n",
    "**On est jamais mieux servi que par soi-même.**  \n",
    "**If you want something done right, do it yourself.**\n",
    "\n",
    "[scipy](https://www.scipy.org/) - [pandas](https://pandas.pydata.org/) - [Numpy and Scipy](https://docs.scipy.org/doc/) - [matplotlib](https://matplotlib.org/) - [scikit-learn](http://scikit-learn.org/stable/) - [seaborn](https://seaborn.pydata.org/)"
   ]
  }
 ],
 "metadata": {
  "kernelspec": {
   "display_name": "Python (myenv)",
   "language": "python",
   "name": "ds"
  },
  "language_info": {
   "codemirror_mode": {
    "name": "ipython",
    "version": 3
   },
   "file_extension": ".py",
   "mimetype": "text/x-python",
   "name": "python",
   "nbconvert_exporter": "python",
   "pygments_lexer": "ipython3",
   "version": "3.6.12"
  }
 },
 "nbformat": 4,
 "nbformat_minor": 4
}
